{
  "nbformat": 4,
  "nbformat_minor": 0,
  "metadata": {
    "colab": {
      "provenance": [],
      "collapsed_sections": [
        "n60p3Xjd1Gf3",
        "2iNbiZuQE_KQ",
        "9jpWr3Q2cFaZ",
        "3ZtB2eS7x4zU",
        "cnsRItvq-fp5",
        "4LYAuksKo86W",
        "PS92DClxCQpq",
        "833_elwU1Vum",
        "VI8RVTTmCopM"
      ]
    },
    "kernelspec": {
      "name": "python3",
      "display_name": "Python 3"
    },
    "language_info": {
      "name": "python"
    },
    "accelerator": "GPU",
    "gpuClass": "standard"
  },
  "cells": [
    {
      "cell_type": "markdown",
      "source": [
        "## 33 WORRCKFLOW\n",
        "https://www.youtube.com/watch?v=V_xro1bcAuA&t=4h17m32s\n",
        "\n",
        "ONE OF MANTY POSIBLE WORK-FLOWS\n",
        "https://www.learnpytorch.io/01_pytorch_workflow/\n",
        "\n",
        "1. **PREPARE DATA**\t\n",
        "Data can be almost anything but to get started we're going to create a simple straight line\n",
        "....data preparation include data preprocessing, profiling, cleansing, validation and transformation.\n",
        "2. **BUILD MODEL**\t\n",
        "Here we'll create a model to learn patterns in the data, we'll also choose a loss function, optimizer and build a training loop.\n",
        "3. **TRAIN**\t\n",
        "Fitting the model to data\tWe've got data and a model, now let's let the model (try to) find patterns in the (training) data.\n",
        "4. **EVALUATE**\t\n",
        "Making predictions and evaluating a model (inference)\n",
        "Our model's found patterns in the data, let's compare its findings to the actual (testing) data.\n",
        "5. **SAVE & LOAD**\t\n",
        "You may want to use your model elsewhere, or come back to it later, here we'll cover that.\n"
      ],
      "metadata": {
        "id": "n60p3Xjd1Gf3"
      }
    },
    {
      "cell_type": "code",
      "source": [
        "what_we_cover={ 1: \"data prepare & load\" ,2:\"build model\",\n",
        "               3:\"(training) fit to data\", 4:\"(inference)evaluate&predictt model\", 5:\"load&save\"}\n",
        "what_we_cover"
      ],
      "metadata": {
        "colab": {
          "base_uri": "https://localhost:8080/"
        },
        "id": "mDVeGIDG6hTw",
        "outputId": "9c47e7fc-57ab-41fc-f9e0-bd3f5ffe05af"
      },
      "execution_count": null,
      "outputs": [
        {
          "output_type": "execute_result",
          "data": {
            "text/plain": [
              "{1: 'data prepare & load',\n",
              " 2: 'build model',\n",
              " 3: '(training) fit to data',\n",
              " 4: '(inference)evaluate&predictt model',\n",
              " 5: 'load&save'}"
            ]
          },
          "metadata": {},
          "execution_count": 1
        }
      ]
    },
    {
      "cell_type": "markdown",
      "source": [
        "https://pytorch.org/docs/stable/nn.html"
      ],
      "metadata": {
        "id": "V9ZknM9dCiFK"
      }
    },
    {
      "cell_type": "code",
      "execution_count": null,
      "metadata": {
        "colab": {
          "base_uri": "https://localhost:8080/"
        },
        "id": "tc-4-dCj0nsJ",
        "outputId": "b6d420b1-8a22-4feb-f03e-a0b299e22fe6"
      },
      "outputs": [
        {
          "output_type": "stream",
          "name": "stdout",
          "text": [
            "2.0.0+cu118\n"
          ]
        }
      ],
      "source": [
        "import torch\n",
        "from torch import nn # Pythorch's NeuralNet biuilding blocks (LAYES)\n",
        "import matplotlib.pyplot as plt\n",
        "\n",
        "print(torch.__version__) # 2.0\n",
        "# print(mpl.__version__)   # 3.7 # mpl... matplotlib\n"
      ]
    },
    {
      "cell_type": "markdown",
      "source": [
        "## 1 DATA PREPARATTION\n",
        "data can be anityng\n",
        "\n",
        "* Textfile\n",
        "* excel spreedsheet\n",
        "* multimedia: images, sound, video\n",
        "\n",
        "1 GET DATA INTTO NUMERICAL REPRESENTATION\n",
        "\n",
        "2 BUIL MODEL TO LEAN PATTERNS I DATA\n"
      ],
      "metadata": {
        "id": "2iNbiZuQE_KQ"
      }
    },
    {
      "cell_type": "markdown",
      "source": [
        "CREATTE KNOWN DATTA USING LINEAL REGRESION FORMULA \n",
        "\"regression model\" \n",
        "https://www.google.com/search?q=linear+regression+formula\n",
        "https://en.wikipedia.org/wiki/Regression_analysis#Linear_regression  \n",
        "https://towardsdatascience.com/linear-regression-explained-1b36f97b7572"
      ],
      "metadata": {
        "id": "_lrBpqC_J6Ky"
      }
    },
    {
      "cell_type": "code",
      "source": [],
      "metadata": {
        "id": "pJG_Vpv_E-RW"
      },
      "execution_count": null,
      "outputs": []
    },
    {
      "cell_type": "markdown",
      "source": [
        "Yi = F(Xi,B) + ei  \n",
        "Yi dependent variable  \n",
        "Xi independent variable  \n",
        "B  unknown parameter\n",
        "ei error term"
      ],
      "metadata": {
        "id": "5gPIdlSSJ5ic"
      }
    },
    {
      "cell_type": "markdown",
      "source": [
        "we'll use linear regresion to  make straight line with known parameters"
      ],
      "metadata": {
        "id": "IgfW4IKINCFf"
      }
    },
    {
      "cell_type": "code",
      "source": [
        "weight = 0.7\n",
        "bias = 0.3\n",
        "\n",
        "start = 0\n",
        "end =   1\n",
        "step = 0.02\n",
        "\n",
        "x = torch.arange(start,end,step) #.unsqueeze(dim=1) \n",
        "y = weight * x + bias\n",
        "x[:10],y[:10],len(x),len(y),x,y"
      ],
      "metadata": {
        "colab": {
          "base_uri": "https://localhost:8080/"
        },
        "id": "PrrDNcerFvlZ",
        "outputId": "ad894e7d-529f-447a-8cb7-d40d2a2a5b06"
      },
      "execution_count": null,
      "outputs": [
        {
          "output_type": "execute_result",
          "data": {
            "text/plain": [
              "(tensor([0.0000, 0.0200, 0.0400, 0.0600, 0.0800, 0.1000, 0.1200, 0.1400, 0.1600,\n",
              "         0.1800]),\n",
              " tensor([0.3000, 0.3140, 0.3280, 0.3420, 0.3560, 0.3700, 0.3840, 0.3980, 0.4120,\n",
              "         0.4260]),\n",
              " 50,\n",
              " 50,\n",
              " tensor([0.0000, 0.0200, 0.0400, 0.0600, 0.0800, 0.1000, 0.1200, 0.1400, 0.1600,\n",
              "         0.1800, 0.2000, 0.2200, 0.2400, 0.2600, 0.2800, 0.3000, 0.3200, 0.3400,\n",
              "         0.3600, 0.3800, 0.4000, 0.4200, 0.4400, 0.4600, 0.4800, 0.5000, 0.5200,\n",
              "         0.5400, 0.5600, 0.5800, 0.6000, 0.6200, 0.6400, 0.6600, 0.6800, 0.7000,\n",
              "         0.7200, 0.7400, 0.7600, 0.7800, 0.8000, 0.8200, 0.8400, 0.8600, 0.8800,\n",
              "         0.9000, 0.9200, 0.9400, 0.9600, 0.9800]),\n",
              " tensor([0.3000, 0.3140, 0.3280, 0.3420, 0.3560, 0.3700, 0.3840, 0.3980, 0.4120,\n",
              "         0.4260, 0.4400, 0.4540, 0.4680, 0.4820, 0.4960, 0.5100, 0.5240, 0.5380,\n",
              "         0.5520, 0.5660, 0.5800, 0.5940, 0.6080, 0.6220, 0.6360, 0.6500, 0.6640,\n",
              "         0.6780, 0.6920, 0.7060, 0.7200, 0.7340, 0.7480, 0.7620, 0.7760, 0.7900,\n",
              "         0.8040, 0.8180, 0.8320, 0.8460, 0.8600, 0.8740, 0.8880, 0.9020, 0.9160,\n",
              "         0.9300, 0.9440, 0.9580, 0.9720, 0.9860]))"
            ]
          },
          "metadata": {},
          "execution_count": 3
        }
      ]
    },
    {
      "cell_type": "markdown",
      "source": [
        "### Splitting data intto training & Testing"
      ],
      "metadata": {
        "id": "9jpWr3Q2cFaZ"
      }
    },
    {
      "cell_type": "code",
      "source": [
        "train_split = int( .8 *len(x) )\n",
        "\n",
        "x_train , y_train = x[:train_split] , y[:train_split]  #from begin to train\n",
        "x_test , y_test   = x[train_split:] , y[train_split:]   # from ttrain to end\n",
        "\n",
        "len(x_train),len(y_train),len(x_test),len(y_test)"
      ],
      "metadata": {
        "colab": {
          "base_uri": "https://localhost:8080/"
        },
        "id": "Ji5SpYHgOlfg",
        "outputId": "5910282e-5673-412f-d0fa-400169dab283"
      },
      "execution_count": null,
      "outputs": [
        {
          "output_type": "execute_result",
          "data": {
            "text/plain": [
              "(40, 40, 10, 10)"
            ]
          },
          "metadata": {},
          "execution_count": 4
        }
      ]
    },
    {
      "cell_type": "markdown",
      "source": [
        "## 37 FUNCTION TO VISUALIZE 4:46\n",
        "https://matplotlib.org/stable/api/_as_gen/matplotlib.pyplot.scatter.html\n",
        "\n",
        "https://www.youtube.com/watch?v=V_xro1bcAuA&t=4hs51m"
      ],
      "metadata": {
        "id": "3ZtB2eS7x4zU"
      }
    },
    {
      "cell_type": "code",
      "source": [
        "def plot_predictions(train_data  = x_train,  # input  train   #harcoded inputs\n",
        "                    train_labels = y_train,  # output train\n",
        "                    test_data    = x_test,   # input  test\n",
        "                    test_labels  = y_test,   # output test\n",
        "                    predictions  = None):\n",
        "  \"\"\" \n",
        "  Plotts training data,test data and comparesb preditction.\n",
        "  \"\"\"\n",
        "  plt.figure(figsize=(10,7))\n",
        "  \n",
        "  # training datta    axis               color blue size 4 \n",
        "  plt.scatter(train_data, train_labels, c=\"b\", s=4, label=\"train dara\")\n",
        "  \n",
        "  # training datta    axis               color green size 4 \n",
        "  plt.scatter(test_data, test_labels, c=\"g\", s=4, label=\"test dara\")\n",
        "\n",
        "  \n",
        "  if predictions is not None:         # red predictions\n",
        "    plt.scatter(test_data, predictions, c=\"r\", s=4, label=\"prediction\")\n",
        "\n",
        "  #show legend   \n",
        "  plt.legend(prop={\"size\":14});\n",
        "\"\"\" WARNING Errors in funcion calling \n",
        "  like plt.scatttter() \n",
        "  will not be catch at def but will at excecution and sown  as:\n",
        "  module 'matplotlib.pyplot' has no attribute 'scatttter'\n",
        " \"\"\""
      ],
      "metadata": {
        "id": "CwiOYiiUyV8B",
        "colab": {
          "base_uri": "https://localhost:8080/"
        },
        "outputId": "3a109675-6d94-4afd-8411-f04367f10419"
      },
      "execution_count": null,
      "outputs": [
        {
          "output_type": "execute_result",
          "data": {
            "text/plain": [
              "\" WARNING Errors in funcion calling \\n  like plt.scatttter() \\n  will not be catch at def but will at excecution and sown  as:\\n  module 'matplotlib.pyplot' has no attribute 'scatttter'\\n \""
            ],
            "application/vnd.google.colaboratory.intrinsic+json": {
              "type": "string"
            }
          },
          "metadata": {},
          "execution_count": 5
        }
      ]
    },
    {
      "cell_type": "code",
      "source": [],
      "metadata": {
        "id": "jRAWv1gR8kG5"
      },
      "execution_count": null,
      "outputs": []
    },
    {
      "cell_type": "code",
      "source": [
        "plot_predictions();"
      ],
      "metadata": {
        "colab": {
          "base_uri": "https://localhost:8080/"
        },
        "id": "dgrK7US03Gj3",
        "outputId": "90681e2c-2821-4126-f937-38676440a56f"
      },
      "execution_count": null,
      "outputs": [
        {
          "output_type": "display_data",
          "data": {
            "text/plain": [
              "<Figure size 1000x700 with 1 Axes>"
            ],
            "image/png": "[encoded data removed]"
          },
          "metadata": {}
        }
      ]
    },
    {
      "cell_type": "markdown",
      "source": [
        "## 38 CREATING OUR FIRST PYTHORCH MODEL. . . .for lineal regresion\n",
        "https://www.youtube.com/watch?v=V_xro1bcAuA&t=4hs53m22s  \n",
        "Objects & Class  https://realpython.com/python3-object-oriented-programming/\n",
        "\n",
        "https://pytorch.org/docs/stable/nn.html\n",
        "\n",
        "OUR MODEL:\n",
        "* starts random values --------> (weights & Bias)\n",
        "* compares to data and adjust (weights & Bias)\n",
        "\n",
        "https://pytorch.org/docs/stable/generated/torch.nn.Module.html"
      ],
      "metadata": {
        "id": "cnsRItvq-fp5"
      }
    },
    {
      "cell_type": "code",
      "source": [
        "# OUR NEURAL NET CLASS\n",
        "\n",
        "from torch import nn   #first pythorch model using nn.Module classes\n",
        "\n",
        "class LinearRegressionModel(nn.Module): # almost everithimg enherits(subclass) from nn.Module\n",
        "  def __init__(self):                   # constructor\n",
        "    super().__init__()                  # call patent constructor, set parameter weights from Random\n",
        "    self.weights = nn.Parameter(torch.randn(1,   # Parameter: a (subClass)tensor & module parameter\n",
        "                                            requires_grad=True,         # True    default\n",
        "                                            dtype=torch.float))         # float32 default\n",
        "    self.bias = nn.Parameter(torch.randn(1,\n",
        "                                         requires_grad=True,         #  needed for Gradient Descend\n",
        "                                         dtype=torch.float))         # (automatic) no need set up this (we do regardess)\n",
        "\n",
        "  def forward(self, x: torch.Tensor) -> torch.Tensor:   # <- \"x\" is the input data\n",
        "    return self.weights * x + self.bias # this is the linear regresion formula\n",
        "# any Module subclass requires foward imlementation\n",
        "# forwarrd : computation performed an every call\n",
        "# DO NOT CONFUSE WITH FORDWARD PROPAGATION (wich is only a case)\n",
        "                                          "
      ],
      "metadata": {
        "id": "DuhiPSxI_O3M"
      },
      "execution_count": null,
      "outputs": []
    },
    {
      "cell_type": "markdown",
      "source": [
        "## 39 WHAT'S HAPPENING IN OUR PYTHORCH REGRESION MODEL\n",
        "https://www.youtube.com/watch?v=V_xro1bcAuA&t=5h7m30s\n",
        "\n",
        "Jazon Jiao : Formula ( Linear Regression playlisy )  \n",
        "https://www.youtube.com/watch?v=3g-e2aiRfbU&list=PLjgDp12yUmpw7lsyCKzh11ppUFJfzOjfY  \n",
        "3B1B : Gradient descend & BackProp ( Neural Networks playlist )   \n",
        "https://www.youtube.com/watch?v=IHZwWFHWa-w&list=PLZHQObOWTQDNU6R1_67000Dx_ZCJB-3pi&index=3"
      ],
      "metadata": {
        "id": "4LYAuksKo86W"
      }
    },
    {
      "cell_type": "markdown",
      "source": [
        "## 40 IMPORTAT MODEL CLASSES\n",
        "https://www.youtube.com/watch?v=V_xro1bcAuA&t=5h13m44s"
      ],
      "metadata": {
        "id": "PS92DClxCQpq"
      }
    },
    {
      "cell_type": "markdown",
      "source": [
        "### Pyrhorch model buildong essentials\n",
        "\n",
        "*  ## **torch.nn**   \n",
        " contains all buildingf for computational graphs (N-Net is a computational graph)\n",
        "*  ## **torch.nn.Paraneter**  \n",
        "what parameters our module learns (offten PyTorch Layer from nn will sei it for us)\n",
        "*  ## **torch.nn.Module**  \n",
        "the base class for all neural network Modules, if you subclass you implement fordward()  \n",
        "*  ## **def forward()** \n",
        "all nn.modules subvlass requires overwrithing this wich defines the computtatuin to perform"
      ],
      "metadata": {
        "id": "833_elwU1Vum"
      }
    },
    {
      "cell_type": "code",
      "source": [],
      "metadata": {
        "id": "0kBkPcJKx8wc"
      },
      "execution_count": null,
      "outputs": []
    },
    {
      "cell_type": "markdown",
      "source": [
        "https://pytorch.org/tutorials/beginner/ptcheat.html  \n",
        "torch.utils.data.Dataset  \n",
        "torch.utils.data.DataLoader"
      ],
      "metadata": {
        "id": "i1OluV392K3A"
      }
    },
    {
      "cell_type": "markdown",
      "source": [
        "## 40 INSTANCE & INTERNALS OF OUR MODEL\n",
        "https://www.youtube.com/watch?v=V_xro1bcAuA&t=5h20m"
      ],
      "metadata": {
        "id": "AfcalD7ACPWW"
      }
    },
    {
      "cell_type": "markdown",
      "source": [],
      "metadata": {
        "id": "fnLUUCgCFd5y"
      }
    },
    {
      "cell_type": "markdown",
      "source": [
        "torchvision.transforms\n",
        "torch.utils.tensorboard\n",
        "torch.utils.data.Dataset\n",
        "torch.utils.data.Dataoader"
      ],
      "metadata": {
        "id": "Vn-fkbPeFYgv"
      }
    },
    {
      "cell_type": "code",
      "source": [
        "torch.manual_seed(42)\n",
        "\n",
        "#istane our class of nn.Modue\n",
        "model_0 = LinearRegressionModel()\n",
        "\n",
        "list(model_0.parameters())"
      ],
      "metadata": {
        "colab": {
          "base_uri": "https://localhost:8080/"
        },
        "id": "hQKj304IHFjC",
        "outputId": "c82682fd-11a2-4b72-9a4e-f6c7684a9949"
      },
      "execution_count": null,
      "outputs": [
        {
          "output_type": "execute_result",
          "data": {
            "text/plain": [
              "[Parameter containing:\n",
              " tensor([0.3367], requires_grad=True),\n",
              " Parameter containing:\n",
              " tensor([0.1288], requires_grad=True)]"
            ]
          },
          "metadata": {},
          "execution_count": 8
        }
      ]
    },
    {
      "cell_type": "code",
      "source": [
        "torch.randn(1)"
      ],
      "metadata": {
        "colab": {
          "base_uri": "https://localhost:8080/"
        },
        "id": "ZhfUQQM2HeSb",
        "outputId": "7eaa9f11-1746-4e5b-ddf9-60fea951cc9b"
      },
      "execution_count": null,
      "outputs": [
        {
          "output_type": "execute_result",
          "data": {
            "text/plain": [
              "tensor([0.2345])"
            ]
          },
          "metadata": {},
          "execution_count": 9
        }
      ]
    },
    {
      "cell_type": "code",
      "source": [
        "#list named prmeters\n",
        "model_0.state_dict()"
      ],
      "metadata": {
        "colab": {
          "base_uri": "https://localhost:8080/"
        },
        "id": "oRQOjOL5YVkF",
        "outputId": "217515ae-2129-42ee-98f5-d398cae1e524"
      },
      "execution_count": null,
      "outputs": [
        {
          "output_type": "execute_result",
          "data": {
            "text/plain": [
              "OrderedDict([('weights', tensor([0.3367])), ('bias', tensor([0.1288]))])"
            ]
          },
          "metadata": {},
          "execution_count": 10
        }
      ]
    },
    {
      "cell_type": "code",
      "source": [
        "# we wnt our model to predict \n",
        "# our known (previously made) values\n",
        "weight, bias"
      ],
      "metadata": {
        "colab": {
          "base_uri": "https://localhost:8080/"
        },
        "id": "p_Mxpc3QaZth",
        "outputId": "8bdeccc4-787e-4fa0-97d6-06c1702f74d2"
      },
      "execution_count": null,
      "outputs": [
        {
          "output_type": "execute_result",
          "data": {
            "text/plain": [
              "(0.7, 0.3)"
            ]
          },
          "metadata": {},
          "execution_count": 11
        }
      ]
    },
    {
      "cell_type": "markdown",
      "source": [
        "## 42 MAKING PREDICTIONS WITH TORCH INFERENCE  \n",
        "evaluating our model prediction capavility running the foward() method"
      ],
      "metadata": {
        "id": "aeCsuD8XbUwX"
      }
    },
    {
      "cell_type": "code",
      "source": [
        "x_test ,y_test #  input , expected output"
      ],
      "metadata": {
        "colab": {
          "base_uri": "https://localhost:8080/"
        },
        "id": "QHf0kAdndQOj",
        "outputId": "5382cbb9-0421-48ea-e0af-d73217488828"
      },
      "execution_count": null,
      "outputs": [
        {
          "output_type": "execute_result",
          "data": {
            "text/plain": [
              "(tensor([0.8000, 0.8200, 0.8400, 0.8600, 0.8800, 0.9000, 0.9200, 0.9400, 0.9600,\n",
              "         0.9800]),\n",
              " tensor([0.8600, 0.8740, 0.8880, 0.9020, 0.9160, 0.9300, 0.9440, 0.9580, 0.9720,\n",
              "         0.9860]))"
            ]
          },
          "metadata": {},
          "execution_count": 12
        }
      ]
    },
    {
      "cell_type": "code",
      "source": [
        "y_preds = model_0(x_test)\n",
        "y_preds"
      ],
      "metadata": {
        "colab": {
          "base_uri": "https://localhost:8080/"
        },
        "id": "zCjpn5ekkHWk",
        "outputId": "eaf87dc5-0955-4c99-8ab9-b87be4e32edd"
      },
      "execution_count": null,
      "outputs": [
        {
          "output_type": "execute_result",
          "data": {
            "text/plain": [
              "tensor([0.3982, 0.4049, 0.4116, 0.4184, 0.4251, 0.4318, 0.4386, 0.4453, 0.4520,\n",
              "        0.4588], grad_fn=<AddBackward0>)"
            ]
          },
          "metadata": {},
          "execution_count": 13
        }
      ]
    },
    {
      "cell_type": "code",
      "source": [
        "\"\"\" CHECK FOR SINTAXIS ERROR IN OUR MODEL 5:34:30 (model_0)\n",
        "NotImplementedError                       Traceback (most recent call last)\n",
        "<ipython-input-34-a7318a00f533> in <cell line: 2>()\n",
        "      1 # make predictions with model giving outr x_test as input\n",
        "      2 with torch.inference_mode():\n",
        "----> 3   y_preds = model_0(x_test)  #model_0.foward(x_test)\n",
        "      4 \n",
        "_forward_unimplemented(self, *input)\n",
        "    361         registered hooks while the latter silently ignores them.\n",
        "    362\n",
        "--> 363     raise NotImplementedError(f\"Module [{type(self).__name__}] is missing the required \\\"forward\\\" function\")\n",
        "\"\"\"\n",
        "\n",
        "# make predictions with model giving outr x_test as input\n",
        "with torch.inference_mode(): # inference disables traning features like gradients\n",
        "                             # less data to pocess while evaluating the model \n",
        "  y_preds = model_0(x_test)  # model_0.foward(x_test)\n",
        "\n",
        "y_preds , y_test, y_preds-y_test # result of our model\n",
        "\n",
        "\n",
        "# with torch.no_grad()  # is similar to inference but old & slow\n",
        "\n"
      ],
      "metadata": {
        "colab": {
          "base_uri": "https://localhost:8080/"
        },
        "id": "nY3kLNB7aoP7",
        "outputId": "995150b7-8d8b-4430-b37f-e17d55cb9ee7"
      },
      "execution_count": null,
      "outputs": [
        {
          "output_type": "execute_result",
          "data": {
            "text/plain": [
              "(tensor([0.3982, 0.4049, 0.4116, 0.4184, 0.4251, 0.4318, 0.4386, 0.4453, 0.4520,\n",
              "         0.4588]),\n",
              " tensor([0.8600, 0.8740, 0.8880, 0.9020, 0.9160, 0.9300, 0.9440, 0.9580, 0.9720,\n",
              "         0.9860]),\n",
              " tensor([-0.4618, -0.4691, -0.4764, -0.4836, -0.4909, -0.4982, -0.5054, -0.5127,\n",
              "         -0.5200, -0.5272]))"
            ]
          },
          "metadata": {},
          "execution_count": 14
        }
      ]
    },
    {
      "cell_type": "markdown",
      "source": [
        "INFERENCE MODE context manager:  \n",
        "DOC : https://pytorch.org/docs/stable/generated/torch.inference_mode.html  \n",
        "WHY IS FASTER :  https://twitter.com/PyTorch/status/1437838231505096708"
      ],
      "metadata": {
        "id": "T8o48kSOmxzZ"
      }
    },
    {
      "cell_type": "code",
      "source": [
        "plot_predictions(predictions = y_preds)"
      ],
      "metadata": {
        "colab": {
          "base_uri": "https://localhost:8080/",
          "height": 599
        },
        "id": "yrxT06CQi6mA",
        "outputId": "9edcb2e8-43d4-4a0a-c84a-070bf786d6fe"
      },
      "execution_count": null,
      "outputs": [
        {
          "output_type": "display_data",
          "data": {
            "text/plain": [
              "<Figure size 1000x700 with 1 Axes>"
            ],
            "image/png": "[encoded data removed]"
          },
          "metadata": {}
        }
      ]
    },
    {
      "cell_type": "markdown",
      "source": [
        "## 43 TRAINING A MODEL\n",
        "\n",
        "### our resultsare far off we need to traon to adjust the model\n",
        "Lets make a function thar evaluates the distance to de desired prediction  \n",
        "### We'll call it LOSS FUNCTION\n",
        "https://pytorch.org/docs/stable/nn.html#loss-functions  \n",
        "* nn.L1loss  MAE : Mean Abs Error\n",
        "* nnMSEloss  MAE^2\n",
        "\n",
        "\"loss function\" Error function for model prediction compared to a traning sampe  \n",
        "\"cost function\" Error funtion for all trainng set\n",
        "\n",
        "##OPTIMIZER  \n",
        "https://pytorch.org/docs/stable/optim.html\n",
        "\n",
        "## THING WE NEED TO TRAIN A MODEL (CHOOSE IMPLEMENTATION)\n",
        "\n",
        "* LOST FUNCTION  : error betewn expected & model prediction\n",
        "* OPTIMIZER : takes the loss and asjust models parameters\n",
        "to improve loss function\n",
        "*SPECIFIC TO PYTORCH :\n",
        "  - TRAINING LOOP \n",
        "  - TESTING  LOOP \n"
      ],
      "metadata": {
        "id": "mAA8bSGFp9gn"
      }
    },
    {
      "cell_type": "code",
      "source": [
        "list(model_0.parameters())"
      ],
      "metadata": {
        "colab": {
          "base_uri": "https://localhost:8080/"
        },
        "id": "-vSDnhfe0ve4",
        "outputId": "29da8fa1-5a70-4d94-8b24-6752a12f1257"
      },
      "execution_count": null,
      "outputs": [
        {
          "output_type": "execute_result",
          "data": {
            "text/plain": [
              "[Parameter containing:\n",
              " tensor([0.3367], requires_grad=True),\n",
              " Parameter containing:\n",
              " tensor([0.1288], requires_grad=True)]"
            ]
          },
          "metadata": {},
          "execution_count": 16
        }
      ]
    },
    {
      "cell_type": "markdown",
      "source": [
        "## 44 SETING A LOSS FUNCTION & OPTIMIZER"
      ],
      "metadata": {
        "id": "6ZpKyFt2kVEO"
      }
    },
    {
      "cell_type": "code",
      "source": [
        "# Check out our models parameters\n",
        "# parameter : values of model that set itseld (weight,bias,etc)\n",
        "model_0.state_dict()"
      ],
      "metadata": {
        "colab": {
          "base_uri": "https://localhost:8080/"
        },
        "id": "nF3R5xjf1MqY",
        "outputId": "6c06e6b5-920a-404a-e66f-2358122bd406"
      },
      "execution_count": null,
      "outputs": [
        {
          "output_type": "execute_result",
          "data": {
            "text/plain": [
              "OrderedDict([('weights', tensor([0.3367])), ('bias', tensor([0.1288]))])"
            ]
          },
          "metadata": {},
          "execution_count": 17
        }
      ]
    },
    {
      "cell_type": "code",
      "source": [
        "# set LOSS FUNCTION : L1 Mean Absolute Error of samples\n",
        "loss_fn = nn.L1Loss() # MESURE ERROR\n",
        "\n",
        "# set OPTIMIZER : (SGD) Stocastic(Rand) Grad(change-direction) Descend \n",
        "# SGD and Adam are popular optimizers   #CORRECT ERROR\n",
        "optimizer = torch.optim.SGD(params=model_0.parameters(),\n",
        "                            lr=0.01)  # Learning rate : very importsnt hyperparameter (we set it) 0.0001 default"
      ],
      "metadata": {
        "id": "Fmn1gCtGbxeO"
      },
      "execution_count": null,
      "outputs": []
    },
    {
      "cell_type": "markdown",
      "source": [
        "## 45 TRAINING LOOPS  6h2m22s\n",
        "\n",
        "0 : Loop trough the data  \n",
        "1 : Fordward pass - Propgate trough net \n",
        "2 : Calculate the loss - Compare prediction to label  \n",
        "3 : Optimize Zero grad  \n",
        "4 : Loss Backward - (BACK PROP) calculate the gradients of each of parameers with respect to loss  \n",
        "5 : Optimizer Step - (GRADIENT DESCEND)Use the optimizer to adjust our models parameters to improve, reduce loss \n"
      ],
      "metadata": {
        "id": "UKtd0shXnxip"
      }
    },
    {
      "cell_type": "code",
      "source": [
        "model_0.eval()\n",
        "with torch.inference_mode():\n",
        "  list(model_0.parameters())"
      ],
      "metadata": {
        "id": "bhqMh30Jylr0"
      },
      "execution_count": null,
      "outputs": []
    },
    {
      "cell_type": "code",
      "source": [
        "####################### TRAINING LOOP ############################\n",
        "\n",
        "torch.manual_seed(42)\n",
        "# 5:54:00 <---we start coding this\n",
        "\n",
        "# An EPOCH is one loop trough the training data\n",
        "epochs = 200 # a hyperparameter       6:49:00 : change epoch 1-> 100\n",
        "\n",
        "# track progress  (to experiment & compare) 7:05:00\n",
        "epoch_count = []\n",
        "loss_values = []\n",
        "test_loss_values = []\n",
        "\n",
        "\n",
        "# 0 LOOP trough data and do all training steps\n",
        "for epoch in range (epochs):\n",
        "  # set the model to training mode\n",
        "  model_0.train() # torch train mode sets all the parameters to require gradients\n",
        "  \n",
        "  #1 FORWARD PASS   (load the data trough model)\n",
        "  y_pred = model_0(x_train)\n",
        "  \n",
        "  #2 calc the LOSS\n",
        "  loss = loss_fn(y_pred, y_train) # input, target label\n",
        "  # print(f\"Loss {loss}\")\n",
        "  \n",
        "  #3 OPTIMIZE ZEROGRAD  (reset gradients)\n",
        "  optimizer.zero_grad() #reset to avoid acumulation due torch optimisation\n",
        "\n",
        "  #4 BACK-PROP the Loss\n",
        "  loss.backward() \n",
        "\n",
        "  #5 STEP OPTIMIZER\n",
        "  optimizer.step() #turns off settings not nedded for evaluation (dropout/batch-norm layers)\n",
        "\n",
        "  ################# TESTING LOOP ################################################### \n",
        "  model_0.eval()              # torch eval  mode  6:17:21s\n",
        "  with torch.inference_mode():\n",
        "    # do the forward pass\n",
        "    test_pred = model_0(x_test)\n",
        "    #calcuate the loss\n",
        "    test_loss = loss_fn(test_pred, y_test)\n",
        "  if not ( epoch % 5 ):\n",
        "\n",
        "    epoch_count.append(epoch)\n",
        "    loss_values.append(loss )\n",
        "    test_loss_values.append(test_loss)\n",
        "\n",
        "    print(f\"Epoch:{epoch} |Loss {loss} | Test loss {test_loss}\")     # show training progress\n",
        "    print (model_0.state_dict())                        # show model parameters\n",
        "# Print our model test"
      ],
      "metadata": {
        "id": "ujFmvnzbxBbv",
        "colab": {
          "base_uri": "https://localhost:8080/"
        },
        "outputId": "2384a978-71cd-4a24-84ae-178616f445a8"
      },
      "execution_count": null,
      "outputs": [
        {
          "output_type": "stream",
          "name": "stdout",
          "text": [
            "Epoch:0 |Loss 0.31288138031959534 | Test loss 0.48106518387794495\n",
            "OrderedDict([('weights', tensor([0.3406])), ('bias', tensor([0.1388]))])\n",
            "Epoch:5 |Loss 0.2552763521671295 | Test loss 0.41371020674705505\n",
            "OrderedDict([('weights', tensor([0.3601])), ('bias', tensor([0.1888]))])\n",
            "Epoch:10 |Loss 0.1976713240146637 | Test loss 0.3463551998138428\n",
            "OrderedDict([('weights', tensor([0.3796])), ('bias', tensor([0.2388]))])\n",
            "Epoch:15 |Loss 0.14006635546684265 | Test loss 0.27900025248527527\n",
            "OrderedDict([('weights', tensor([0.3991])), ('bias', tensor([0.2888]))])\n",
            "Epoch:20 |Loss 0.08908725529909134 | Test loss 0.21729660034179688\n",
            "OrderedDict([('weights', tensor([0.4184])), ('bias', tensor([0.3333]))])\n",
            "Epoch:25 |Loss 0.06395438313484192 | Test loss 0.17353470623493195\n",
            "OrderedDict([('weights', tensor([0.4361])), ('bias', tensor([0.3613]))])\n",
            "Epoch:30 |Loss 0.053148526698350906 | Test loss 0.14464017748832703\n",
            "OrderedDict([('weights', tensor([0.4512])), ('bias', tensor([0.3768]))])\n",
            "Epoch:35 |Loss 0.04819351062178612 | Test loss 0.12584610283374786\n",
            "OrderedDict([('weights', tensor([0.4639])), ('bias', tensor([0.3843]))])\n",
            "Epoch:40 |Loss 0.04543796554207802 | Test loss 0.11360953003168106\n",
            "OrderedDict([('weights', tensor([0.4748])), ('bias', tensor([0.3868]))])\n",
            "Epoch:45 |Loss 0.04343796148896217 | Test loss 0.10470950603485107\n",
            "OrderedDict([('weights', tensor([0.4848])), ('bias', tensor([0.3868]))])\n",
            "Epoch:50 |Loss 0.04167863354086876 | Test loss 0.09919948130846024\n",
            "OrderedDict([('weights', tensor([0.4938])), ('bias', tensor([0.3843]))])\n",
            "Epoch:55 |Loss 0.039933640509843826 | Test loss 0.09368947893381119\n",
            "OrderedDict([('weights', tensor([0.5028])), ('bias', tensor([0.3818]))])\n",
            "Epoch:60 |Loss 0.03818932920694351 | Test loss 0.08886633068323135\n",
            "OrderedDict([('weights', tensor([0.5116])), ('bias', tensor([0.3788]))])\n",
            "Epoch:65 |Loss 0.03647511452436447 | Test loss 0.08473004400730133\n",
            "OrderedDict([('weights', tensor([0.5202])), ('bias', tensor([0.3753]))])\n",
            "Epoch:70 |Loss 0.03476089984178543 | Test loss 0.0805937647819519\n",
            "OrderedDict([('weights', tensor([0.5288])), ('bias', tensor([0.3718]))])\n",
            "Epoch:75 |Loss 0.033043231815099716 | Test loss 0.07645749300718307\n",
            "OrderedDict([('weights', tensor([0.5373])), ('bias', tensor([0.3683]))])\n",
            "Epoch:80 |Loss 0.03132382780313492 | Test loss 0.07232122868299484\n",
            "OrderedDict([('weights', tensor([0.5459])), ('bias', tensor([0.3648]))])\n",
            "Epoch:85 |Loss 0.02960442565381527 | Test loss 0.06818496435880661\n",
            "OrderedDict([('weights', tensor([0.5545])), ('bias', tensor([0.3613]))])\n",
            "Epoch:90 |Loss 0.02788739837706089 | Test loss 0.06473556160926819\n",
            "OrderedDict([('weights', tensor([0.5629])), ('bias', tensor([0.3573]))])\n",
            "Epoch:95 |Loss 0.026173178106546402 | Test loss 0.06059930846095085\n",
            "OrderedDict([('weights', tensor([0.5715])), ('bias', tensor([0.3538]))])\n",
            "Epoch:100 |Loss 0.024458957836031914 | Test loss 0.05646304413676262\n",
            "OrderedDict([('weights', tensor([0.5800])), ('bias', tensor([0.3503]))])\n",
            "Epoch:105 |Loss 0.022739607840776443 | Test loss 0.052326757460832596\n",
            "OrderedDict([('weights', tensor([0.5886])), ('bias', tensor([0.3468]))])\n",
            "Epoch:110 |Loss 0.021020207554101944 | Test loss 0.04819049686193466\n",
            "OrderedDict([('weights', tensor([0.5972])), ('bias', tensor([0.3433]))])\n",
            "Epoch:115 |Loss 0.019300809130072594 | Test loss 0.04405422881245613\n",
            "OrderedDict([('weights', tensor([0.6058])), ('bias', tensor([0.3398]))])\n",
            "Epoch:120 |Loss 0.01758546568453312 | Test loss 0.04060482233762741\n",
            "OrderedDict([('weights', tensor([0.6141])), ('bias', tensor([0.3358]))])\n",
            "Epoch:125 |Loss 0.01587124727666378 | Test loss 0.036468543112277985\n",
            "OrderedDict([('weights', tensor([0.6227])), ('bias', tensor([0.3323]))])\n",
            "Epoch:130 |Loss 0.014155393466353416 | Test loss 0.03233227878808975\n",
            "OrderedDict([('weights', tensor([0.6313])), ('bias', tensor([0.3288]))])\n",
            "Epoch:135 |Loss 0.012435992248356342 | Test loss 0.028196018189191818\n",
            "OrderedDict([('weights', tensor([0.6399])), ('bias', tensor([0.3253]))])\n",
            "Epoch:140 |Loss 0.010716589167714119 | Test loss 0.024059748277068138\n",
            "OrderedDict([('weights', tensor([0.6485])), ('bias', tensor([0.3218]))])\n",
            "Epoch:145 |Loss 0.008997755125164986 | Test loss 0.020610356703400612\n",
            "OrderedDict([('weights', tensor([0.6568])), ('bias', tensor([0.3178]))])\n",
            "Epoch:150 |Loss 0.0072835334576666355 | Test loss 0.016474086791276932\n",
            "OrderedDict([('weights', tensor([0.6654])), ('bias', tensor([0.3143]))])\n",
            "Epoch:155 |Loss 0.005569315515458584 | Test loss 0.012337815947830677\n",
            "OrderedDict([('weights', tensor([0.6740])), ('bias', tensor([0.3108]))])\n",
            "Epoch:160 |Loss 0.0038517764769494534 | Test loss 0.008201557211577892\n",
            "OrderedDict([('weights', tensor([0.6826])), ('bias', tensor([0.3073]))])\n",
            "Epoch:165 |Loss 0.0021323717664927244 | Test loss 0.004065275192260742\n",
            "OrderedDict([('weights', tensor([0.6912])), ('bias', tensor([0.3038]))])\n",
            "Epoch:170 |Loss 0.008932482451200485 | Test loss 0.005023092031478882\n",
            "OrderedDict([('weights', tensor([0.6951])), ('bias', tensor([0.2993]))])\n",
            "Epoch:175 |Loss 0.0025885067880153656 | Test loss 0.008447891101241112\n",
            "OrderedDict([('weights', tensor([0.6990])), ('bias', tensor([0.3093]))])\n",
            "Epoch:180 |Loss 0.008932482451200485 | Test loss 0.005023092031478882\n",
            "OrderedDict([('weights', tensor([0.6951])), ('bias', tensor([0.2993]))])\n",
            "Epoch:185 |Loss 0.0025885067880153656 | Test loss 0.008447891101241112\n",
            "OrderedDict([('weights', tensor([0.6990])), ('bias', tensor([0.3093]))])\n",
            "Epoch:190 |Loss 0.008932482451200485 | Test loss 0.005023092031478882\n",
            "OrderedDict([('weights', tensor([0.6951])), ('bias', tensor([0.2993]))])\n",
            "Epoch:195 |Loss 0.0025885067880153656 | Test loss 0.008447891101241112\n",
            "OrderedDict([('weights', tensor([0.6990])), ('bias', tensor([0.3093]))])\n"
          ]
        }
      ]
    },
    {
      "cell_type": "code",
      "source": [
        "epoch_count, loss_values , test_loss_values"
      ],
      "metadata": {
        "colab": {
          "base_uri": "https://localhost:8080/"
        },
        "id": "UxSXigbNsHYZ",
        "outputId": "665ce354-704f-412e-9ba2-f45b61eac137"
      },
      "execution_count": null,
      "outputs": [
        {
          "output_type": "execute_result",
          "data": {
            "text/plain": [
              "([0,\n",
              "  5,\n",
              "  10,\n",
              "  15,\n",
              "  20,\n",
              "  25,\n",
              "  30,\n",
              "  35,\n",
              "  40,\n",
              "  45,\n",
              "  50,\n",
              "  55,\n",
              "  60,\n",
              "  65,\n",
              "  70,\n",
              "  75,\n",
              "  80,\n",
              "  85,\n",
              "  90,\n",
              "  95,\n",
              "  100,\n",
              "  105,\n",
              "  110,\n",
              "  115,\n",
              "  120,\n",
              "  125,\n",
              "  130,\n",
              "  135,\n",
              "  140,\n",
              "  145,\n",
              "  150,\n",
              "  155,\n",
              "  160,\n",
              "  165,\n",
              "  170,\n",
              "  175,\n",
              "  180,\n",
              "  185,\n",
              "  190,\n",
              "  195],\n",
              " [tensor(0.3129, grad_fn=<MeanBackward0>),\n",
              "  tensor(0.2553, grad_fn=<MeanBackward0>),\n",
              "  tensor(0.1977, grad_fn=<MeanBackward0>),\n",
              "  tensor(0.1401, grad_fn=<MeanBackward0>),\n",
              "  tensor(0.0891, grad_fn=<MeanBackward0>),\n",
              "  tensor(0.0640, grad_fn=<MeanBackward0>),\n",
              "  tensor(0.0531, grad_fn=<MeanBackward0>),\n",
              "  tensor(0.0482, grad_fn=<MeanBackward0>),\n",
              "  tensor(0.0454, grad_fn=<MeanBackward0>),\n",
              "  tensor(0.0434, grad_fn=<MeanBackward0>),\n",
              "  tensor(0.0417, grad_fn=<MeanBackward0>),\n",
              "  tensor(0.0399, grad_fn=<MeanBackward0>),\n",
              "  tensor(0.0382, grad_fn=<MeanBackward0>),\n",
              "  tensor(0.0365, grad_fn=<MeanBackward0>),\n",
              "  tensor(0.0348, grad_fn=<MeanBackward0>),\n",
              "  tensor(0.0330, grad_fn=<MeanBackward0>),\n",
              "  tensor(0.0313, grad_fn=<MeanBackward0>),\n",
              "  tensor(0.0296, grad_fn=<MeanBackward0>),\n",
              "  tensor(0.0279, grad_fn=<MeanBackward0>),\n",
              "  tensor(0.0262, grad_fn=<MeanBackward0>),\n",
              "  tensor(0.0245, grad_fn=<MeanBackward0>),\n",
              "  tensor(0.0227, grad_fn=<MeanBackward0>),\n",
              "  tensor(0.0210, grad_fn=<MeanBackward0>),\n",
              "  tensor(0.0193, grad_fn=<MeanBackward0>),\n",
              "  tensor(0.0176, grad_fn=<MeanBackward0>),\n",
              "  tensor(0.0159, grad_fn=<MeanBackward0>),\n",
              "  tensor(0.0142, grad_fn=<MeanBackward0>),\n",
              "  tensor(0.0124, grad_fn=<MeanBackward0>),\n",
              "  tensor(0.0107, grad_fn=<MeanBackward0>),\n",
              "  tensor(0.0090, grad_fn=<MeanBackward0>),\n",
              "  tensor(0.0073, grad_fn=<MeanBackward0>),\n",
              "  tensor(0.0056, grad_fn=<MeanBackward0>),\n",
              "  tensor(0.0039, grad_fn=<MeanBackward0>),\n",
              "  tensor(0.0021, grad_fn=<MeanBackward0>),\n",
              "  tensor(0.0089, grad_fn=<MeanBackward0>),\n",
              "  tensor(0.0026, grad_fn=<MeanBackward0>),\n",
              "  tensor(0.0089, grad_fn=<MeanBackward0>),\n",
              "  tensor(0.0026, grad_fn=<MeanBackward0>),\n",
              "  tensor(0.0089, grad_fn=<MeanBackward0>),\n",
              "  tensor(0.0026, grad_fn=<MeanBackward0>)],\n",
              " [tensor(0.4811),\n",
              "  tensor(0.4137),\n",
              "  tensor(0.3464),\n",
              "  tensor(0.2790),\n",
              "  tensor(0.2173),\n",
              "  tensor(0.1735),\n",
              "  tensor(0.1446),\n",
              "  tensor(0.1258),\n",
              "  tensor(0.1136),\n",
              "  tensor(0.1047),\n",
              "  tensor(0.0992),\n",
              "  tensor(0.0937),\n",
              "  tensor(0.0889),\n",
              "  tensor(0.0847),\n",
              "  tensor(0.0806),\n",
              "  tensor(0.0765),\n",
              "  tensor(0.0723),\n",
              "  tensor(0.0682),\n",
              "  tensor(0.0647),\n",
              "  tensor(0.0606),\n",
              "  tensor(0.0565),\n",
              "  tensor(0.0523),\n",
              "  tensor(0.0482),\n",
              "  tensor(0.0441),\n",
              "  tensor(0.0406),\n",
              "  tensor(0.0365),\n",
              "  tensor(0.0323),\n",
              "  tensor(0.0282),\n",
              "  tensor(0.0241),\n",
              "  tensor(0.0206),\n",
              "  tensor(0.0165),\n",
              "  tensor(0.0123),\n",
              "  tensor(0.0082),\n",
              "  tensor(0.0041),\n",
              "  tensor(0.0050),\n",
              "  tensor(0.0084),\n",
              "  tensor(0.0050),\n",
              "  tensor(0.0084),\n",
              "  tensor(0.0050),\n",
              "  tensor(0.0084)])"
            ]
          },
          "metadata": {},
          "execution_count": 21
        }
      ]
    },
    {
      "cell_type": "code",
      "source": [
        "#epoch_count, loss_values , test_loss_values\n",
        "with torch.inference_mode():\n",
        "  plt.plot(epoch_count,loss_values, label=\"Train loss\")\n",
        "  plt.plot(epoch_count, test_loss_values, label=\"Test loss\")\n",
        "  plt.title(\"Training and test loss curves\")\n",
        "  plt.ylabel(\"Loss\")\n",
        "  plt.xlabel(\"Epochs\")\n",
        "  plt.legend();\n",
        "\n",
        "# without inference_mode()\n",
        "# plt.plot(epoch_count, np.array(torch.tensor(loss_values).numpy()), label=\"Train loss\")"
      ],
      "metadata": {
        "colab": {
          "base_uri": "https://localhost:8080/",
          "height": 472
        },
        "id": "TBcu46fyprAN",
        "outputId": "3822ffac-5658-4291-9bac-dcfa0b8acdad"
      },
      "execution_count": null,
      "outputs": [
        {
          "output_type": "display_data",
          "data": {
            "text/plain": [
              "<Figure size 640x480 with 1 Axes>"
            ],
            "image/png": "[encoded data removed]"
          },
          "metadata": {}
        }
      ]
    },
    {
      "cell_type": "markdown",
      "source": [
        "## 47 REVIEING STEPS IN TRAINING LOOP 6:25 min\n",
        "Automatic gradient : 6:35:46\n",
        "https://pytorch.org/docs/stable/autograd.html"
      ],
      "metadata": {
        "id": "VI8RVTTmCopM"
      }
    },
    {
      "cell_type": "markdown",
      "source": [
        "## 48 RUNNING OUR 1st  RAINING LOOP EPOCH  6:40 "
      ],
      "metadata": {
        "id": "St8LZfCTIpC9"
      }
    },
    {
      "cell_type": "code",
      "source": [
        "model_0.state_dict()"
      ],
      "metadata": {
        "colab": {
          "base_uri": "https://localhost:8080/"
        },
        "id": "O4mj4KNRI6Vb",
        "outputId": "6e88602d-30e3-4bd9-fb0d-f74e49191521"
      },
      "execution_count": null,
      "outputs": [
        {
          "output_type": "execute_result",
          "data": {
            "text/plain": [
              "OrderedDict([('weights', tensor([0.6990])), ('bias', tensor([0.3093]))])"
            ]
          },
          "metadata": {},
          "execution_count": 23
        }
      ]
    },
    {
      "cell_type": "code",
      "source": [
        "weight, bias"
      ],
      "metadata": {
        "colab": {
          "base_uri": "https://localhost:8080/"
        },
        "id": "r05J7CCmPvGd",
        "outputId": "30c02080-a53c-4946-f563-9e118be53321"
      },
      "execution_count": null,
      "outputs": [
        {
          "output_type": "execute_result",
          "data": {
            "text/plain": [
              "(0.7, 0.3)"
            ]
          },
          "metadata": {},
          "execution_count": 24
        }
      ]
    },
    {
      "cell_type": "code",
      "source": [
        "with torch.inference_mode():      # inference disables traning features\n",
        "  y_preds_new = model_0(x_test)   #forward prop\n",
        "  \n",
        "plot_predictions(predictions = y_preds_new) #show improvement"
      ],
      "metadata": {
        "colab": {
          "base_uri": "https://localhost:8080/",
          "height": 599
        },
        "id": "7yP1ZYmCYQhG",
        "outputId": "3d81ecef-2bee-4c4d-fffd-b39b3a9f6f35"
      },
      "execution_count": null,
      "outputs": [
        {
          "output_type": "display_data",
          "data": {
            "text/plain": [
              "<Figure size 1000x700 with 1 Axes>"
            ],
            "image/png": "[encoded data removed]"
          },
          "metadata": {}
        }
      ]
    },
    {
      "cell_type": "markdown",
      "source": [
        "## 49 TESTING LOOP CODING 6:49:53\n",
        "## DROPOUT LAYERS\n",
        "https://www.baeldung.com/cs/ml-relu-dropout-layers  \n",
        "https://pytorch.org/docs/stable/generated/torch.nn.Dropout.html\n",
        "##BATCH NORMALISATION\n",
        "https://en.wikipedia.org/wiki/Batch_normalization#:~:text=December%202021),%2Dcentering%20and%20re%2Dscaling  \n",
        "https://pytorch.org/docs/stable/generated/torch.nn.BatchNorm2d.html"
      ],
      "metadata": {
        "id": "Q-rMxG_UZGRe"
      }
    },
    {
      "cell_type": "markdown",
      "source": [
        "## 51  SAVE PYTORCH MODEL 7:15:55\n",
        "3 main methods\n",
        "1. torch.save() - as a PyTorch object in Python pickle format   \n",
        "https://docs.python.org/3/library/pickle.html  \n",
        "2. torch.load() - load the saved PyTorch object\n",
        "3. torch.nn.Module.load_state_dict() - loads the model's saved state dictionary.  \n",
        "7:20:21"
      ],
      "metadata": {
        "id": "5XEZBKHNzYyZ"
      }
    },
    {
      "cell_type": "code",
      "source": [
        "# SAVE PyTorch MODEL\n",
        "from pathlib import Path\n",
        "\n",
        "# 1 : create models directory\n",
        "MODEL_PATH = Path(\"models\")\n",
        "MODEL_PATH.mkdir(parents=True, exist_ok=True)\n",
        "\n",
        "\n",
        "#2 : Create model save path\n",
        "MODEL_NAME = \"PyTorch_01_worklow.pth\"  # pt & pth file extensions\n",
        "MODEL_SAVE_PATH = MODEL_PATH / MODEL_NAME\n",
        "\n",
        "# Showing how we save the model\n",
        "print(f\"Saving model to : {MODEL_SAVE_PATH}\")\n",
        "\n",
        "torch.save(obj=model_0.state_dict(),   # SAVE MODEL\n",
        "           f=MODEL_SAVE_PATH)"
      ],
      "metadata": {
        "colab": {
          "base_uri": "https://localhost:8080/"
        },
        "id": "IB3sOi4g2Lfj",
        "outputId": "9610fabc-507e-46fd-b77f-ae4d2ed008ee"
      },
      "execution_count": null,
      "outputs": [
        {
          "output_type": "stream",
          "name": "stdout",
          "text": [
            "Saving model to : models/PyTorch_01_worklow.pth\n"
          ]
        }
      ]
    },
    {
      "cell_type": "code",
      "source": [],
      "metadata": {
        "id": "_13w8TX7k4Zw"
      },
      "execution_count": null,
      "outputs": []
    },
    {
      "cell_type": "markdown",
      "source": [
        "PATHLIB    : https://docs.python.org/3/library/pathlib.html  \n",
        "TORCH SAVE : https://pytorch.org/docs/stable/generated/torch.save.html  \n",
        "TORCH LOAD : https://pytorch.org/docs/stable/generated/torch.load.html\n"
      ],
      "metadata": {
        "id": "uExLoU0FerqD"
      }
    },
    {
      "cell_type": "code",
      "source": [
        "#list direcory\n",
        "\"\"\" ls : not a Python command, \n",
        " but a Bash command that can be used in a Jupyter Notebook or IPython environment. \n",
        " The ! at the beginning of the command tells the notebook to run the command in a shell\n",
        " \"\"\"\n",
        "!ls -l models"
      ],
      "metadata": {
        "colab": {
          "base_uri": "https://localhost:8080/"
        },
        "id": "Chnq4bjFiHpA",
        "outputId": "a70f5d91-de37-4b6d-cf70-2dee995772a2"
      },
      "execution_count": null,
      "outputs": [
        {
          "output_type": "stream",
          "name": "stdout",
          "text": [
            "total 4\n",
            "-rw-r--r-- 1 root root 1107 Apr 14 11:21 PyTorch_01_worklow.pth\n"
          ]
        }
      ]
    },
    {
      "cell_type": "code",
      "source": [
        "# to load in a saved state  state_dict() we need to make a new instance o our model\n",
        "loaded_model_0 = LinearRegressionModel()\n",
        "\n",
        "#load the saved state_dic() o our model\n",
        "\"\"\"torch.load(f=MODEL_SAVE_PATH, map_location=None, pickle_module=pickle,*, weights_only=False, **pickle_load_args)\"\"\"\n",
        "loaded_model_0.load_state_dict(torch.load(f=MODEL_SAVE_PATH))\n"
      ],
      "metadata": {
        "colab": {
          "base_uri": "https://localhost:8080/"
        },
        "id": "JUMhf-xqxeyZ",
        "outputId": "f4f3c4c7-2f1e-411f-edf1-0f9018192f0e"
      },
      "execution_count": null,
      "outputs": [
        {
          "output_type": "execute_result",
          "data": {
            "text/plain": [
              "<All keys matched successfully>"
            ]
          },
          "metadata": {},
          "execution_count": 37
        }
      ]
    },
    {
      "cell_type": "code",
      "source": [
        "loaded_model_0.state_dict()"
      ],
      "metadata": {
        "colab": {
          "base_uri": "https://localhost:8080/"
        },
        "id": "5HqSd2Hf02fa",
        "outputId": "21c64f04-6e0f-4efd-9df7-27174568432c"
      },
      "execution_count": null,
      "outputs": [
        {
          "output_type": "execute_result",
          "data": {
            "text/plain": [
              "OrderedDict([('weights', tensor([0.6990])), ('bias', tensor([0.3093]))])"
            ]
          },
          "metadata": {},
          "execution_count": 35
        }
      ]
    },
    {
      "cell_type": "code",
      "source": [
        "loaded_model_0.eval()\n",
        "with torch.inference_mode():\n",
        "  loaded_model_0_preds = loaded_model_0(x_test)\n",
        "  \n",
        "loaded_model_0.eval()\n",
        "with torch.inference_mode():\n",
        "  y_preds = model_0(x_test)\n",
        "\n",
        "y_preds == loaded_model_0_preds"
      ],
      "metadata": {
        "colab": {
          "base_uri": "https://localhost:8080/"
        },
        "id": "Ek7M0ibY2tJ_",
        "outputId": "5d292e7e-41cb-4f12-be0e-2c8b02eb7099"
      },
      "execution_count": null,
      "outputs": [
        {
          "output_type": "execute_result",
          "data": {
            "text/plain": [
              "tensor([True, True, True, True, True, True, True, True, True, True])"
            ]
          },
          "metadata": {},
          "execution_count": 39
        }
      ]
    },
    {
      "cell_type": "markdown",
      "source": [
        "## 53 PRACTICE EVERITHING 7:38:30\n",
        "\n",
        "## GEN DATA... SPLIT\n",
        "## GEN MODEL\n",
        "\n",
        "##\n",
        "LINEAR https://pytorch.org/docs/stable/generated/torch.nn.Linear.html 7:55:24"
      ],
      "metadata": {
        "id": "_bLhV7xR4ViM"
      }
    },
    {
      "cell_type": "code",
      "source": [
        "import torch\n",
        "from torch import nn\n",
        "import matplotlib.pyplot as plt\n",
        "\n",
        "torch.__version__"
      ],
      "metadata": {
        "colab": {
          "base_uri": "https://localhost:8080/",
          "height": 35
        },
        "id": "Gn_8J9G6VIH3",
        "outputId": "bfa289dc-c96a-41ba-b829-5204000b539a"
      },
      "execution_count": null,
      "outputs": [
        {
          "output_type": "execute_result",
          "data": {
            "text/plain": [
              "'2.0.0+cu118'"
            ],
            "application/vnd.google.colaboratory.intrinsic+json": {
              "type": "string"
            }
          },
          "metadata": {},
          "execution_count": 2
        }
      ]
    },
    {
      "cell_type": "code",
      "source": [
        "# DEVICE AGNOSTIC CODE  ---> GPU/CPU\n",
        "device = \"cuda\" if torch.cuda.is_available() else \"cpu\"\n",
        "device"
      ],
      "metadata": {
        "colab": {
          "base_uri": "https://localhost:8080/",
          "height": 35
        },
        "id": "UR2KOD7sVgJm",
        "outputId": "375b0a5a-f97f-4fcf-cced-1da83b2440f7"
      },
      "execution_count": null,
      "outputs": [
        {
          "output_type": "execute_result",
          "data": {
            "text/plain": [
              "'cuda'"
            ],
            "application/vnd.google.colaboratory.intrinsic+json": {
              "type": "string"
            }
          },
          "metadata": {},
          "execution_count": 3
        }
      ]
    },
    {
      "cell_type": "code",
      "source": [
        "# KNOWN TRAINING (Dummy DATA )\n",
        "weight, bias = 0.7, 0.3\n",
        "start, step, end =  0, 0.02, 1  \n",
        "x = torch.arange(start,end,step).unsqueeze(dim=1)\n",
        "y = weight * x + bias\n",
        "x[:10],y[:10]"
      ],
      "metadata": {
        "id": "jIaY5lYrWh8Y"
      },
      "execution_count": null,
      "outputs": []
    },
    {
      "cell_type": "code",
      "source": [
        "# TRAIN/ TEST Split\n",
        "train_split = int(0.8 * len(x))\n",
        "x_train, y_train = x[:train_split], y[:train_split]\n",
        "x_test, y_test   = x[train_split:], y[train_split:]\n",
        "len(x_train),len(y_train),len(x_test),len(y_test)"
      ],
      "metadata": {
        "colab": {
          "base_uri": "https://localhost:8080/"
        },
        "id": "YBon1uszV7j6",
        "outputId": "700cbaee-1c3c-44b8-f3a2-9e34dfd12cc2"
      },
      "execution_count": null,
      "outputs": [
        {
          "output_type": "execute_result",
          "data": {
            "text/plain": [
              "(40, 40, 10, 10)"
            ]
          },
          "metadata": {},
          "execution_count": 5
        }
      ]
    },
    {
      "cell_type": "code",
      "source": [
        "# PLOT WITH HARCODED INPUTS\n",
        "def plot_predictions(train_data   = x_train,\n",
        "                     train_labels = y_train,\n",
        "                     test_data    = x_test,\n",
        "                     test_labels  = y_test,\n",
        "                     predictions  = None):\n",
        "\n",
        "  plt.figure(figsize=(10,7))\n",
        "  plt.scatter(train_data,train_labels,c=\"b\",s=4,label=\"training data\")\n",
        "  plt.scatter(test_data ,test_labels, c=\"g\",s=4,label=\"testing data\")\n",
        "  if predictions is not None:\n",
        "    plt.scatter(test_data ,predictions, c=\"r\",s=4,label=\"predictions\")\n",
        "\n",
        "plot_predictions()"
      ],
      "metadata": {
        "id": "bSufZSiQbdx1"
      },
      "execution_count": null,
      "outputs": []
    },
    {
      "cell_type": "code",
      "source": [
        "# CREATE NEW MODEL\n",
        "class linearRegressionModelV2(nn.Module):\n",
        "  def __init__(self):\n",
        "    super().__init__()\n",
        "    # Use nn.Linear() for creating the model parameters\n",
        "    self.linear_layer = nn.Linear(in_features=1,\n",
        "                                  out_features=1)\n",
        "    \n",
        "  def forward(self, x: torch.Tensor) -> torch.Tensor: # returns torch.Tensor\n",
        "    return self.linear_layer(x)\n",
        "\n",
        "# set the MANUAL SEED\n",
        "torch.manual_seed(42)\n",
        "model_1 = linearRegressionModelV2() # instance a MODEL\n",
        "model_1, model_1.state_dict()"
      ],
      "metadata": {
        "colab": {
          "base_uri": "https://localhost:8080/"
        },
        "id": "5-K4ag21MfXD",
        "outputId": "cddf861a-a8dd-4339-dd6e-b9c484dc6898"
      },
      "execution_count": null,
      "outputs": [
        {
          "output_type": "execute_result",
          "data": {
            "text/plain": [
              "(linearRegressionModelV2(\n",
              "   (linear_layer): Linear(in_features=1, out_features=1, bias=True)\n",
              " ),\n",
              " OrderedDict([('linear_layer.weight', tensor([[0.7645]])),\n",
              "              ('linear_layer.bias', tensor([0.8300]))]))"
            ]
          },
          "metadata": {},
          "execution_count": 55
        }
      ]
    },
    {
      "cell_type": "code",
      "source": [
        "# Move model TO DEVICE\n",
        "model_1.to(device)\n",
        "print(next(model_1.parameters()).device)"
      ],
      "metadata": {
        "colab": {
          "base_uri": "https://localhost:8080/"
        },
        "id": "1T2ph3X0tCDO",
        "outputId": "4b040caf-85b1-4b69-d121-8083f87960b4"
      },
      "execution_count": null,
      "outputs": [
        {
          "output_type": "stream",
          "name": "stdout",
          "text": [
            "cuda:0\n"
          ]
        }
      ]
    },
    {
      "cell_type": "code",
      "source": [
        "loss_fn   = nn.L1Loss() # HYPERPARAMETERS epoch, learn speed, loss, optimizer\n",
        "optimizer = torch.optim.SGD( params=model_1.parameters(), lr=0.01)\n",
        "epochs = 200\n",
        "\n",
        "x_train,y_train = x_train.to(device), y_train.to(device) # data for DEVICE AGNOSTIC\n",
        "x_test, y_test  =  x_test.to(device), y_test.to(device)\n",
        "train_loss_values, test_loss_values  = [],[] # data for training visualizing\n",
        "\n",
        "for epoch in range(epochs): # TRAIN LOOP\n",
        "  model_1.train()\n",
        "  y_pred = model_1(x_train)\n",
        "  loss = loss_fn(y_pred, y_train)\n",
        "  optimizer.zero_grad()\n",
        "  loss.backward()\n",
        "  optimizer.step()\n",
        "  \n",
        "  model_1.eval()  # GATHER EVAL DATA\n",
        "  with torch.inference_mode():\n",
        "    test_pred = model_1(x_test)\n",
        "    test_loss = loss_fn(test_pred, y_test)\n",
        "\n",
        "    train_loss_values.append(loss.cpu() )\n",
        "    test_loss_values.append(test_loss.cpu())\n",
        "  \n",
        "  if epoch %10 == 0:        # SHOW EVAL DATA\n",
        "    print(f\"Epoch{epoch}|Loss:{loss}|Test-Loss:{test_loss}\")\n",
        "    print(train_loss_values[epoch-1])\n",
        "    print(test_loss_values[epoch-1])\n",
        "  with torch.inference_mode():\n",
        "    plt.plot(epoch, train_loss_values[epoch-1].numpy(), label=\"Train loss\")\n",
        "    plt.plot(epoch, test_loss_values[epoch-1].numpy(),  label=\"Test loss\")\n"
      ],
      "metadata": {
        "id": "J4qMk2D5utUJ"
      },
      "execution_count": null,
      "outputs": []
    },
    {
      "cell_type": "code",
      "source": [
        "model_1.state_dict()    # PLOT FINAL RESUlTS\n",
        "with torch.inference_mode():      # inference disables traning features\n",
        "  y_preds = model_1(x_test)       # forward prop\n",
        "\n",
        "plot_predictions(predictions = y_preds.cpu()) # cant print cuda data"
      ],
      "metadata": {
        "id": "Tx9cWE7lvZqD"
      },
      "execution_count": null,
      "outputs": []
    },
    {
      "cell_type": "code",
      "source": [
        "from pathlib import Path   # SAVE PyTorch MODEL\n",
        "\n",
        "MODEL_PATH = Path(\"models\")# 1 : create models directory\n",
        "MODEL_PATH.mkdir(parents=True, exist_ok=True)\n",
        "\n",
        "MODEL_NAME = \"PyTorch_01_worklow_model_1.pth\"  #2 : Create model save path\n",
        "MODEL_SAVE_PATH = MODEL_PATH / MODEL_NAME\n",
        "\n",
        "print(f\"Saving model to : {MODEL_SAVE_PATH}\")# Showing how we save the model\n",
        "\n",
        "torch.save(obj=model_1.state_dict(),   # SAVE MODEL\n",
        "           f=MODEL_SAVE_PATH)"
      ],
      "metadata": {
        "colab": {
          "base_uri": "https://localhost:8080/"
        },
        "id": "vSUmA9W_21Wl",
        "outputId": "3f55e9b1-6f06-405b-e4d7-914ba29d97d2"
      },
      "execution_count": null,
      "outputs": [
        {
          "output_type": "stream",
          "name": "stdout",
          "text": [
            "Saving model to : models/PyTorch_01_worklow_model_1.pth\n"
          ]
        }
      ]
    },
    {
      "cell_type": "code",
      "source": [
        "loaded_model_1 = linearRegressionModelV2()\n",
        "loaded_model_1.load_state_dict(torch.load(MODEL_SAVE_PATH))\n",
        "loaded_model_1.to(device)\n",
        "print(next(loaded_model_1.parameters()).device)\n",
        "loaded_model_1.state_dict()"
      ],
      "metadata": {
        "id": "UYgfhETXE697"
      },
      "execution_count": null,
      "outputs": []
    },
    {
      "cell_type": "code",
      "source": [
        "loaded_model_1.eval()\n",
        "with torch.inference_mode():\n",
        "  loaded_model_1_preds = loaded_model_1(x_test)\n",
        "y_preds == loaded_model_1_preds"
      ],
      "metadata": {
        "id": "Ti7MgLCAHHUY"
      },
      "execution_count": null,
      "outputs": []
    },
    {
      "cell_type": "markdown",
      "source": [
        "## 54 8:27:40\n"
      ],
      "metadata": {
        "id": "CMM-cNDUEGu4"
      }
    },
    {
      "cell_type": "code",
      "source": [],
      "metadata": {
        "id": "91q82JqaHdac"
      },
      "execution_count": null,
      "outputs": []
    }
  ]
}