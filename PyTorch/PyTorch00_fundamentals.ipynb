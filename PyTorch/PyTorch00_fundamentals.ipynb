{
  "nbformat": 4,
  "nbformat_minor": 0,
  "metadata": {
    "colab": {
      "provenance": [],
      "collapsed_sections": [
        "z166OAh8kyc0",
        "gtAkmn_qhrN_"
      ]
    },
    "kernelspec": {
      "name": "python3",
      "display_name": "Python 3"
    },
    "language_info": {
      "name": "python"
    },
    "gpuClass": "standard",
    "accelerator": "GPU"
  },
  "cells": [
    {
      "cell_type": "markdown",
      "source": [
        "## **DAY 1**. . . . . . *0:00:00*\n",
        "VIDEO  https://www.youtube.com/watch?v=V_xro1bcAuA\n",
        "\n",
        "COURSE https://www.learnpytorch.io/\n",
        "\n",
        "DOCS   https://pytorch.org/docs/stable/index.html\n",
        "\n",
        "GITHUB https://github.com/mrdbourke/pytorch-deep-learning"
      ],
      "metadata": {
        "id": "0iEW5nmKjejN"
      }
    },
    {
      "cell_type": "markdown",
      "source": [
        "### HELLO WORLD AND LIBRARIES\n"
      ],
      "metadata": {
        "id": "C11pLjJ8jVnP"
      }
    },
    {
      "cell_type": "code",
      "execution_count": null,
      "metadata": {
        "colab": {
          "base_uri": "https://localhost:8080/"
        },
        "id": "xoFMRJdfdvyb",
        "outputId": "6986c21b-527a-4bc8-c316-6e57aa99d51c"
      },
      "outputs": [
        {
          "output_type": "stream",
          "name": "stdout",
          "text": [
            "Hello world !\n"
          ]
        }
      ],
      "source": [
        "var = \"world !\"\n",
        "print(\"Hello \"+ var)"
      ]
    },
    {
      "cell_type": "code",
      "source": [
        "!nvidia-smi"
      ],
      "metadata": {
        "colab": {
          "base_uri": "https://localhost:8080/"
        },
        "id": "NTsAxS_zfY6R",
        "outputId": "44619f79-ffe1-47df-9ded-6cd98c03d782"
      },
      "execution_count": null,
      "outputs": [
        {
          "output_type": "stream",
          "name": "stdout",
          "text": [
            "/bin/bash: nvidia-smi: command not found\n"
          ]
        }
      ]
    },
    {
      "cell_type": "code",
      "source": [
        "import torch as torch\n",
        "import pandas as pd\n",
        "import numpy as np\n",
        "import matplotlib.pyplot as plt\n",
        "\n",
        "print(torch.__version__)"
      ],
      "metadata": {
        "colab": {
          "base_uri": "https://localhost:8080/"
        },
        "id": "W86vUFE7g0RV",
        "outputId": "342b03ad-6259-4a56-86be-1b9cc8c30415"
      },
      "execution_count": null,
      "outputs": [
        {
          "output_type": "stream",
          "name": "stdout",
          "text": [
            "2.0.0+cu118\n"
          ]
        }
      ]
    },
    {
      "cell_type": "code",
      "source": [
        "## introduction  to tensors\n",
        "\n",
        "### Creating a tensor"
      ],
      "metadata": {
        "id": "4kjiDl6oio4t"
      },
      "execution_count": null,
      "outputs": []
    },
    {
      "cell_type": "markdown",
      "source": [
        "### INTRODUCTION TO TENSORS\n",
        "\n",
        " Creating a tensor\n",
        " we use # to format text\n",
        "pytorch tensors are created using torch.tensor()\n",
        "https://pytorch.org/docs/stable/tensors.html"
      ],
      "metadata": {
        "id": "z166OAh8kyc0"
      }
    },
    {
      "cell_type": "code",
      "source": [
        "# scalar\n",
        "scalar = torch.tensor(7)\n",
        "scalar"
      ],
      "metadata": {
        "id": "58nenj3Vldt8",
        "colab": {
          "base_uri": "https://localhost:8080/"
        },
        "outputId": "9023fd4c-bd02-4575-c6d1-a280ad1b5af1"
      },
      "execution_count": null,
      "outputs": [
        {
          "output_type": "execute_result",
          "data": {
            "text/plain": [
              "tensor(7)"
            ]
          },
          "metadata": {},
          "execution_count": 6
        }
      ]
    },
    {
      "cell_type": "code",
      "source": [
        "scalar.ndim"
      ],
      "metadata": {
        "id": "-Nc962T2u5YY",
        "colab": {
          "base_uri": "https://localhost:8080/"
        },
        "outputId": "b9dd6584-9904-49b7-be9a-ce7c356a1b2c"
      },
      "execution_count": null,
      "outputs": [
        {
          "output_type": "execute_result",
          "data": {
            "text/plain": [
              "0"
            ]
          },
          "metadata": {},
          "execution_count": 7
        }
      ]
    },
    {
      "cell_type": "code",
      "source": [
        "# get tensor back as python int\n",
        "scalar.item()"
      ],
      "metadata": {
        "id": "huM63Q10vI0p",
        "colab": {
          "base_uri": "https://localhost:8080/"
        },
        "outputId": "b785ea9e-df79-4130-f5ce-317f1abdda93"
      },
      "execution_count": null,
      "outputs": [
        {
          "output_type": "execute_result",
          "data": {
            "text/plain": [
              "7"
            ]
          },
          "metadata": {},
          "execution_count": 8
        }
      ]
    },
    {
      "cell_type": "code",
      "source": [
        "#vector \n",
        "vector = torch.tensor([7,8])\n",
        "print(vector.ndim)  # Tensor dimension.......Num=0 Vec=1 Matrix=2\n",
        "print(vector.shape) # vector dimension  2\n",
        "vector"
      ],
      "metadata": {
        "id": "qQsNKIUCvfiq",
        "colab": {
          "base_uri": "https://localhost:8080/"
        },
        "outputId": "f81fa3be-86c0-4b4e-fed7-5fb172abf457"
      },
      "execution_count": null,
      "outputs": [
        {
          "output_type": "stream",
          "name": "stdout",
          "text": [
            "1\n",
            "torch.Size([2])\n"
          ]
        },
        {
          "output_type": "execute_result",
          "data": {
            "text/plain": [
              "tensor([7, 8])"
            ]
          },
          "metadata": {},
          "execution_count": 9
        }
      ]
    },
    {
      "cell_type": "code",
      "source": [
        "# Matrix\n",
        "MATRIX = torch.tensor( [ [1,2],[3,4] ] )   # vector matri\n",
        "\n",
        "print(MATRIX.ndim)    #  2\n",
        "print(MATRIX.shape)   #  2x2\n",
        "MATRIX                #  [1,2][3,4]"
      ],
      "metadata": {
        "id": "J8Vt5X6_ws9Y",
        "colab": {
          "base_uri": "https://localhost:8080/"
        },
        "outputId": "14576b8d-e67c-4c30-d93e-7c107ca2f67e"
      },
      "execution_count": null,
      "outputs": [
        {
          "output_type": "stream",
          "name": "stdout",
          "text": [
            "2\n",
            "torch.Size([2, 2])\n"
          ]
        },
        {
          "output_type": "execute_result",
          "data": {
            "text/plain": [
              "tensor([[1, 2],\n",
              "        [3, 4]])"
            ]
          },
          "metadata": {},
          "execution_count": 10
        }
      ]
    },
    {
      "cell_type": "code",
      "source": [],
      "metadata": {
        "id": "jtNnwr4bj_cY"
      },
      "execution_count": null,
      "outputs": []
    },
    {
      "cell_type": "markdown",
      "source": [
        "### DATA NAME CONVENTION\n",
        "  https://www.learnpytorch.io/00_pytorch_fundamentals/#:~:text=it%20actually%20is.-,Let%27s%20summarise.,-Name\n"
      ],
      "metadata": {
        "id": "gtAkmn_qhrN_"
      }
    },
    {
      "cell_type": "code",
      "source": [
        "# Tensor\n",
        "TENSOR = torch.tensor([  [[1,2,3],[3,4,5],[6,7,8]]  ])\n",
        "print(TENSOR.ndim)    # 3\n",
        "print(TENSOR.shape)   # 1x3x3\n",
        "TENSOR = torch.tensor([  [[1,2] , [3,4]] ,\n",
        "                         [[5,6] , [7,8]] ,\n",
        "                        [[9,10] , [11,12]] , ] )\n",
        "print(TENSOR.shape)   # 3x2x2\n",
        "TENSOR = torch.tensor( [ [  [[1] , [2]] , [[3] , [4]] ] ,\n",
        "                         [  [[5] , [6]] , [[7] , [8]] ]  ])\n",
        "print(TENSOR.ndim)    # 4\n",
        "print(TENSOR.shape)   # 2x2x2x1\n"
      ],
      "metadata": {
        "colab": {
          "base_uri": "https://localhost:8080/"
        },
        "id": "dA8HAMGjbrbH",
        "outputId": "8f51cb63-ab56-4f9b-9d45-184a01c70838"
      },
      "execution_count": null,
      "outputs": [
        {
          "output_type": "stream",
          "name": "stdout",
          "text": [
            "3\n",
            "torch.Size([1, 3, 3])\n",
            "torch.Size([3, 2, 2])\n",
            "4\n",
            "torch.Size([2, 2, 2, 1])\n"
          ]
        }
      ]
    },
    {
      "cell_type": "markdown",
      "source": [
        "### 14 CREATING TENSORS"
      ],
      "metadata": {
        "id": "zGgt6oZc_0r_"
      }
    },
    {
      "cell_type": "markdown",
      "source": [
        "### RANDOM TENSOR\n",
        " Wny ?  cause we need them as a starting point for weight & bias\n",
        " then we adjust to a usefull value"
      ],
      "metadata": {
        "id": "Dj3062zfiaIi"
      }
    },
    {
      "cell_type": "code",
      "source": [
        "# Create Random Tensor size (2,2,1)\n",
        "random_tensor = torch.rand(2,2,1)  # matrix hence lowecase\n",
        "print(random_tensor.ndim)    # 3\n",
        "print(random_tensor.shape)   # 2x2x1\n",
        "\n",
        "# Create Random Tensor size (3x4)\n",
        "random_tensor = torch.rand(3,4)  # matrix hence lowecase\n",
        "print(random_tensor.ndim)    # 2\n",
        "print(random_tensor.shape)   # 3x4\n",
        "\n",
        "random_tensor"
      ],
      "metadata": {
        "id": "ks_SORYNiWlo",
        "colab": {
          "base_uri": "https://localhost:8080/"
        },
        "outputId": "1b70cbd7-3826-4931-b97c-6327e97ab4a3"
      },
      "execution_count": null,
      "outputs": [
        {
          "output_type": "stream",
          "name": "stdout",
          "text": [
            "3\n",
            "torch.Size([2, 2, 1])\n",
            "2\n",
            "torch.Size([3, 4])\n"
          ]
        },
        {
          "output_type": "execute_result",
          "data": {
            "text/plain": [
              "tensor([[0.7576, 0.5931, 0.9244, 0.9657],\n",
              "        [0.1456, 0.2428, 0.8750, 0.8464],\n",
              "        [0.1686, 0.5302, 0.3293, 0.4031]])"
            ]
          },
          "metadata": {},
          "execution_count": 12
        }
      ]
    },
    {
      "cell_type": "markdown",
      "source": [
        "#### IMAGE AND CHANNELS \n",
        "  https://www.learnpytorch.io/00_pytorch_fundamentals/#:~:text=dimensions%2C%20one%20for-,colour_channels,-%2C%20height%20and"
      ],
      "metadata": {
        "id": "OS_m4zglpI2x"
      }
    },
    {
      "cell_type": "code",
      "source": [
        "random_image_size_tensor = torch.rand(size=(3,224,224)) # Color-channels 3=RGB, Heigh, Width\n",
        "random_image_size_tensor.shape, random_image_size_tensor.ndim\n",
        "random_image_size_tensor"
      ],
      "metadata": {
        "id": "G_jB5WwImDd_",
        "colab": {
          "base_uri": "https://localhost:8080/"
        },
        "outputId": "3ba7701d-13cd-45b7-f823-ac22de92db2c"
      },
      "execution_count": null,
      "outputs": [
        {
          "output_type": "execute_result",
          "data": {
            "text/plain": [
              "tensor([[[0.6891, 0.2152, 0.9073,  ..., 0.3127, 0.5685, 0.1836],\n",
              "         [0.5358, 0.4695, 0.8563,  ..., 0.6610, 0.3255, 0.0840],\n",
              "         [0.8212, 0.8823, 0.2974,  ..., 0.0881, 0.6355, 0.0890],\n",
              "         ...,\n",
              "         [0.5017, 0.0148, 0.5076,  ..., 0.0239, 0.7365, 0.4867],\n",
              "         [0.0821, 0.2940, 0.0309,  ..., 0.2765, 0.6045, 0.8872],\n",
              "         [0.9672, 0.8774, 0.1137,  ..., 0.6508, 0.0992, 0.4248]],\n",
              "\n",
              "        [[0.9483, 0.2931, 0.0622,  ..., 0.7160, 0.9716, 0.1666],\n",
              "         [0.2315, 0.2362, 0.2201,  ..., 0.0548, 0.6583, 0.6021],\n",
              "         [0.2912, 0.9293, 0.9766,  ..., 0.0651, 0.1499, 0.5629],\n",
              "         ...,\n",
              "         [0.0806, 0.7623, 0.6983,  ..., 0.0012, 0.5895, 0.4706],\n",
              "         [0.7178, 0.5013, 0.5805,  ..., 0.9380, 0.8201, 0.6588],\n",
              "         [0.0410, 0.8910, 0.6348,  ..., 0.3538, 0.8478, 0.7350]],\n",
              "\n",
              "        [[0.9169, 0.4372, 0.0779,  ..., 0.2000, 0.8651, 0.9349],\n",
              "         [0.7978, 0.7198, 0.2356,  ..., 0.3008, 0.5114, 0.4386],\n",
              "         [0.5521, 0.6739, 0.2580,  ..., 0.3464, 0.5703, 0.5560],\n",
              "         ...,\n",
              "         [0.1923, 0.9241, 0.8759,  ..., 0.9447, 0.5512, 0.9682],\n",
              "         [0.4059, 0.9042, 0.0337,  ..., 0.2879, 0.9771, 0.6274],\n",
              "         [0.7339, 0.8641, 0.2696,  ..., 0.7146, 0.8347, 0.7732]]])"
            ]
          },
          "metadata": {},
          "execution_count": 13
        }
      ]
    },
    {
      "cell_type": "markdown",
      "source": [
        "### ZEROS & ONES . . . . .  1:46:00"
      ],
      "metadata": {
        "id": "IXuw8AfYqCkJ"
      }
    },
    {
      "cell_type": "code",
      "source": [
        "zeros = torch.zeros(size=(3,4))\n",
        "ones = torch.ones(size=(3,4))\n",
        "print(zeros)\n",
        "print(ones)"
      ],
      "metadata": {
        "id": "pr-84w0ep_oV",
        "colab": {
          "base_uri": "https://localhost:8080/"
        },
        "outputId": "a3fc8f44-f33c-4bee-adb9-f85201eba8c5"
      },
      "execution_count": null,
      "outputs": [
        {
          "output_type": "stream",
          "name": "stdout",
          "text": [
            "tensor([[0., 0., 0., 0.],\n",
            "        [0., 0., 0., 0.],\n",
            "        [0., 0., 0., 0.]])\n",
            "tensor([[1., 1., 1., 1.],\n",
            "        [1., 1., 1., 1.],\n",
            "        [1., 1., 1., 1.]])\n"
          ]
        }
      ]
    },
    {
      "cell_type": "code",
      "source": [
        "ones*random_tensor\n"
      ],
      "metadata": {
        "colab": {
          "base_uri": "https://localhost:8080/"
        },
        "id": "3KX1VW31re1Q",
        "outputId": "1e4050f9-baeb-45e0-8747-8a5c9c2ce652"
      },
      "execution_count": null,
      "outputs": [
        {
          "output_type": "execute_result",
          "data": {
            "text/plain": [
              "tensor([[0.7576, 0.5931, 0.9244, 0.9657],\n",
              "        [0.1456, 0.2428, 0.8750, 0.8464],\n",
              "        [0.1686, 0.5302, 0.3293, 0.4031]])"
            ]
          },
          "metadata": {},
          "execution_count": 15
        }
      ]
    },
    {
      "cell_type": "code",
      "source": [
        "zeros*random_tensor"
      ],
      "metadata": {
        "colab": {
          "base_uri": "https://localhost:8080/"
        },
        "id": "EbuV7yMzsspo",
        "outputId": "b0da336b-6048-4531-ecb8-4d3b9cd39487"
      },
      "execution_count": null,
      "outputs": [
        {
          "output_type": "execute_result",
          "data": {
            "text/plain": [
              "tensor([[0., 0., 0., 0.],\n",
              "        [0., 0., 0., 0.],\n",
              "        [0., 0., 0., 0.]])"
            ]
          },
          "metadata": {},
          "execution_count": 16
        }
      ]
    },
    {
      "cell_type": "markdown",
      "source": [
        "### DATATYPES. . . . .  1:48:00"
      ],
      "metadata": {
        "id": "tWRkERcst2mF"
      }
    },
    {
      "cell_type": "code",
      "source": [
        "ones.dtype #torch.float32 "
      ],
      "metadata": {
        "colab": {
          "base_uri": "https://localhost:8080/"
        },
        "id": "HgOzEOrRuDyW",
        "outputId": "8519321c-dd1b-48d6-d8c0-2b5f8d5c22b9"
      },
      "execution_count": null,
      "outputs": [
        {
          "output_type": "execute_result",
          "data": {
            "text/plain": [
              "torch.float32"
            ]
          },
          "metadata": {},
          "execution_count": 17
        }
      ]
    },
    {
      "cell_type": "markdown",
      "source": [
        "### Range. . . . .  1:48:00\n",
        "  https://pytorch.org/docs/stable/generated/torch.arange.html"
      ],
      "metadata": {
        "id": "R1nXqia9uh1a"
      }
    },
    {
      "cell_type": "code",
      "source": [
        "one_to_ten = torch.arange(0,11,1) # start=0, end=11, step=1\n",
        "one_to_ten"
      ],
      "metadata": {
        "colab": {
          "base_uri": "https://localhost:8080/"
        },
        "id": "hRQnkQCbvH0t",
        "outputId": "87769442-4237-4d03-9144-dc4f6d13e734"
      },
      "execution_count": null,
      "outputs": [
        {
          "output_type": "execute_result",
          "data": {
            "text/plain": [
              "tensor([ 0,  1,  2,  3,  4,  5,  6,  7,  8,  9, 10])"
            ]
          },
          "metadata": {},
          "execution_count": 18
        }
      ]
    },
    {
      "cell_type": "markdown",
      "source": [
        "### TENSORLIKE. . . . .  1:48:00"
      ],
      "metadata": {
        "id": "yO4kTf4XwOox"
      }
    },
    {
      "cell_type": "markdown",
      "source": [],
      "metadata": {
        "id": "8xKDgDa8yFpe"
      }
    },
    {
      "cell_type": "code",
      "source": [
        "ten_zeros = torch.zeros_like( input= one_to_ten)\n",
        "ten_zeros"
      ],
      "metadata": {
        "id": "qTtGzUciwOV6",
        "colab": {
          "base_uri": "https://localhost:8080/"
        },
        "outputId": "a4ad74ee-f8dc-4a8a-fd8f-34602e673c48"
      },
      "execution_count": null,
      "outputs": [
        {
          "output_type": "execute_result",
          "data": {
            "text/plain": [
              "tensor([0, 0, 0, 0, 0, 0, 0, 0, 0, 0, 0])"
            ]
          },
          "metadata": {},
          "execution_count": 19
        }
      ]
    },
    {
      "cell_type": "code",
      "source": [
        "# float 32 tensor\n",
        "float_32_tensor = torch.tensor([3.0,6.0,9.0],dtype=None   # default dtype = torch.float32\n",
        "                                            ,device=None  # device of our tensor\n",
        "                                            ,requires_grad=False) # if we are tracking gradients with tensor operations\n",
        "float_32_tensor = torch.tensor([3.0,6.0,9.0],dtype = torch.float16)\n",
        "float_32_tensor.dtype"
      ],
      "metadata": {
        "colab": {
          "base_uri": "https://localhost:8080/"
        },
        "id": "WgsJ0j_PAuex",
        "outputId": "32b5bf85-a077-474b-d47c-a88dc7e9bc76"
      },
      "execution_count": null,
      "outputs": [
        {
          "output_type": "execute_result",
          "data": {
            "text/plain": [
              "torch.float16"
            ]
          },
          "metadata": {},
          "execution_count": 20
        }
      ]
    },
    {
      "cell_type": "markdown",
      "source": [
        "### 17 TENSOR DATATYPES\n",
        "https://pytorch.org/docs/stable/tensors.html\n",
        "  * One of 3 main miss-match Errors\n",
        "1. wrong DATATYPE\n",
        "2. wrong SHAPE\n",
        "3. wrong DEVICE"
      ],
      "metadata": {
        "id": "fw4pegTJjD4P"
      }
    },
    {
      "cell_type": "code",
      "source": [
        "float_16_tensor = float_32_tensor.type(torch.float16) # TYPE CONVERSION ... torch.float16 = torch.half\n",
        "float_16_tensor * float_32_tensor                    # DATATYPE MISMATCH  no error WTF !"
      ],
      "metadata": {
        "colab": {
          "base_uri": "https://localhost:8080/"
        },
        "id": "MmdkvgUEkKN-",
        "outputId": "bbb507bb-d910-46c6-e935-455c5980c76c"
      },
      "execution_count": null,
      "outputs": [
        {
          "output_type": "execute_result",
          "data": {
            "text/plain": [
              "tensor([ 9., 36., 81.], dtype=torch.float16)"
            ]
          },
          "metadata": {},
          "execution_count": 21
        }
      ]
    },
    {
      "cell_type": "markdown",
      "source": [
        "#### LETS TRY WITH INTEGGER"
      ],
      "metadata": {
        "id": "JC2ChFtMmusU"
      }
    },
    {
      "cell_type": "code",
      "source": [
        "int_32_tensor = torch.tensor([3,6,9],dtype=torch.long)\n",
        "int_32_tensor"
      ],
      "metadata": {
        "id": "u6Ef0GyJnYPz",
        "colab": {
          "base_uri": "https://localhost:8080/"
        },
        "outputId": "094e62cd-1821-4cbc-abe9-aa2f8edab9c1"
      },
      "execution_count": null,
      "outputs": [
        {
          "output_type": "execute_result",
          "data": {
            "text/plain": [
              "tensor([3, 6, 9])"
            ]
          },
          "metadata": {},
          "execution_count": 28
        }
      ]
    },
    {
      "cell_type": "code",
      "source": [
        "int_32_tensor * float_16_tensor"
      ],
      "metadata": {
        "id": "lB_Koh-MnulQ",
        "colab": {
          "base_uri": "https://localhost:8080/"
        },
        "outputId": "bf0497e2-75ba-4a2e-91cf-cc753f628ef6"
      },
      "execution_count": null,
      "outputs": [
        {
          "output_type": "execute_result",
          "data": {
            "text/plain": [
              "tensor([ 9., 36., 81.], dtype=torch.float16)"
            ]
          },
          "metadata": {},
          "execution_count": 31
        }
      ]
    },
    {
      "cell_type": "markdown",
      "source": [
        "2:07:23 GO TO SLEEP WE'LL GET EM NEXT TIME !"
      ],
      "metadata": {
        "id": "L78go-Dkw3bL"
      }
    },
    {
      "cell_type": "markdown",
      "source": [
        "# **DAY 2**. . . . . . *2:03:00*"
      ],
      "metadata": {
        "id": "axuJraitAWkF"
      }
    },
    {
      "cell_type": "code",
      "source": [
        "import torch as torch\n",
        "import pandas as pd\n",
        "import numpy as np\n",
        "import matplotlib.pyplot as plt"
      ],
      "metadata": {
        "id": "75hWuNIbAZo8"
      },
      "execution_count": null,
      "outputs": []
    },
    {
      "cell_type": "markdown",
      "source": [
        "### 18 TENSOR ATRIBUTES\n",
        "GETINF INFO FROM TENSORS"
      ],
      "metadata": {
        "id": "BBsK1kNmuy2U"
      }
    },
    {
      "cell_type": "code",
      "source": [
        "some_tensor = torch.rand(3,4)\n",
        "print(f\"Datatype of tensor: {some_tensor.dtype}\")  # torch.float32\n",
        "print(f\"Shape    of tensor: {some_tensor.shape}\")  # 3,4\n",
        "print(f\"Devide   of tensor: {some_tensor.device}\") # CPU / GPU\n",
        "\n",
        "# some_tensor = torch.tensor([3,6,9],dtype=torch.long\n",
        "                                    #,device=torch.gpu)\n",
        "# print(f\"Datatype of tensor: {some_tensor.dtype}\")  torch.float32\n",
        "# print(f\"Shape    of tensor: {some_tensor.shape}\")  # 3x4\n",
        "# print(f\"Devide   of tensor: {some_tensor.device}\") # CPU / GPU"
      ],
      "metadata": {
        "id": "I-JA84I6tf0u"
      },
      "execution_count": null,
      "outputs": []
    },
    {
      "cell_type": "markdown",
      "source": [
        "## 19 MANIPULATING TENSORS\n",
        "https://youtu.be/V_xro1bcAuA&t=2hy14m"
      ],
      "metadata": {
        "id": "TBJL1l10CGrP"
      }
    },
    {
      "cell_type": "markdown",
      "source": [
        "OPERATIONS\n",
        "*   Adition substraction    (elementWise)\n",
        "*   Multiplication Division (elementWise)\n",
        "*   Matrix multiplication    row*col"
      ],
      "metadata": {
        "id": "OeUaUI-bdUPz"
      }
    },
    {
      "cell_type": "code",
      "source": [
        "tensor = torch.tensor([1,2,3])  # 1*3\n",
        "print(tensor + 10)  # every element x = x+10 \n",
        "print(tensor - 10) \n",
        "print(tensor * 10)  # Python version\n",
        "print(tensor / 2)"
      ],
      "metadata": {
        "id": "wgXcscjB-eBy",
        "colab": {
          "base_uri": "https://localhost:8080/"
        },
        "outputId": "60faf8bf-a11d-472a-97e8-360d99917ebf"
      },
      "execution_count": null,
      "outputs": [
        {
          "output_type": "stream",
          "name": "stdout",
          "text": [
            "tensor([11, 12, 13])\n",
            "tensor([-9, -8, -7])\n",
            "tensor([10, 20, 30])\n",
            "tensor([0.5000, 1.0000, 1.5000])\n"
          ]
        }
      ]
    },
    {
      "cell_type": "markdown",
      "source": [
        "https://youtu.be/V_xro1bcAuA&t=2hy16m"
      ],
      "metadata": {
        "id": "w1I5rZqmgD8Q"
      }
    },
    {
      "cell_type": "code",
      "source": [
        "print(torch.add(tensor,10)) # PyTorch versions\n",
        "print(torch.sub(tensor,10)) #\n",
        "print(torch.mul(tensor,10)) # \n",
        "print(torch.div(tensor,2))  # "
      ],
      "metadata": {
        "colab": {
          "base_uri": "https://localhost:8080/"
        },
        "id": "fAmD1wBbflva",
        "outputId": "aa84f87f-5864-462b-c137-3aa3a8b4d238"
      },
      "execution_count": null,
      "outputs": [
        {
          "output_type": "stream",
          "name": "stdout",
          "text": [
            "tensor([11, 12, 13])\n",
            "tensor([-9, -8, -7])\n",
            "tensor([10, 20, 30])\n",
            "tensor([0.5000, 1.0000, 1.5000])\n"
          ]
        }
      ]
    },
    {
      "cell_type": "markdown",
      "source": [
        "## 20 MATRIX OPARATION\n",
        "most common operation in Neu-Net\n",
        "https://rajatvd.github.io/Factor-Graphs/\n",
        "https://www.mathsisfun.com/algebra/matrix-multiplying.html \n",
        "\n",
        "https://medium.com/analytics-vidhya/tensordot-explained-6673cfa5697f\n",
        "\n",
        "4D Trigonometry https://www.youtube.com/watch?v=Hx0rTKlVi8Y"
      ],
      "metadata": {
        "id": "F9VZRWmbgGLT"
      }
    },
    {
      "cell_type": "code",
      "source": [
        " # dot product (matrix multiplication)\n",
        " print(tensor, \"*\",tensor)\n",
        " print(f\"ewuals {tensor * tensor}\")\n",
        " torch.matmul(tensor,tensor)"
      ],
      "metadata": {
        "id": "2J8qvWIY6KVh",
        "colab": {
          "base_uri": "https://localhost:8080/"
        },
        "outputId": "e68971d8-943e-4e49-d6b3-66bcee0125a9"
      },
      "execution_count": null,
      "outputs": [
        {
          "output_type": "stream",
          "name": "stdout",
          "text": [
            "tensor([1, 2, 3]) * tensor([1, 2, 3])\n",
            "ewuals tensor([1, 4, 9])\n"
          ]
        },
        {
          "output_type": "execute_result",
          "data": {
            "text/plain": [
              "tensor(14)"
            ]
          },
          "metadata": {},
          "execution_count": 11
        }
      ]
    },
    {
      "cell_type": "code",
      "source": [
        "%%time\n",
        "value = 0\n",
        "for i in range(len(tensor)):\n",
        "  value += tensor[i]* tensor[i]\n",
        "print(value)"
      ],
      "metadata": {
        "colab": {
          "base_uri": "https://localhost:8080/"
        },
        "id": "U1_pEMXvQw_K",
        "outputId": "55deef04-1994-4492-9274-e2e82f6b4b36"
      },
      "execution_count": null,
      "outputs": [
        {
          "output_type": "stream",
          "name": "stdout",
          "text": [
            "tensor(14)\n",
            "CPU times: user 400 µs, sys: 932 µs, total: 1.33 ms\n",
            "Wall time: 1.11 ms\n"
          ]
        }
      ]
    },
    {
      "cell_type": "code",
      "source": [
        "%%time\n",
        "torch.matmul(tensor, tensor)"
      ],
      "metadata": {
        "colab": {
          "base_uri": "https://localhost:8080/"
        },
        "id": "AluCYlOpZe-2",
        "outputId": "61d75ec0-e31d-49fb-ea1e-43354eea1a7b"
      },
      "execution_count": null,
      "outputs": [
        {
          "output_type": "stream",
          "name": "stdout",
          "text": [
            "CPU times: user 73 µs, sys: 0 ns, total: 73 µs\n",
            "Wall time: 76.1 µs\n"
          ]
        },
        {
          "output_type": "execute_result",
          "data": {
            "text/plain": [
              "tensor(14)"
            ]
          },
          "metadata": {},
          "execution_count": 31
        }
      ]
    },
    {
      "cell_type": "markdown",
      "source": [
        "### 21 Matrix multiplication part 2 \n",
        "https://www.youtube.com/watch?v=V_xro1bcAuA&t=2h28m\n",
        "Shape Errors\n",
        "*   (3x2)*(2x4) = 3x4\n",
        "*   (3x2)*(3x2) = Error\n",
        "*   (AxB)*(BxC) required shape\n"
      ],
      "metadata": {
        "id": "K5eVDTqItDjr"
      }
    },
    {
      "cell_type": "code",
      "source": [
        "%%time\n",
        "torch.matmul(torch.rand(3,2),torch.rand(2,1)).shape          # 3, 1\n",
        "torch.matmul(torch.rand(2,3,4),torch.rand(2,4,1)).shape      # 2, 3,1\n",
        "torch.matmul(torch.rand(2,3,4,5),torch.rand(2,3,5,1)).shape  # 2, 3, 4, 1\n",
        "\n"
      ],
      "metadata": {
        "colab": {
          "base_uri": "https://localhost:8080/"
        },
        "id": "nnqMyKTlZhAp",
        "outputId": "6430a00d-24fb-4263-c693-5ba7bf8e43d4"
      },
      "execution_count": null,
      "outputs": [
        {
          "output_type": "stream",
          "name": "stdout",
          "text": [
            "CPU times: user 1.76 ms, sys: 0 ns, total: 1.76 ms\n",
            "Wall time: 1.46 ms\n"
          ]
        },
        {
          "output_type": "execute_result",
          "data": {
            "text/plain": [
              "torch.Size([2, 3, 4, 1])"
            ]
          },
          "metadata": {},
          "execution_count": 60
        }
      ]
    },
    {
      "cell_type": "markdown",
      "source": [
        "We want to do this http://matrixmultiplication.xyz/\n",
        "### 22 MATRIX MULTIPLICARION\n",
        "https://www.youtube.com/watch?v=V_xro1bcAuA&t=2h35m\n"
      ],
      "metadata": {
        "id": "d6A3igWuww8S"
      }
    },
    {
      "cell_type": "code",
      "source": [
        "tensor_A = torch.tensor([[1,2],\n",
        "                         [3,4],\n",
        "                         [5,6]])\n",
        "\n",
        "tensor_B = torch.tensor([[7,10],\n",
        "                         [8,11],\n",
        "                         [9,12]])\n",
        "# mm()= matmul()\n",
        "torch.mm(tensor_A, tensor_B.T) # we transposed B to avoid miss-match shape"
      ],
      "metadata": {
        "id": "_0yHJtFL9-9l"
      },
      "execution_count": null,
      "outputs": []
    },
    {
      "cell_type": "code",
      "source": [
        "print(tensor_B.T)\n",
        "print(tensor_B.shape)  # transpose only creates a new instance\n",
        "tensor_B"
      ],
      "metadata": {
        "id": "hlkD3VK7ABUl"
      },
      "execution_count": null,
      "outputs": []
    },
    {
      "cell_type": "markdown",
      "source": [
        "## 23 FIND MIN MAX MEAN & SUM of TENSOR\n",
        "https://www.youtube.com/watch?v=V_xro1bcAuA&t=2h48m"
      ],
      "metadata": {
        "id": "AKKP8E1JGN0B"
      }
    },
    {
      "cell_type": "code",
      "source": [
        "#create tensor\n",
        "x = torch.arange(0, 100,10)\n",
        "y = torch.arange(10,110,10)\n",
        "x"
      ],
      "metadata": {
        "colab": {
          "base_uri": "https://localhost:8080/"
        },
        "id": "ubA2bDThGqBD",
        "outputId": "c19db6a5-6a0e-428c-85c0-ea3b1fadf21d"
      },
      "execution_count": null,
      "outputs": [
        {
          "output_type": "execute_result",
          "data": {
            "text/plain": [
              "tensor([ 0, 10, 20, 30, 40, 50, 60, 70, 80, 90])"
            ]
          },
          "metadata": {},
          "execution_count": 88
        }
      ]
    },
    {
      "cell_type": "code",
      "source": [
        "torch.max(x)"
      ],
      "metadata": {
        "colab": {
          "base_uri": "https://localhost:8080/"
        },
        "id": "6tsZ5caXF-Dj",
        "outputId": "d5574587-3350-485c-fe63-a7074332ecf3"
      },
      "execution_count": null,
      "outputs": [
        {
          "output_type": "execute_result",
          "data": {
            "text/plain": [
              "tensor(90)"
            ]
          },
          "metadata": {},
          "execution_count": 75
        }
      ]
    },
    {
      "cell_type": "code",
      "source": [
        "torch.min(x)"
      ],
      "metadata": {
        "colab": {
          "base_uri": "https://localhost:8080/"
        },
        "id": "sYAtQZo6GK90",
        "outputId": "989fca34-7b49-4c62-9e9f-20b0c9653310"
      },
      "execution_count": null,
      "outputs": [
        {
          "output_type": "execute_result",
          "data": {
            "text/plain": [
              "tensor(0)"
            ]
          },
          "metadata": {},
          "execution_count": 76
        }
      ]
    },
    {
      "cell_type": "code",
      "source": [
        "x=x.type(torch.float32) # mean() cant use torch.int dtype\n",
        "#  torch.mean(x)  \n",
        "x.mean()"
      ],
      "metadata": {
        "colab": {
          "base_uri": "https://localhost:8080/"
        },
        "id": "TrAIxZE1Hi4y",
        "outputId": "deb6d154-0269-402e-8139-093d24d77668"
      },
      "execution_count": null,
      "outputs": [
        {
          "output_type": "execute_result",
          "data": {
            "text/plain": [
              "tensor(45.)"
            ]
          },
          "metadata": {},
          "execution_count": 91
        }
      ]
    },
    {
      "cell_type": "code",
      "source": [
        "x.add(y)"
      ],
      "metadata": {
        "colab": {
          "base_uri": "https://localhost:8080/"
        },
        "id": "QBqwsGz5OQE4",
        "outputId": "565896ca-98bf-45e7-91fd-53d0612bf1eb"
      },
      "execution_count": null,
      "outputs": [
        {
          "output_type": "execute_result",
          "data": {
            "text/plain": [
              "tensor([ 10,  30,  50,  70,  90, 110, 130, 150, 170, 190])"
            ]
          },
          "metadata": {},
          "execution_count": 89
        }
      ]
    },
    {
      "cell_type": "markdown",
      "source": [
        "## 24 TENSOR AGREGATION\n",
        "\n",
        "https://www.youtube.com/watch?v=V_xro1bcAuA&t=2h54m30s\n",
        "\n",
        "find positional min max"
      ],
      "metadata": {
        "id": "7o_AykjDJLJd"
      }
    },
    {
      "cell_type": "code",
      "source": [
        "x.argmin() # index of min position"
      ],
      "metadata": {
        "colab": {
          "base_uri": "https://localhost:8080/"
        },
        "id": "P1EIEuDxPRCK",
        "outputId": "5b4418f5-78bf-4575-a958-d66618db415f"
      },
      "execution_count": null,
      "outputs": [
        {
          "output_type": "execute_result",
          "data": {
            "text/plain": [
              "tensor(0)"
            ]
          },
          "metadata": {},
          "execution_count": 93
        }
      ]
    },
    {
      "cell_type": "code",
      "source": [
        "x.argmax()"
      ],
      "metadata": {
        "colab": {
          "base_uri": "https://localhost:8080/"
        },
        "id": "hRfB7zhoJK7E",
        "outputId": "2e3608b1-1751-436e-ade5-5dcb523c1285"
      },
      "execution_count": null,
      "outputs": [
        {
          "output_type": "execute_result",
          "data": {
            "text/plain": [
              "tensor(9)"
            ]
          },
          "metadata": {},
          "execution_count": 95
        }
      ]
    },
    {
      "cell_type": "code",
      "source": [
        "y = torch.tensor( [ [[9,8],[7,6]],\n",
        "                    [[5,4],[3,2]] ] )\n",
        "y.argmin() # y[7] = y[2][2][2]"
      ],
      "metadata": {
        "colab": {
          "base_uri": "https://localhost:8080/"
        },
        "id": "57sL-ScCYXSJ",
        "outputId": "d6eccd25-9ca7-4434-8789-d1f5c6b9d3ff"
      },
      "execution_count": null,
      "outputs": [
        {
          "output_type": "execute_result",
          "data": {
            "text/plain": [
              "tensor(7)"
            ]
          },
          "metadata": {},
          "execution_count": 109
        }
      ]
    },
    {
      "cell_type": "markdown",
      "source": [
        "## 25 RESHAPING STACKING SQUEEZING\n",
        "reshape =  change tensor shape\n",
        "\n",
        "view = changes shape for same data example .T (transpose)\n",
        "\n",
        "stack = cambine multiple tensors on top of eachoter (higher dim), vstack, hstack\n",
        "\n",
        "squeeze =removes al [1] dimansions from tensor\n",
        "\n",
        "unsqueeze = adds a [1] dimension \n",
        "\n",
        "permute = return a view of input with dimensions swap\n",
        "https://www.youtube.com/watch?v=V_xro1bcAuA&t=2h55m50s"
      ],
      "metadata": {
        "id": "N1-reF4GabdB"
      }
    },
    {
      "cell_type": "code",
      "source": [
        "import torch as torch\n",
        "import pandas as pd\n",
        "import numpy as np\n",
        "import matplotlib.pyplot as plt\n",
        "x = torch.arange(1.,10.,1)\n",
        "x"
      ],
      "metadata": {
        "colab": {
          "base_uri": "https://localhost:8080/"
        },
        "id": "OMisdE5GbLZc",
        "outputId": "668be7f1-ede0-4975-c748-53a0ed3f1f5e"
      },
      "execution_count": null,
      "outputs": [
        {
          "output_type": "execute_result",
          "data": {
            "text/plain": [
              "tensor([1., 2., 3., 4., 5., 6., 7., 8., 9.])"
            ]
          },
          "metadata": {},
          "execution_count": 71
        }
      ]
    },
    {
      "cell_type": "code",
      "source": [
        "# x_resh = x.reshape(3,9)  shape product must be same 3*9 != 9 = 3*3\n",
        "x_resh = x.reshape(3,3)\n",
        "print(x_resh)\n",
        "x_resh = x.reshape(1,9)\n",
        "x_resh"
      ],
      "metadata": {
        "id": "9zKv1bQ8daXj",
        "colab": {
          "base_uri": "https://localhost:8080/"
        },
        "outputId": "04b83342-8aab-4902-ab08-34be3e59ca91"
      },
      "execution_count": null,
      "outputs": [
        {
          "output_type": "stream",
          "name": "stdout",
          "text": [
            "tensor([[1., 2., 3.],\n",
            "        [4., 5., 6.],\n",
            "        [7., 8., 9.]])\n"
          ]
        },
        {
          "output_type": "execute_result",
          "data": {
            "text/plain": [
              "tensor([[1., 2., 3., 4., 5., 6., 7., 8., 9.]])"
            ]
          },
          "metadata": {},
          "execution_count": 72
        }
      ]
    },
    {
      "cell_type": "markdown",
      "source": [
        "### **VIEW**"
      ],
      "metadata": {
        "id": "u_JZKKHw0weF"
      }
    },
    {
      "cell_type": "code",
      "source": [
        "# returning the view of x to z \n",
        "z = x.view(1,9)\n",
        "z"
      ],
      "metadata": {
        "id": "Utvyrjj7wGjv",
        "colab": {
          "base_uri": "https://localhost:8080/"
        },
        "outputId": "714e897b-ca88-41fc-a1d7-ef3efd4d16dd"
      },
      "execution_count": null,
      "outputs": [
        {
          "output_type": "execute_result",
          "data": {
            "text/plain": [
              "tensor([[1., 2., 3., 4., 5., 6., 7., 8., 9.]])"
            ]
          },
          "metadata": {},
          "execution_count": 86
        }
      ]
    },
    {
      "cell_type": "code",
      "source": [
        "# changing z values changes x values but not shape\n",
        "# because a view of a tensor shares same memory as original one\n",
        "print(x)\n",
        "z=z.reshape(3,3)\n",
        "print(z)\n",
        "z[:,2]=11         # change every element in last col 0,1,[2] to 11\n",
        "z[1,1]=0          # change element[5] = col 1 row 1 to 0\n",
        "#z[5]=0             same result\n",
        "print(z)\n",
        "x"
      ],
      "metadata": {
        "id": "O6yUP_mbxgnz",
        "colab": {
          "base_uri": "https://localhost:8080/"
        },
        "outputId": "782eadff-35f5-4499-ca81-149d1905a46c"
      },
      "execution_count": null,
      "outputs": [
        {
          "output_type": "stream",
          "name": "stdout",
          "text": [
            "tensor([1., 2., 3., 4., 5., 6., 7., 8., 9.])\n",
            "tensor([[ 1.,  2., 11.],\n",
            "        [ 4.,  0., 11.],\n",
            "        [ 7.,  8., 11.]])\n",
            "tensor([[ 1.,  2., 11.],\n",
            "        [ 4.,  0., 11.],\n",
            "        [ 7.,  8., 11.]])\n"
          ]
        },
        {
          "output_type": "execute_result",
          "data": {
            "text/plain": [
              "tensor([1., 2., 3., 4., 5., 6., 7., 8., 9.])"
            ]
          },
          "metadata": {},
          "execution_count": 73
        }
      ]
    },
    {
      "cell_type": "markdown",
      "source": [
        "### **STACK**"
      ],
      "metadata": {
        "id": "pKmRNen6047_"
      }
    },
    {
      "cell_type": "code",
      "source": [
        "# stack tensors on top of eachother\n",
        "x_stack = torch.stack([x,x,x,x],dim=0) #dedault dim=0\n",
        "x_stack"
      ],
      "metadata": {
        "id": "NkjiLs_G066v",
        "colab": {
          "base_uri": "https://localhost:8080/"
        },
        "outputId": "bf15b655-089e-4c3d-8ca9-6841ad1e3179"
      },
      "execution_count": null,
      "outputs": [
        {
          "output_type": "execute_result",
          "data": {
            "text/plain": [
              "tensor([[1., 2., 3., 4., 5., 6., 7., 8., 9.],\n",
              "        [1., 2., 3., 4., 5., 6., 7., 8., 9.],\n",
              "        [1., 2., 3., 4., 5., 6., 7., 8., 9.],\n",
              "        [1., 2., 3., 4., 5., 6., 7., 8., 9.]])"
            ]
          },
          "metadata": {},
          "execution_count": 74
        }
      ]
    },
    {
      "cell_type": "code",
      "source": [
        "print(x_resh      )\n",
        "print(x_resh.shape)\n",
        "x_squez=x_resh.squeeze() # method .squeeze() eliminates dim=1\n",
        "print( x_squez      ) \n",
        "print( x_squez.shape )   # atribute .shape   needs no parantesis\n",
        "x_unsq = x_squez.unsqueeze(dim=0)\n"
      ],
      "metadata": {
        "colab": {
          "base_uri": "https://localhost:8080/"
        },
        "id": "DP_RLfoSOcW7",
        "outputId": "6c1cfbe7-f57e-413b-879f-16fd758c0b10"
      },
      "execution_count": null,
      "outputs": [
        {
          "output_type": "stream",
          "name": "stdout",
          "text": [
            "tensor([[1., 2., 3., 4., 5., 6., 7., 8., 9.]])\n",
            "torch.Size([1, 9])\n",
            "tensor([1., 2., 3., 4., 5., 6., 7., 8., 9.])\n",
            "torch.Size([9])\n"
          ]
        }
      ]
    },
    {
      "cell_type": "code",
      "source": [
        "x = torch.rand(2,3,5) # original dim index 0, 1, 2  valuues 2, 3, 5\n",
        "print(x.size())       # dim index 0:col 1:row 2:depht\n",
        "z=torch.permute(x,(2,0,1))  # returns view of original tensor\n",
        "print(z.size())             # with interchanged dim order  to 2 0 1\n",
        "print(x.size()) # does not change original tensor"
      ],
      "metadata": {
        "colab": {
          "base_uri": "https://localhost:8080/"
        },
        "id": "_gF9-3zwa_K2",
        "outputId": "3c0f4ab9-8169-4868-84a9-2638ca72f927"
      },
      "execution_count": null,
      "outputs": [
        {
          "output_type": "stream",
          "name": "stdout",
          "text": [
            "torch.Size([2, 3, 5])\n",
            "torch.Size([5, 2, 3])\n",
            "torch.Size([2, 3, 5])\n"
          ]
        }
      ]
    },
    {
      "cell_type": "code",
      "source": [
        "z = torch.arange(0,8,1)\n",
        "z = torch.reshape(z,[2,2,2])\n",
        "print(z)\n",
        "z = torch.permute(z,(2,1,0))  # 0:col & 2:depht interchanged\n",
        "print(z)"
      ],
      "metadata": {
        "colab": {
          "base_uri": "https://localhost:8080/"
        },
        "id": "FUk1eXkq4T_-",
        "outputId": "acc904c3-2823-4512-cb9c-673f85903d60"
      },
      "execution_count": null,
      "outputs": [
        {
          "output_type": "stream",
          "name": "stdout",
          "text": [
            "tensor([[[0, 1],\n",
            "         [2, 3]],\n",
            "\n",
            "        [[4, 5],\n",
            "         [6, 7]]])\n",
            "tensor([[[0, 4],\n",
            "         [2, 6]],\n",
            "\n",
            "        [[1, 5],\n",
            "         [3, 7]]])\n"
          ]
        }
      ]
    },
    {
      "cell_type": "markdown",
      "source": [
        "https://eli.thegreenplace.net/2015/memory-layout-of-multi-dimensional-arrays\n",
        "\n",
        "Name for dimentions"
      ],
      "metadata": {
        "id": "p1gKS_qD7-RI"
      }
    },
    {
      "cell_type": "markdown",
      "source": [
        "\n",
        "https://youtu.be/V_xro1bcAuA&t=3hy23m30s \n",
        "\n",
        "went to sleep "
      ],
      "metadata": {
        "id": "LlRE7H4f8U71"
      }
    },
    {
      "cell_type": "markdown",
      "source": [
        "#DAY 3 27 SELECTING DATA fromTENSOR"
      ],
      "metadata": {
        "id": "M2jYmoWX8Qyl"
      }
    },
    {
      "cell_type": "markdown",
      "source": [
        "indexing with pythorch is similar to numpy\n"
      ],
      "metadata": {
        "id": "CqaKRi069usQ"
      }
    },
    {
      "cell_type": "code",
      "source": [
        "import torch\n",
        "x = torch.arange(1,10).reshape(1,3,3)\n",
        "print(x)\n",
        "print(x[:][0]) # x[0] when max idex is 0 [:] is ignored\n",
        "print(x[0][0]) # x[0,0] first row\n",
        "print(x[0,0,0]) # x[0,0,0] forst element"
      ],
      "metadata": {
        "colab": {
          "base_uri": "https://localhost:8080/"
        },
        "id": "VhZUO_ps-I0k",
        "outputId": "a62fba58-23b0-4fc0-840e-ab6bec240533"
      },
      "execution_count": null,
      "outputs": [
        {
          "output_type": "stream",
          "name": "stdout",
          "text": [
            "tensor([[[1, 2, 3],\n",
            "         [4, 5, 6],\n",
            "         [7, 8, 9]]])\n",
            "tensor([[1, 2, 3],\n",
            "        [4, 5, 6],\n",
            "        [7, 8, 9]])\n",
            "tensor([1, 2, 3])\n",
            "tensor(1)\n"
          ]
        }
      ]
    },
    {
      "cell_type": "code",
      "source": [
        "print(x[0,0,:]) # row [0] = evey element last dim=2\n",
        "print(x[0,:,0]) # col [0] = evey element penultim dim=1\n",
        "print(x[0,:,:]) # x[0] first matrix"
      ],
      "metadata": {
        "colab": {
          "base_uri": "https://localhost:8080/"
        },
        "id": "57eT3QZbCaWt",
        "outputId": "b84166c5-f159-4cdb-f336-af046665dbe4"
      },
      "execution_count": null,
      "outputs": [
        {
          "output_type": "stream",
          "name": "stdout",
          "text": [
            "tensor([1, 2, 3])\n",
            "tensor([1, 4, 7])\n",
            "tensor([[1, 2, 3],\n",
            "        [4, 5, 6],\n",
            "        [7, 8, 9]])\n"
          ]
        }
      ]
    },
    {
      "cell_type": "code",
      "source": [
        "import torch\n",
        "import numpy as np\n",
        "\n",
        "array = np.arange(1.0, 8.0)\n",
        "tensor = torch.from_numpy(array) \n",
        "                        # convets from Numpy to Torch\n",
        "array, tensor"
      ],
      "metadata": {
        "colab": {
          "base_uri": "https://localhost:8080/"
        },
        "id": "ErFbFYJ6Kzcd",
        "outputId": "6e39228a-0ec8-4177-e5c0-edc0fe868a5f"
      },
      "execution_count": null,
      "outputs": [
        {
          "output_type": "execute_result",
          "data": {
            "text/plain": [
              "(array([1., 2., 3., 4., 5., 6., 7.]),\n",
              " tensor([1., 2., 3., 4., 5., 6., 7.], dtype=torch.float64))"
            ]
          },
          "metadata": {},
          "execution_count": 14
        }
      ]
    },
    {
      "cell_type": "code",
      "source": [
        "print(array.dtype ) # float64 np array)\n",
        "print(tensor.dtype) # float64 torch ensor\n",
        "tensor = torch.from_numpy(array).type(torch.float32)\n",
        "tensor.dtype        # conert do default dtype foat32"
      ],
      "metadata": {
        "colab": {
          "base_uri": "https://localhost:8080/"
        },
        "id": "4vKTFF3f9H1g",
        "outputId": "c2f4ff94-ef4f-46b3-d209-9851ffd8d2af"
      },
      "execution_count": null,
      "outputs": [
        {
          "output_type": "stream",
          "name": "stdout",
          "text": [
            "float64\n",
            "torch.float64\n"
          ]
        },
        {
          "output_type": "execute_result",
          "data": {
            "text/plain": [
              "torch.float32"
            ]
          },
          "metadata": {},
          "execution_count": 13
        }
      ]
    },
    {
      "cell_type": "code",
      "source": [
        "array = array + 1  # from_numpy makes a copy of array\n",
        "array , tensor     # tensor doesnt change"
      ],
      "metadata": {
        "colab": {
          "base_uri": "https://localhost:8080/"
        },
        "id": "Swy7Ffr9APgg",
        "outputId": "848fc00f-0ce6-4003-f875-f7f87d5f73d3"
      },
      "execution_count": null,
      "outputs": [
        {
          "output_type": "execute_result",
          "data": {
            "text/plain": [
              "(array([2., 3., 4., 5., 6., 7., 8.]),\n",
              " tensor([1., 2., 3., 4., 5., 6., 7.], dtype=torch.float64))"
            ]
          },
          "metadata": {},
          "execution_count": 15
        }
      ]
    },
    {
      "cell_type": "markdown",
      "source": [
        "https://youtu.be/V_xro1bcAuA&t=3h40m\n",
        "https://pytorch.org/tutorials/beginner/examples_tensor/polynomial_numpy.html"
      ],
      "metadata": {
        "id": "R01kPBmJR2Zo"
      }
    },
    {
      "cell_type": "markdown",
      "source": [
        "## 29 REPRODUCIBILITY\n",
        "* start random numbers \n",
        "* tensor operations\n",
        "* update numbers to adjust to data\n",
        "* repeat process\n",
        "\n",
        "reduce same \"random\" outcome = reproducibility\n",
        "\n",
        "https://pytorch.org/docs/stable/notes/randomness.html\n",
        "\n",
        "to redice randomness we use same SEED hence same \"random\" values"
      ],
      "metadata": {
        "id": "_p0kcoH7Wa1q"
      }
    },
    {
      "cell_type": "code",
      "source": [
        "import torch\n",
        "RANDOM_SEED = 21121994\n",
        "torch.manual_seed(RANDOM_SEED)\n",
        "\n",
        "rand_a =torch.rand(3,4)\n",
        "rand_b =torch.rand(3,4)\n",
        "print(rand_a)\n",
        "print(rand_b)\n",
        "print(rand_a == rand_b) \n",
        "\n",
        "torch.manual_seed(RANDOM_SEED) # RESET SEED\n",
        "#same vaues as previous exampe\n",
        "rand_c =torch.rand(3,4)\n",
        "rand_d =torch.rand(3,4)\n",
        "print(rand_c)\n",
        "print(rand_c)\n",
        "print(rand_a == rand_c) "
      ],
      "metadata": {
        "colab": {
          "base_uri": "https://localhost:8080/"
        },
        "id": "Ntnf6wtXRzpU",
        "outputId": "6ce77419-3f76-4c34-eea6-7773ef75f164"
      },
      "execution_count": null,
      "outputs": [
        {
          "output_type": "stream",
          "name": "stdout",
          "text": [
            "tensor([[0.8214, 0.3550, 0.2988, 0.4180],\n",
            "        [0.4666, 0.8903, 0.7180, 0.5552],\n",
            "        [0.8766, 0.8868, 0.1002, 0.6008]])\n",
            "tensor([[0.2911, 0.8045, 0.1991, 0.7702],\n",
            "        [0.4031, 0.7608, 0.8120, 0.8189],\n",
            "        [0.5743, 0.2497, 0.4035, 0.5814]])\n",
            "tensor([[False, False, False, False],\n",
            "        [False, False, False, False],\n",
            "        [False, False, False, False]])\n",
            "tensor([[0.8214, 0.3550, 0.2988, 0.4180],\n",
            "        [0.4666, 0.8903, 0.7180, 0.5552],\n",
            "        [0.8766, 0.8868, 0.1002, 0.6008]])\n",
            "tensor([[0.8214, 0.3550, 0.2988, 0.4180],\n",
            "        [0.4666, 0.8903, 0.7180, 0.5552],\n",
            "        [0.8766, 0.8868, 0.1002, 0.6008]])\n",
            "tensor([[True, True, True, True],\n",
            "        [True, True, True, True],\n",
            "        [True, True, True, True]])\n"
          ]
        }
      ]
    },
    {
      "cell_type": "markdown",
      "source": [
        "## 30 different ways acces GPU in PyTorch\n",
        "\n",
        "GPU makes faster computation on numbers \n",
        "\n",
        "thanks to cuda + nvidia hardware  \n",
        "## options\n",
        "* Colab & colab pro\n",
        "* your own GPU (needs pytorch cuda setup)https://pytorch.org/get-started/locally/\n",
        "* Cloud : GCP AWS Azure and others services"
      ],
      "metadata": {
        "id": "9p25Vd3AapQ2"
      }
    },
    {
      "cell_type": "code",
      "source": [
        "  !nvidia-smi # Tesla T4  https://technical.city/en/video/Tesla-K80-vs-Tesla-T4"
      ],
      "metadata": {
        "colab": {
          "base_uri": "https://localhost:8080/"
        },
        "id": "-99bKZvfoj2j",
        "outputId": "aa836bdf-8489-4bb1-f5a2-5558da86bb62"
      },
      "execution_count": null,
      "outputs": [
        {
          "output_type": "stream",
          "name": "stdout",
          "text": [
            "Tue Apr 11 04:58:28 2023       \n",
            "+-----------------------------------------------------------------------------+\n",
            "| NVIDIA-SMI 525.85.12    Driver Version: 525.85.12    CUDA Version: 12.0     |\n",
            "|-------------------------------+----------------------+----------------------+\n",
            "| GPU  Name        Persistence-M| Bus-Id        Disp.A | Volatile Uncorr. ECC |\n",
            "| Fan  Temp  Perf  Pwr:Usage/Cap|         Memory-Usage | GPU-Util  Compute M. |\n",
            "|                               |                      |               MIG M. |\n",
            "|===============================+======================+======================|\n",
            "|   0  Tesla T4            Off  | 00000000:00:04.0 Off |                    0 |\n",
            "| N/A   40C    P8     9W /  70W |      0MiB / 15360MiB |      0%      Default |\n",
            "|                               |                      |                  N/A |\n",
            "+-------------------------------+----------------------+----------------------+\n",
            "                                                                               \n",
            "+-----------------------------------------------------------------------------+\n",
            "| Processes:                                                                  |\n",
            "|  GPU   GI   CI        PID   Type   Process name                  GPU Memory |\n",
            "|        ID   ID                                                   Usage      |\n",
            "|=============================================================================|\n",
            "|  No running processes found                                                 |\n",
            "+-----------------------------------------------------------------------------+\n"
          ]
        }
      ]
    },
    {
      "cell_type": "code",
      "source": [
        "#check for gpu acces\n",
        "import torch\n",
        "torch.cuda.is_available() #true"
      ],
      "metadata": {
        "colab": {
          "base_uri": "https://localhost:8080/"
        },
        "id": "PQNzZ5j7sXun",
        "outputId": "e39f0718-0c38-4c5f-95bc-b7b8136b6416"
      },
      "execution_count": null,
      "outputs": [
        {
          "output_type": "execute_result",
          "data": {
            "text/plain": [
              "True"
            ]
          },
          "metadata": {},
          "execution_count": 3
        }
      ]
    },
    {
      "cell_type": "markdown",
      "source": [
        "setupp device agnostic code"
      ],
      "metadata": {
        "id": "AA10BsGas2lA"
      }
    },
    {
      "cell_type": "code",
      "source": [
        "device = \"cuda\" if torch.cuda.is_available() else \"cpu\"\n",
        "device #CUDA  when entorno trabajo =GPU\n",
        "torch.cuda.device_count() #1"
      ],
      "metadata": {
        "colab": {
          "base_uri": "https://localhost:8080/"
        },
        "id": "VE0VRFIcs6I_",
        "outputId": "d89f2e06-76d0-4af5-cdd9-a9e3000c5c3a"
      },
      "execution_count": null,
      "outputs": [
        {
          "output_type": "execute_result",
          "data": {
            "text/plain": [
              "1"
            ]
          },
          "metadata": {},
          "execution_count": 6
        }
      ]
    },
    {
      "cell_type": "markdown",
      "source": [
        "DEVICE AGOSTIC CODE \n",
        "\n",
        "https://pytorch.org/docs/stable/notes/cuda.html"
      ],
      "metadata": {
        "id": "i7PZJwQpuFXo"
      }
    },
    {
      "cell_type": "markdown",
      "source": [
        "## 31 SETING UP DEVISE AGNOSTIC CODE\n",
        "\n",
        "https://www.youtube.com/watch?v=V_xro1bcAuA&t=4h5m"
      ],
      "metadata": {
        "id": "EBNNQeXTuegF"
      }
    },
    {
      "cell_type": "code",
      "source": [
        "import torch as torch\n",
        "torch.cuda.is_available()"
      ],
      "metadata": {
        "colab": {
          "base_uri": "https://localhost:8080/"
        },
        "id": "H-56MBdAqsJM",
        "outputId": "b298374a-1700-469e-9027-e102edd1d082"
      },
      "execution_count": null,
      "outputs": [
        {
          "output_type": "execute_result",
          "data": {
            "text/plain": [
              "True"
            ]
          },
          "metadata": {},
          "execution_count": 1
        }
      ]
    },
    {
      "cell_type": "code",
      "source": [
        "device = \"cuda\" if torch.cuda.is_available() else \"cpu\"\n",
        "print(device) #CUDA  when entorno trabajo =GPU\n",
        "torch.cuda.device_count() #1"
      ],
      "metadata": {
        "id": "fvTA_KdW-pv6",
        "colab": {
          "base_uri": "https://localhost:8080/"
        },
        "outputId": "be2803d4-d82f-4573-9f2b-88dbf3de0be5"
      },
      "execution_count": null,
      "outputs": [
        {
          "output_type": "stream",
          "name": "stdout",
          "text": [
            "cuda\n"
          ]
        },
        {
          "output_type": "execute_result",
          "data": {
            "text/plain": [
              "1"
            ]
          },
          "metadata": {},
          "execution_count": 2
        }
      ]
    },
    {
      "cell_type": "code",
      "source": [
        "tensor = torch.tensor([1,2,3]) #tensor not on GPU\n",
        "print(tensor, tensor.device)    #tensor    on CPU"
      ],
      "metadata": {
        "colab": {
          "base_uri": "https://localhost:8080/"
        },
        "id": "bJHA7Rcl8Ufd",
        "outputId": "e5bce2aa-c17a-4768-a275-bcb80f9ec5e9"
      },
      "execution_count": null,
      "outputs": [
        {
          "output_type": "stream",
          "name": "stdout",
          "text": [
            "tensor([1, 2, 3]) cpu\n"
          ]
        }
      ]
    },
    {
      "cell_type": "code",
      "source": [
        "# move tensor to GPU if available\n",
        "tensor_GPU = tensor.to(device)\n",
        "tensor_GPU"
      ],
      "metadata": {
        "id": "IqteUDh39W-L",
        "colab": {
          "base_uri": "https://localhost:8080/"
        },
        "outputId": "a5068cab-34bb-492f-d35b-ac39ee1c9ddc"
      },
      "execution_count": null,
      "outputs": [
        {
          "output_type": "execute_result",
          "data": {
            "text/plain": [
              "tensor([1, 2, 3], device='cuda:0')"
            ]
          },
          "metadata": {},
          "execution_count": 7
        }
      ]
    },
    {
      "cell_type": "code",
      "source": [
        "tensor.device"
      ],
      "metadata": {
        "colab": {
          "base_uri": "https://localhost:8080/"
        },
        "id": "ISa6IPaT-4c-",
        "outputId": "35457060-72e3-44d4-8f60-3d23bbba8c31"
      },
      "execution_count": null,
      "outputs": [
        {
          "output_type": "execute_result",
          "data": {
            "text/plain": [
              "device(type='cpu')"
            ]
          },
          "metadata": {},
          "execution_count": 5
        }
      ]
    },
    {
      "cell_type": "markdown",
      "source": [
        "MORE PRACTICE FUNDAMENTALS https://www.learnpytorch.io/00_pytorch_fundamentals/"
      ],
      "metadata": {
        "id": "p8cGxqSZ0fv4"
      }
    }
  ]
}