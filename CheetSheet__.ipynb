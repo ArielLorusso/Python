{
  "cells": [
    {
      "cell_type": "markdown",
      "source": [
        "# PYTHON BASICS"
      ],
      "metadata": {
        "id": "_GSt2qrFdxTo"
      }
    },
    {
      "cell_type": "markdown",
      "source": [
        "## WHAT is Python ?\n",
        "\n",
        "\n",
        "\n",
        "```\n",
        "Python is a      Dynamic ,  Hgigh-level   &   Interpreted    programming language.\n",
        "\n",
        "```\n",
        "\n",
        "\n",
        "## Python  :\n",
        "\n",
        "\n",
        "*  DYNAMIC :\n",
        "\n",
        ">In Python, we don’t need to declare the type of variableIndented block\n",
        "\n",
        "\n",
        "* HIGH-LEVEL :\n",
        "\n",
        "> not need to know the system architecture, or how it manages its memory.\n",
        "\n",
        "* INTEPRETED\n",
        "\n",
        "> Python codes are generaly not compiled\n",
        ">\n",
        ">Unless you use py_compile module , it's executed by the Python interpreter\n",
        ">\n",
        ">>the command python3 has a built in REPL (Read, Evaluate, Print, Loop)\n",
        "> this makes it fast & easier to run & debug our code\n",
        "\n",
        "\n",
        "* FREE:\n",
        "\n",
        "> Download from official website   https://www.python.org/downloads/\n",
        "Being open source anyone can access the source code and see how it works\n",
        "\n"
      ],
      "metadata": {
        "id": "iY4JmV2h1NFH"
      }
    },
    {
      "cell_type": "markdown",
      "source": [
        "\n",
        "\n",
        "### WHY PYTHON = EASY ? :\n",
        "\n",
        "1. DIRECT:\n",
        "\n",
        " > Python’s syntax is really straightforward.\n",
        "\n",
        "2. READABLE:\n",
        "\n",
        " > The code block is defined by the indentations rather than by semicolons or brackets.\n",
        "\n",
        "3. BIG SRD LIBRARY :\n",
        "\n",
        " > Python's large standard library provides a rich set of modules and functions so you do not have to write/test them.\n",
        "\n",
        "4. BIG COMUNITY :\n",
        "\n",
        " > Python has gained popularity over the years. Questions are constantly answered by the enormous  StackOverflow community.\n",
        "\n",
        "\n",
        "\n",
        "It supports object-oriented programming as well as procedural-oriented programming.\n",
        "\n",
        "\n",
        "\n"
      ],
      "metadata": {
        "id": "oYIkZOVbkEh4"
      }
    },
    {
      "cell_type": "markdown",
      "source": [
        "### FRATURES :\n",
        "\n",
        "1. GUI Programming Support\n",
        "\n",
        " > Made easy using modules such as PyQt5 , wxPython, Flet or Tk among many others in Python.\n",
        "\n",
        "\n",
        "2. Being a Portable language\n",
        "\n",
        " > Python language is also a portable language. For example, if we have Python code for Windows and if we want to run this code on other platforms such as Linux, Unix, and Mac then we do not need to change it, we can run this code on any platform.\n",
        "\n",
        "10. Integrated language\n",
        "\n",
        " > we can easily integrate Python with other languages like C, C++, etc.\n",
        "\n",
        "\n",
        "12. Libraryes.\n",
        " >  There are many libraries present in Python such as regular expressions, unit-testing, web browsers, etc.\n",
        "\n",
        "13. Dynamically Typed Language\n",
        "Python is a dynamically-typed language. That means the type (for example- int, double, long, etc.) for a variable is decided at run time not in advance because of this feature we don’t need to specify the type of variable.\n",
        "\n",
        "14. Frontend and backend development\n",
        "\n",
        "py-script, you can run and write Python codes in HTML with the help of some simple tags <py-script>, <py-env>, etc. This will help you do frontend development.\n",
        " work in Python like javascript.\n",
        "\n",
        "2. Backend\n",
        "\n",
        "Python is extensively used for this work cause of its frameworks like Django and Flask.\n",
        "\n",
        "15. Dynamic Memory\n",
        "\n",
        "The memory is automatically allocated to a variable at runtime when it is given a value."
      ],
      "metadata": {
        "id": "CCfwhLWv1YET"
      }
    },
    {
      "cell_type": "markdown",
      "source": [
        "## KEY-WORDS"
      ],
      "metadata": {
        "id": "9WgmFmbuerTS"
      }
    },
    {
      "cell_type": "code",
      "source": [
        "False,              class,              from                or\n",
        "None,               continue            global              pass\n",
        "True,               def                 if                  raise\n",
        "and,                del                 import              return\n",
        "as                  elif                in                  try\n",
        "assert              else                is                  while\n",
        "async               except              lambda              with\n",
        "await,              finally             nonlocal            yield\n",
        "break,              for                 not"
      ],
      "metadata": {
        "id": "weJHsyj1etuQ"
      },
      "execution_count": null,
      "outputs": []
    },
    {
      "cell_type": "markdown",
      "source": [
        "## DOCUMENTATION (learn more)\n",
        "\n",
        "Python teaches itself\n",
        "1. open a terminal (clt+t Linux) (wind+cmd Windows)\n",
        "or\n",
        "\n",
        "2. you will see:\n",
        "\n",
        " > Type : help() , copyright() , credits() , license() for more information.\n"
      ],
      "metadata": {
        "id": "P_gM5-wR2Fsn"
      }
    },
    {
      "cell_type": "code",
      "source": [
        "help() # \"modules\", \"keywords\", \"symbols\", or \"topics\""
      ],
      "metadata": {
        "colab": {
          "base_uri": "https://localhost:8080/"
        },
        "id": "osbX-4W7dmM4",
        "outputId": "4b774d93-9076-4522-f96d-d6052e194395"
      },
      "execution_count": null,
      "outputs": [
        {
          "output_type": "stream",
          "name": "stdout",
          "text": [
            "\n",
            "Welcome to Python 3.10's help utility!\n",
            "\n",
            "If this is your first time using Python, you should definitely check out\n",
            "the tutorial on the internet at https://docs.python.org/3.10/tutorial/.\n",
            "\n",
            "Enter the name of any module, keyword, or topic to get help on writing\n",
            "Python programs and using Python modules.  To quit this help utility and\n",
            "return to the interpreter, just type \"quit\".\n",
            "\n",
            "To get a list of available modules, keywords, symbols, or topics, type\n",
            "\"modules\", \"keywords\", \"symbols\", or \"topics\".  Each module also comes\n",
            "with a one-line summary of what it does; to list the modules whose name\n",
            "or summary contain a given string such as \"spam\", type \"modules spam\".\n",
            "\n",
            "\n",
            "You are now leaving help and returning to the Python interpreter.\n",
            "If you want to ask for help on a particular object directly from the\n",
            "interpreter, you can type \"help(object)\".  Executing \"help('string')\"\n",
            "has the same effect as typing a particular string at the help> prompt.\n"
          ]
        }
      ]
    },
    {
      "cell_type": "markdown",
      "source": [
        "if learning from the console is not your cup of tea visit  \n",
        "\n",
        "DOCUMENTATION\n",
        ">   Pyton.org :\n",
        ">\n",
        ">   Oficial site Documentation . ▶  https://docs.python.org/3/\n",
        ">\n",
        ">   . . . . . . . . . . . . . .https://docs.python.org/3/contents.html\n",
        ">\n",
        ">   DevDocs :\n",
        ">\n",
        ">   Concise for any Programing language . ▶  https://devdocs.io/python~3.11/\n",
        "\n",
        "TUTORIALS\n",
        "> Geeks For Geeks :\n",
        ">\n",
        "> ▶ Projects : OpenCv . Scrape . Django . TTS . GUI\n",
        ">https://www.geeksforgeeks.org/python-projects-beginner-to-advanced/?ref=lbp\n",
        ">\n",
        "> W3school :\n",
        ">\n",
        ">  . . . . . . . .DJANGO  https://www.w3schools.com/django/\n",
        ">\n",
        "> ▶  EXT Libs tutorial https://www.w3schools.com/python/python_reference.asp\n",
        ">\n",
        "> Tutorials Teacher\n",
        ">\n",
        "> ▶  STD Libs tutorials https://www.tutorialsteacher.com/python/\n",
        "\n",
        "CONSICE\n",
        "> Python CheatSheet:\n",
        "> https://www.pythoncheatsheet.org/\n",
        ">\n",
        "> W3docs :\n",
        "> https://www.w3docs.com/learn-python/python-syntax.html\n",
        ">\n",
        "> https://note.nkmk.me/en/python-post-summary/\n",
        "\n",
        "\n",
        "\n",
        "ROAD MAP :\n",
        "> ▶  Graphic maps for anything\n",
        "https://roadmap.sh/python\n",
        "\n",
        "SNIPLETS\n",
        "\n",
        "https://github.com/nkmk/python-snippets/ . **14 Mb** . . over 850 examples.py . + Data redy to run   \n",
        "\n"
      ],
      "metadata": {
        "id": "TdxSeUMF437B"
      }
    },
    {
      "cell_type": "markdown",
      "source": [
        "### **PY VERSIONS**\n",
        "```\n",
        "User@pc-name:~$    python3 --version\n",
        "Python 3.10.12\n",
        "```\n",
        "**Release/Support** cycles https://devguide.python.org/versions/\n",
        "\n",
        "#### **MICROPYTHON** :https://micropython.org/download/\n",
        " Python 3 implementation that includes a small subset of the standard library\n",
        "\n",
        " and is optimised to run on microcontrollers\n",
        " . . . . . . . . ![Mycropy.svg](https://i.imgur.com/pkBwBHi.png)\n",
        "\n",
        "\n",
        "#### **JULIA** : https://julialang.org/\n",
        "\n",
        " Centered in High performance. Julia programs compile to efficient native code for multiple platforms via LLVM.\n",
        "\n",
        " It can easily use libraries from Python, R, C/Fortran, C++, and Java.!\n",
        "![Julia-2566.svg](https://i.imgur.com/K8Zz0ZX.png)\n",
        "https://www.freeconvert.com/png-to-svg/\n"
      ],
      "metadata": {
        "id": "sXXK7FzlmSeV"
      }
    },
    {
      "cell_type": "markdown",
      "source": [
        "**MOJO 🔥 FRAMEWORK** : Superset of Python with C performance\n",
        "https://docs.modular.com/mojo/manual/basics/#python-integration\n",
        "![MOJO2.svg](https://i.imgur.com/IVMFdxk.png)\n",
        "\n",
        "Install the Mojo SDK:https://developer.modular.com/download\n",
        "\n"
      ],
      "metadata": {
        "id": "nl8FvzsK8Npk"
      }
    },
    {
      "cell_type": "code",
      "source": [
        "import sys\n",
        "print (sys.version)"
      ],
      "metadata": {
        "colab": {
          "base_uri": "https://localhost:8080/"
        },
        "id": "hdMLQD2nZoyT",
        "outputId": "bef1c588-a087-4d72-93c6-77d3272b8c3f"
      },
      "execution_count": null,
      "outputs": [
        {
          "output_type": "stream",
          "name": "stdout",
          "text": [
            "3.10.12 (main, Jun 11 2023, 05:26:28) [GCC 11.4.0]\n"
          ]
        }
      ]
    },
    {
      "cell_type": "markdown",
      "source": [
        "## FUNCTIONS & TYPES"
      ],
      "metadata": {
        "id": "1HwMBKLiL-Cw"
      }
    },
    {
      "cell_type": "markdown",
      "source": [
        "FUNCTION ANOTATIONS . . . (INPUT:types) -> OUTPUT:types\n",
        "\n",
        "https://docs.python.org/3/tutorial/controlflow.html#function-annotations\n",
        "\n",
        "LAMDAS . . . . . return lambda x: x + n\n",
        "\n",
        "https://docs.python.org/3/tutorial/controlflow.html#lambda-expressions"
      ],
      "metadata": {
        "id": "AMSaAfKj-NRH"
      }
    },
    {
      "cell_type": "code",
      "source": [
        "def plus5( num:list[float] ) -> int :     # def func_name (argument )\n",
        "  n:int = 5                               # :int  is just anotation NO-WARNINGS\n",
        "  squares = map(lambda x: int(n+x), num)  # int() is an actual type conversion\n",
        "  return  squares\n",
        "\n",
        "x=[1,2,4,5.5]\n",
        "list(plus5(x))  # we return list[int] but promised int and no warning is"
      ],
      "metadata": {
        "colab": {
          "base_uri": "https://localhost:8080/"
        },
        "id": "mjpSjuwmHs3e",
        "outputId": "06639294-1242-4395-be6e-30f001ea400f"
      },
      "execution_count": null,
      "outputs": [
        {
          "output_type": "execute_result",
          "data": {
            "text/plain": [
              "[6, 7, 9, 10]"
            ]
          },
          "metadata": {},
          "execution_count": 55
        }
      ]
    },
    {
      "cell_type": "code",
      "source": [
        "# @title   EMPTY FINCTION\n",
        "\n",
        "def func1 (): # ERROR  expected an indented block after function\n",
        "\n",
        "def func2 (): # GOOD  umpty functions should use pass\n",
        "    pass\n",
        "\n",
        "pass,  break,  continue, return # one of many flow statements\n",
        "if()   elif()  while()  for()  match() : case: #switch () case\n",
        "# https://docs.python.org/3/tutorial/controlflow.html#defining-functions"
      ],
      "metadata": {
        "id": "QJj04PX6NXBQ"
      },
      "execution_count": null,
      "outputs": []
    },
    {
      "cell_type": "markdown",
      "source": [
        "###  DATA TYPES\n",
        "  https://docs.python.org/3/library/typing.html#"
      ],
      "metadata": {
        "id": "2-I08deZSGdX"
      }
    },
    {
      "cell_type": "code",
      "source": [
        "int, float, str, complex, bool"
      ],
      "metadata": {
        "id": "U1HjXPEUSUcV"
      },
      "execution_count": null,
      "outputs": []
    },
    {
      "cell_type": "markdown",
      "source": [
        "### LAMBDAS"
      ],
      "metadata": {
        "id": "9SHzV2KZT-7C"
      }
    },
    {
      "cell_type": "code",
      "source": [
        "x = lambda a : a + 10\n",
        "print( x(5) )"
      ],
      "metadata": {
        "id": "7mk843tBczfX",
        "colab": {
          "base_uri": "https://localhost:8080/"
        },
        "outputId": "3ef5f35c-113e-4f54-ac82-d05c71895983"
      },
      "execution_count": null,
      "outputs": [
        {
          "output_type": "stream",
          "name": "stdout",
          "text": [
            "15\n"
          ]
        }
      ]
    },
    {
      "cell_type": "code",
      "source": [
        "def funcMaker_multiply(n):\n",
        "  return lambda a : a * n\n",
        "\n",
        "myDoubler = funcMaker_multiply(2)\n",
        "\n",
        "print( myDoubler(11) )"
      ],
      "metadata": {
        "colab": {
          "base_uri": "https://localhost:8080/"
        },
        "id": "SRQrTsH2TrfJ",
        "outputId": "d46636e7-72e3-490d-81b7-9a7d51055d6b"
      },
      "execution_count": null,
      "outputs": [
        {
          "output_type": "stream",
          "name": "stdout",
          "text": [
            "22\n"
          ]
        }
      ]
    },
    {
      "cell_type": "markdown",
      "source": [
        "### Yeld"
      ],
      "metadata": {
        "id": "1hkrD2C4-I1A"
      }
    },
    {
      "cell_type": "code",
      "source": [
        "import random\n",
        "\n",
        "def lottery():\n",
        "  # returns a 7th number between 1 and 15\n",
        "  for i in range(5):\n",
        "    yield random.randint(1, 5)\n",
        "  # returns 6 numbers between 1 and 40\n",
        "  for i in range(5):\n",
        "    yield random.randint(1, 100)\n",
        "\n",
        "\n",
        "for random_number in lottery():\n",
        "  if random_number > 10:\n",
        "    print(\"Wining number is... %d!\" %(random_number))\n",
        "  else: print(\"number too small %d!\" %(random_number))\n",
        "for random_number in lottery():\n",
        "  print(\"Still going ? %d!\" %(random_number))"
      ],
      "metadata": {
        "colab": {
          "base_uri": "https://localhost:8080/"
        },
        "id": "Pou4lbrOMMrm",
        "outputId": "9937f0b4-96fc-462d-af17-c1dc0dde394b"
      },
      "execution_count": null,
      "outputs": [
        {
          "output_type": "stream",
          "name": "stdout",
          "text": [
            "number too small 3!\n",
            "number too small 4!\n",
            "number too small 4!\n",
            "number too small 2!\n",
            "number too small 4!\n",
            "Wining number is... 68!\n",
            "Wining number is... 75!\n",
            "Wining number is... 97!\n",
            "Wining number is... 62!\n",
            "Wining number is... 26!\n",
            "Still going ? 3!\n",
            "Still going ? 2!\n",
            "Still going ? 5!\n",
            "Still going ? 2!\n",
            "Still going ? 1!\n",
            "Still going ? 13!\n",
            "Still going ? 19!\n",
            "Still going ? 29!\n",
            "Still going ? 23!\n",
            "Still going ? 40!\n"
          ]
        }
      ]
    },
    {
      "cell_type": "markdown",
      "source": [
        "### BUILT IN FUNCIONS\n",
        "Function\tDescription"
      ],
      "metadata": {
        "id": "_GfRvoE0jJ68"
      }
    },
    {
      "cell_type": "code",
      "source": [
        "# MATH\n",
        "abs()       # Return the absolute value of a number.\n",
        "pow()       # Return base to the power exp.\n",
        "round()     # Return number rounded to ndigits precision after the decimal point.\n",
        "divmod()    # Return a pair of numbers consisting of their quotient and remainder.\n",
        "\n",
        "# ITERATOR\n",
        "enumerate() # Return an enumerate object.\n",
        "iter()      # Return an iterator object.\n",
        "aiter()     # Return an asynchronous iterator for an asynchronous iterable.\n",
        "filter()    # Construct an iterator from an iterable and returns true.\n",
        "map()       # Return an iterator that applies function to every item of iterable.\n",
        "any()       # Return True if any element of the iterable is true.\n",
        "all()       # Return True if all elements of the iterable are true.\n",
        "sum()       # Sums start and the items of an iterable.\n",
        "max()       # Return the largest item in an iterable.\n",
        "min()       # Return the smallest item in an iterable.\n",
        "zip()       # Iterate over several iterables in parallel.\n",
        "next()      # Retrieve the next item from the iterator.\n",
        "reversed()  # Return a reverse iterator.\n",
        "\n",
        "# TYPE CASTING\n",
        "bin()       # Convert an integer number to a binary string.\n",
        "bool()      # Return a Boolean value.\n",
        "float()     # Return a floating point number from a number or string.\n",
        "int()       # Return an integer object constructed from a number or string.\n",
        "oct()       # Convert an integer number to an octal string.\n",
        "complex()   # Return a complex number with the value real + imag*j.\n",
        "\n",
        "hex()       # Convert an integer number to a lowercase hexadecimal string.\n",
        "input()     # This function takes an input and converts it into a string.\n",
        "chr()       # Return the string representing a character.\n",
        "str()       # Return a str version of object.\n",
        "ord()       # Return an integer representing the Unicode code point of a character.\n",
        "ascii()     # Return a string with a printable representation of an object.\n",
        "\n",
        "bytes()     # Return a new “bytes” object.\n",
        "bytearray() # Return a new array of bytes.\n",
        "\n",
        "# STRUCTURES\n",
        "list()      # Rather than being a function, list is a mutable sequence type.\n",
        "set()       # Return a new set object.\n",
        "dict()      # Create a new dictionary.\n",
        "tuple()     # Rather than being a function, is actually an immutable sequence type.\n",
        "len()       # Return the length (the number of items) of an object.\n",
        "setattr()   # This is the counterpart of getattr().\n",
        "slice()     # Return a sliced object representing a set of indices.\n",
        "sorted()    # Return a new sorted list from the items in iterable.\n",
        "frozenset() # Return a new frozenset object.\n",
        "\n",
        "#  OBJ\n",
        "staticmethod () # Transform a method into a static method.\n",
        "object()    # Return a new featureless object.\n",
        "super()     # Return a proxy object that delegates method calls to a parent or sibling.\n",
        "type()      # Return the type of an object.\n",
        "property()  # Return a property attribute.\n",
        "classmethod()# Transform a method into a class method.\n",
        "issubclass() #  Return True if class is a subclass of classinfo.\n",
        "isinstance() #  Return True if the object argument is an instance of an object.\n",
        "callable()  # Return True if the object argument is callable, False if not.\n",
        "getattr()   # Return the value of the named attribute of object.\n",
        "hasattr()   # True if the string is the name of one of the object’s attributes.\n",
        "delattr()   # Deletes the named attribute, provided the object allows it.\n",
        "hash()      # Return the hash value of the object.\n",
        "id()        # Return the “identity” of an object.\n",
        "repr()      # Return a string containing a printable representation of an object.\n",
        "vars()      # Return the dict attribute for any other object with a dict attribute.\n",
        "\n",
        "\n",
        "#  DEBUG\n",
        "breakpoint() # Drops you into the debugger at the call site.\n",
        "compile()   # Compile the source into a code or AST object.\n",
        "dir()       # Return the list of names in the current local scope.\n",
        "locals()    # Update and return a dictionary with the current local symbol table.\n",
        "eval()      # Evaluates and executes an expression.\n",
        "exec()      # This function supports dynamic execution of Python code.\n",
        "help()      # Invoke the built-in help system.\n",
        "format()    # Convert a value to a “formatted” representation.\n",
        "globals()   # Return the dictionary implementing the current module namespace.\n",
        "\n",
        "# FILE\n",
        "open()      # Open file and return a corresponding file object.\n",
        "print()     # Print objects to the text stream file.\n",
        "#import()    # This function is invoked by the import statement."
      ],
      "metadata": {
        "id": "BEgUEanMjYqE"
      },
      "execution_count": null,
      "outputs": []
    },
    {
      "cell_type": "code",
      "source": [],
      "metadata": {
        "id": "RMADx71pBnP3"
      },
      "execution_count": null,
      "outputs": []
    },
    {
      "cell_type": "code",
      "source": [
        "a = list(range(0,10,2))\n",
        "a"
      ],
      "metadata": {
        "colab": {
          "base_uri": "https://localhost:8080/"
        },
        "id": "EkOow_vORTTP",
        "outputId": "3c6a252c-0800-4925-adc7-1a1f242b91c5"
      },
      "execution_count": null,
      "outputs": [
        {
          "output_type": "execute_result",
          "data": {
            "text/plain": [
              "[0, 2, 4, 6, 8]"
            ]
          },
          "metadata": {},
          "execution_count": 4
        }
      ]
    },
    {
      "cell_type": "code",
      "source": [
        "a =[]\n",
        "for b in range(0,5,2):\n",
        " a.append(b)\n",
        "a"
      ],
      "metadata": {
        "colab": {
          "base_uri": "https://localhost:8080/"
        },
        "id": "iUfo7I36SDIW",
        "outputId": "de5824ab-8741-4af0-9f7a-ae8636dec746"
      },
      "execution_count": null,
      "outputs": [
        {
          "output_type": "execute_result",
          "data": {
            "text/plain": [
              "[0, 2, 4]"
            ]
          },
          "metadata": {},
          "execution_count": 158
        }
      ]
    },
    {
      "cell_type": "markdown",
      "source": [
        "## OPERATORS"
      ],
      "metadata": {
        "id": "U5b9SXbMTBGW"
      }
    },
    {
      "cell_type": "markdown",
      "source": [
        "### ARITMETIC"
      ],
      "metadata": {
        "id": "pMeMRtxbWRI5"
      }
    },
    {
      "cell_type": "code",
      "source": [
        "#   Example      Operators   Operation\n",
        "#  2  **  3 = 8       **         Exponent\n",
        "#  22  %  8 = 6       %          Modulus/Remainder\n",
        "#  22  // 8 = 2       //         Integer division\n",
        "#  22  /  8 = 2.75    /          Division\n",
        "#   3  *  3 = 9       *          Multiplication\n",
        "#   5  -  2 = 3       -          Subtraction\n",
        "#   2  +  2 = 4       +          Addition"
      ],
      "metadata": {
        "id": "tMPi_OejUyD9"
      },
      "execution_count": null,
      "outputs": []
    },
    {
      "cell_type": "markdown",
      "source": [
        "### LOGIC"
      ],
      "metadata": {
        "id": "-jVsO1P6WbZx"
      }
    },
    {
      "cell_type": "code",
      "source": [
        "a = (True and True )  # only input for :  AND -> True\n",
        "c = (False or False)  # only input for :  OR  -> False\n",
        "b = ( True ^ False )  # XOR true if inputs dont match\n",
        "d = not (False)       # complementary.... incerse logic state\n",
        "a,b,c,d"
      ],
      "metadata": {
        "colab": {
          "base_uri": "https://localhost:8080/"
        },
        "id": "5Fy7FHl7UPXJ",
        "outputId": "4e18a992-7914-464d-9123-26fac8ceb63d"
      },
      "execution_count": null,
      "outputs": [
        {
          "output_type": "execute_result",
          "data": {
            "text/plain": [
              "(True, True, False, True)"
            ]
          },
          "metadata": {},
          "execution_count": 174
        }
      ]
    },
    {
      "cell_type": "markdown",
      "source": [
        "### WALRUS\n",
        " allows assignment of variables while returning the value of the variable\n"
      ],
      "metadata": {
        "id": "5PMNq06WWphf"
      }
    },
    {
      "cell_type": "code",
      "source": [
        "print(my_var=\"Hello World!\") # TypeError: 'my_var' is an invalid keyword"
      ],
      "metadata": {
        "id": "w_P8z8N2W4ZO"
      },
      "execution_count": null,
      "outputs": []
    },
    {
      "cell_type": "code",
      "source": [
        "print(my_var:=\"Hello World!\")"
      ],
      "metadata": {
        "colab": {
          "base_uri": "https://localhost:8080/"
        },
        "id": "s6xxUkBzWn3q",
        "outputId": "6ea9a697-2141-4c5a-ad78-63bc9dce4760"
      },
      "execution_count": null,
      "outputs": [
        {
          "output_type": "stream",
          "name": "stdout",
          "text": [
            "Hello World!\n"
          ]
        }
      ]
    },
    {
      "cell_type": "markdown",
      "source": [
        "## NUMBERIC Types\n",
        "### int float complex"
      ],
      "metadata": {
        "id": "sWeh6LD8sJRD"
      }
    },
    {
      "cell_type": "code",
      "source": [
        "t_a = type(a := -10    )   # int      -10\n",
        "t_b = type(b := 1.2e-5 )   # float    1.2E-5\n",
        "t_c = type(c := 1 + 2j )   # complex  (2+j)\n",
        "\n",
        "t_d = type ('2.0')         # str------'2.0'--\n",
        "t_e = type(float(\"2\"))     # float--- 2.0 ---\n",
        "print( a,'\\t', t_a,'\\n',\n",
        "       b, t_b,'\\n', c,' ', t_c, t_d, t_e )"
      ],
      "metadata": {
        "colab": {
          "base_uri": "https://localhost:8080/"
        },
        "id": "3yk04h_uu7oS",
        "outputId": "32fc2598-a526-44f2-9895-66170605605e"
      },
      "execution_count": null,
      "outputs": [
        {
          "output_type": "stream",
          "name": "stdout",
          "text": [
            "-10 \t <class 'int'> \n",
            " 1.2e-05 <class 'float'> \n",
            " (1+2j)   <class 'complex'> <class 'str'> <class 'float'>\n"
          ]
        }
      ]
    },
    {
      "cell_type": "markdown",
      "source": [
        "NUMERIC Methodes"
      ],
      "metadata": {
        "id": "yEjOT2WSJApG"
      }
    },
    {
      "cell_type": "code",
      "source": [
        "int.as_integer_ratio(),    float.as_integer_ratio()\n",
        "int.bit_count(),           float.fromhex()\n",
        "int.bit_length(),          float.hex()\n",
        "int.from_bytes(),          float.is_integer()\n",
        "int.to_bytes()"
      ],
      "metadata": {
        "id": "FFBaW-4487hj"
      },
      "execution_count": null,
      "outputs": []
    },
    {
      "cell_type": "code",
      "source": [
        "# @title    SIZE\n",
        "import sys\n",
        "a_int   = 1\n",
        "a_float = 1.234567890123456789\n",
        "int_bytes   = sys.getsizeof(a_int  ) #   int 4 Byts = 28 bit\n",
        "float_bytes = sys.getsizeof(a_float) # float 8 Byts = 28 bit\n",
        "int_bytes, float_bytes"
      ],
      "metadata": {
        "colab": {
          "base_uri": "https://localhost:8080/"
        },
        "id": "eukzjV5TP1Ad",
        "outputId": "f95bc5d0-ba68-47bb-b417-65ff9f3dbec0"
      },
      "execution_count": null,
      "outputs": [
        {
          "output_type": "execute_result",
          "data": {
            "text/plain": [
              "(28, 24)"
            ]
          },
          "metadata": {},
          "execution_count": 22
        }
      ]
    },
    {
      "cell_type": "code",
      "source": [
        "num = 303456   # 6 digits         cant start with 0\n",
        "print( digits := len(str(num)) )"
      ],
      "metadata": {
        "colab": {
          "base_uri": "https://localhost:8080/"
        },
        "id": "vZUfJiLWCyRa",
        "outputId": "34112288-5e7f-4a22-bb1a-1d1bb34b1128"
      },
      "execution_count": null,
      "outputs": [
        {
          "output_type": "stream",
          "name": "stdout",
          "text": [
            "6\n"
          ]
        }
      ]
    },
    {
      "cell_type": "code",
      "source": [
        "# @title COMPLEX\n",
        "a = 2 + 2j\n",
        "b = 2 - 2j\n",
        "c = a * b  # ( 8 + 0 j)\n",
        "type(c)    #  complex"
      ],
      "metadata": {
        "id": "vUMNb3cBrRrX"
      },
      "execution_count": null,
      "outputs": []
    },
    {
      "cell_type": "markdown",
      "source": [
        "## NUMERIC  Libaries\n",
        "https://docs.python.org/3/library/numeric.html"
      ],
      "metadata": {
        "id": "bwBqRbmKBbQe"
      }
    },
    {
      "cell_type": "code",
      "source": [
        "#Import cmath Library\n",
        "import numbers\n",
        "import random\n",
        "import math\n",
        "import cmath\n",
        "import statistics\n",
        "import fractions\n",
        "import decimal"
      ],
      "metadata": {
        "id": "NEK2lrH4ICxx"
      },
      "execution_count": null,
      "outputs": []
    },
    {
      "cell_type": "markdown",
      "source": [
        "### MATH functions"
      ],
      "metadata": {
        "id": "NprxAGB1FH9X"
      }
    },
    {
      "cell_type": "code",
      "source": [
        "import math # https://www.w3schools.com/python/module_math.asp\n",
        "math.isfinite()           # 50 FUNCTIONS\n",
        "math.sin()\n",
        "math.pow()\n",
        "math.trunc(x)\n",
        "round(x[, n])\n",
        "math.floor(x)\n",
        "math.ceil(x)\n",
        "math.dist()              # distance in n dimensions\n",
        "\n",
        "import cmath # https://docs.python.org/3/library/cmath.html\n",
        "cmath.phase(x)\n",
        "cmath.polar(x)\n",
        "cmath.rect(r, phi)\n",
        "cmath.exp(x)\n",
        "cmath.log10(x)\n",
        "cmath.sqrt(x)\n",
        "cmath.sin(x)\n",
        "cmath.atan(x)\n",
        "\n",
        "import statistics # https://docs.python.org/3/library/statistics.html\n",
        "stdev()\n",
        "variance()\n",
        "mean()\n",
        "geometric_mean()\n",
        "median()\n",
        "median_grouped()\n",
        "mode()\n",
        "multimode()\n",
        "quantiles()\n",
        "\n",
        "class statistics.NormalDist(): # https://docs.python.org/3/library/statistics.html#statistics.NormalDist\n",
        "    mean,    media,   mode,   stdev,   variance"
      ],
      "metadata": {
        "id": "hTSUfpqrFHld"
      },
      "execution_count": null,
      "outputs": []
    },
    {
      "cell_type": "markdown",
      "source": [
        "### DUBLE OVERFLOW"
      ],
      "metadata": {
        "id": "4fIk1w1Hr1pO"
      }
    },
    {
      "cell_type": "code",
      "source": [
        "#@title  PRESITION\n",
        "n = 1.23456789112345671111e130 +1.111e114 # CASTINF  & PRESITION\n",
        "print( float(n)  )\n",
        "print(f'{n:.17e}');                print(f'{int( 1E100):.20e}' )\n",
        "# evety number has double presition : 16 digits last one off by 2\n",
        "# 1.234567891123456...82221 × 10^130    Wolfram: 8 ✅  Pyron: 6 ❌"
      ],
      "metadata": {
        "colab": {
          "base_uri": "https://localhost:8080/"
        },
        "id": "MRReQYOUDtHi",
        "outputId": "fc0a671a-cadf-4c0c-969e-2d474785e818"
      },
      "execution_count": null,
      "outputs": [
        {
          "output_type": "stream",
          "name": "stdout",
          "text": [
            "1.2345678911234566e+130\n",
            "1.23456789112345662e+130\n",
            "1.00000000000000001590e+100\n"
          ]
        }
      ]
    },
    {
      "cell_type": "code",
      "source": [
        "#@title  OVERFLOW\n",
        "import math\n",
        "n = 1.7e+308\n",
        "print ( math.isinf(n) )\n",
        "n = 1.8e+308             #  1.8e+308  ==  INF\n",
        "print ( math.isinf(n) )  # OVERFLOW  detected"
      ],
      "metadata": {
        "colab": {
          "base_uri": "https://localhost:8080/"
        },
        "id": "DtEeiPDNY1rC",
        "outputId": "55f4fc12-a4e6-4520-fff7-8cf83ce823c8"
      },
      "execution_count": null,
      "outputs": [
        {
          "output_type": "stream",
          "name": "stdout",
          "text": [
            "False\n",
            "True\n"
          ]
        }
      ]
    },
    {
      "cell_type": "markdown",
      "source": [
        "## PRINT  & INPUT"
      ],
      "metadata": {
        "id": "NWPiLiJ2ZW7E"
      }
    },
    {
      "cell_type": "code",
      "source": [
        "num = 1.23456789e15\n",
        "print( \"{:_.3f}\".format(num))     # 3 decimals     Fomat Python ≥ 2.7\n",
        "print( f\"{num:,.3f}\")             # 3 decimals     Fomat Python ≥ 3.1\n",
        "print( f\"{num:.7e}\" )             # 8 digits\n",
        "print('pad {:0=10}'.format(100))  # zero padding\n",
        "print( \"%d\" %num ,\" int \",\"%f\" %num,\" float\" ) #  '%d' value"
      ],
      "metadata": {
        "colab": {
          "base_uri": "https://localhost:8080/"
        },
        "id": "RRvW-O7dGnO0",
        "outputId": "22268864-2d25-4504-a649-b657c1c6770a"
      },
      "execution_count": null,
      "outputs": [
        {
          "output_type": "stream",
          "name": "stdout",
          "text": [
            "1_234_567_890_000_000.000\n",
            "1,234,567,890,000,000.000\n",
            "1.2345679e+15\n",
            "pad 0000000100\n",
            "1234567890000000  int  1234567890000000.000000  float\n"
          ]
        }
      ]
    },
    {
      "cell_type": "code",
      "source": [
        "print('left  : {:<10}'.format(100))\n",
        "print('center: {:^10}'.format(100))\n",
        "print('right : {:>10}'.format(100))\n",
        "print('sign: {:0>10}'.format(-100))\n",
        "print('sign: {:0=10}'.format(-100))\n",
        "print('sign: {:+}'.format(100))\n",
        "print('sign: {:+}'.format(-100))\n",
        "print('{:.3F}'.format(10e1000))"
      ],
      "metadata": {
        "colab": {
          "base_uri": "https://localhost:8080/"
        },
        "id": "OxZ2sCO91XqX",
        "outputId": "b6db341d-dfc3-44e9-c136-ba4669d23681"
      },
      "execution_count": null,
      "outputs": [
        {
          "output_type": "stream",
          "name": "stdout",
          "text": [
            "left  : 100       \n",
            "center:    100    \n",
            "right :        100\n",
            "sign: 000000-100\n",
            "sign: -000000100\n",
            "sign: +100\n",
            "sign: -100\n",
            "INF\n"
          ]
        }
      ]
    },
    {
      "cell_type": "markdown",
      "source": [
        "\n",
        "```\n",
        "  :  ◀---- starts the format specifier.\n",
        " _ , ◀---- 2 kind of thousands separator.\n",
        " .3f ◀---- specifies 3 digitd after the decimal point.\n",
        " .3e ◀---- 3 digits after scientific notation decimal point\n",
        "```"
      ],
      "metadata": {
        "id": "ILaCIYctID3Q"
      }
    },
    {
      "cell_type": "markdown",
      "source": [
        "### STR.FORMAT()\n",
        "1. print( str.format(num) )\n",
        "2. print( f'{ num:str }  )\n",
        "3. prinr( \"%d\" num )"
      ],
      "metadata": {
        "id": "bwigjxswQS9w"
      }
    },
    {
      "cell_type": "code",
      "source": [
        "my_name = input(\"enter name : \")\n",
        "my_age = input(\"enter age : \")\n",
        "print('Hi, {} you\\'r {}'.format(my_name,my_age))"
      ],
      "metadata": {
        "colab": {
          "base_uri": "https://localhost:8080/"
        },
        "id": "ZI5gkm87Z1VK",
        "outputId": "a706fb1d-c984-4d83-984b-952dce8cfd0d"
      },
      "execution_count": null,
      "outputs": [
        {
          "output_type": "stream",
          "name": "stdout",
          "text": [
            "enter name : Ariel\n",
            "enter age : 28\n",
            "Hi, Ariel you'r 28\n"
          ]
        }
      ]
    },
    {
      "cell_type": "markdown",
      "source": [
        "\n",
        "\n",
        "<B>\n",
        "\n",
        "str.format() . . . https://note.nkmk.me/en/python-format-zero-hex/\n",
        "</B>\n",
        "\n",
        "Format specifications . . . . Examples :\n",
        ">\n",
        ">Left . Center . Right . Align  :  <, ^, >, =\n",
        ">\n",
        ">Zero-padding . . . Percentage: %\n",
        ">\n",
        ">Leading sign prefix: +, Space\n",
        ">\n",
        ">Separator: ,, _ . . . . General format: g, G\n",
        ">\n",
        ">Binary, octal, hexadecimal: b, o, x, X\n",
        ">\n",
        ">Fixed-point: f, F . . Scientific notation: e, E\n",
        ">\n",
        ">Date and time (datetime)\n",
        "\n",
        " <B>"
      ],
      "metadata": {
        "id": "2LRRPlqR0ozi"
      }
    },
    {
      "cell_type": "markdown",
      "source": [],
      "metadata": {
        "id": "00PKm9CH1itO"
      }
    },
    {
      "cell_type": "markdown",
      "source": [
        "### Hexa Bin Oct"
      ],
      "metadata": {
        "id": "z0W3v6oDplsG"
      }
    },
    {
      "cell_type": "code",
      "source": [
        "print('bin: {:b}'.format(255))\n",
        "print('oct: {:o}'.format(255))\n",
        "print('hex: {:x}'.format(255))\n",
        "print('HEX: {:X}'.format(255))\n",
        "print('HEX: {:#010X}'.format(255))"
      ],
      "metadata": {
        "colab": {
          "base_uri": "https://localhost:8080/"
        },
        "id": "pi2f7p9_pgyo",
        "outputId": "1c2dc9ba-5ff5-4f4e-9d7c-3fdd044d0f27"
      },
      "execution_count": null,
      "outputs": [
        {
          "output_type": "stream",
          "name": "stdout",
          "text": [
            "bin: 11111111\n",
            "oct: 377\n",
            "hex: ff\n",
            "HEX: FF\n",
            "HEX: 0X000000FF\n"
          ]
        }
      ]
    },
    {
      "cell_type": "code",
      "source": [
        "b**2       #  8j =  (2 - 2j) ^ 2"
      ],
      "metadata": {
        "colab": {
          "base_uri": "https://localhost:8080/"
        },
        "id": "Y6me8pj4r8Xu",
        "outputId": "2f45887a-e4e9-4fa4-9b4c-dd9ca086244c"
      },
      "execution_count": null,
      "outputs": [
        {
          "output_type": "execute_result",
          "data": {
            "text/plain": [
              "-8j"
            ]
          },
          "metadata": {},
          "execution_count": 12
        }
      ]
    },
    {
      "cell_type": "markdown",
      "source": [
        "### FRACTIONS"
      ],
      "metadata": {
        "id": "ZCZ3NgnMp_5w"
      }
    },
    {
      "cell_type": "code",
      "source": [
        "from fractions import Fraction\n",
        "a = float(Fraction('3/7'))\n",
        "b = Fraction('1.3')\n",
        "a,b"
      ],
      "metadata": {
        "colab": {
          "base_uri": "https://localhost:8080/"
        },
        "id": "c3vwPuMwTw2a",
        "outputId": "2a52a45f-f487-4ba9-e022-032b4ccdc699"
      },
      "execution_count": null,
      "outputs": [
        {
          "output_type": "execute_result",
          "data": {
            "text/plain": [
              "(0.42857142857142855, Fraction(13, 10))"
            ]
          },
          "metadata": {},
          "execution_count": 5
        }
      ]
    },
    {
      "cell_type": "code",
      "source": [
        "# @title DECIMAL\n",
        "from decimal import *\n",
        "Context(prec=5, rounding=ROUND_HALF_EVEN, Emin=-999999, Emax=999999,\n",
        "        traps=[Overflow, DivisionByZero, InvalidOperation] )\n",
        "getcontext().prec = 6\n",
        "\n",
        "a = Decimal(float(1/3))     # Decimal  0.33333333333333331482961625\n",
        "b = Decimal(1) / Decimal(3) # Decimal  0.333333'\n",
        "c = float(1/3)              # float    0.3333333333333333\n",
        "a,b,c"
      ],
      "metadata": {
        "id": "GCpemEN-Z9w8"
      },
      "execution_count": null,
      "outputs": []
    },
    {
      "cell_type": "markdown",
      "source": [
        "## STRINGS\n",
        "https://www.w3schools.com/python/python_strings_methods.asp"
      ],
      "metadata": {
        "id": "z3Y-lhBysM_d"
      }
    },
    {
      "cell_type": "code",
      "source": [
        "age = 36\n",
        "name = \"John\"\n",
        "txt = \"His name is {1}. {1} is {0} years old.\"\n",
        "print(txt.format(age, name))"
      ],
      "metadata": {
        "colab": {
          "base_uri": "https://localhost:8080/"
        },
        "id": "yXVro-l_Rise",
        "outputId": "f2cbf396-8f61-45d5-9044-0b1c5fdc0b1b"
      },
      "execution_count": null,
      "outputs": [
        {
          "output_type": "stream",
          "name": "stdout",
          "text": [
            "His name is John. John is 36 years old.\n"
          ]
        }
      ]
    },
    {
      "cell_type": "code",
      "source": [
        "str1 = 'hola, \"'\n",
        "str2 = \"como' esta ?\"\n",
        "print( str1 + str2 )  # str1 - str2 = ERROR"
      ],
      "metadata": {
        "colab": {
          "base_uri": "https://localhost:8080/"
        },
        "id": "YUHfACt0Q-rj",
        "outputId": "3775345d-2e01-4777-f606-73c008664890"
      },
      "execution_count": null,
      "outputs": [
        {
          "output_type": "stream",
          "name": "stdout",
          "text": [
            "hola, \"como' esta ?\n"
          ]
        }
      ]
    },
    {
      "cell_type": "code",
      "source": [
        "a = '''Podemos esctibit varias lineas.\n",
        "caracteres especiales \" ' /n /t /0  seran tomados como texto '''\n",
        "print(a)"
      ],
      "metadata": {
        "colab": {
          "base_uri": "https://localhost:8080/"
        },
        "id": "INMYqCNwSQA3",
        "outputId": "794eacba-08ea-44a0-ca5b-a51fad561cc0"
      },
      "execution_count": null,
      "outputs": [
        {
          "output_type": "stream",
          "name": "stdout",
          "text": [
            "Podemos esctibit varias lineas.\n",
            "caracteres especiales \" ' /n /t /0  seran tomados como texto \n"
          ]
        }
      ]
    },
    {
      "cell_type": "code",
      "source": [
        "    # SPLIT\n",
        "splitlines()\t# Splits the string at line breaks and returns a list\n",
        "split()\t      # Splits the string at the specified separator, and returns a list\n",
        "rsplit()\t    # Splits the string at the specified separator, and returns a list\n",
        "lstrip()\t    # Returns a left trim version of the string\n",
        "rstrip()\t    # Returns a right trim version of the string\n",
        "strip()\t      # Returns a trimmed version of the string\n",
        "partition()\t  # Returns a tuple where the string is parted into three parts\n",
        "rpartition()\t# Returns a tuple where the string is parted into three parts\n",
        "\n",
        "  # FORMAT\n",
        "format()\t    # Formats specified values in a string\n",
        "format_map()\t# Formats specified values in a string\n",
        "expandtabs()\t# Sets the tab size of the string\n",
        "encode()\t    # Returns an encoded version of the string\n",
        "center()\t    # Returns a centered string\n",
        "\n",
        "    # FIND\n",
        "count()\t      # Returns the number of times a specified value occurs in a string\n",
        "replace()\t    # Returns a string where a specified value is replaced with a specified value\n",
        "find(value, start, end)\t# Search value in string and returns its fitst position Or -1\n",
        "index()\t      # Search  value in string and returns its first position or Exception\n",
        "rfind()\t      # Search for value in string and returns its last position d\n",
        "rindex()\t    # Search for value in string and returns its last position\n",
        "maketrans()\t  # Returns a translation table of character to swap (translate)\n",
        "translate()\t  # Returns a translated string\n",
        "    # JUSTIFICATE & PADDING\n",
        "ljust()\t      # Returns a left justified version of the string\n",
        "rjust()\t      # Returns a right justified version of the string\n",
        "zfill()\t      # Fills the string with a specified number of 0 values at the beginning\n",
        "\n",
        "\n",
        "   # BOOLEAN\n",
        "isdecimal()\t  # True if all chars of string are    decimals\n",
        "isnumeric()\t  # True if all chars of string are    numeric\n",
        "isalnum()\t    # True if all chars of string are    alphanumeric\n",
        "isdigit()\t    # True if all chars of string are    digits\n",
        "isalpha()\t    # True if all chars of string are    in the alphabet\n",
        "isascii()\t    # True if all chars of string are    ascii characters\n",
        "isprintable()\t# True if all chars of string are    printable\n",
        "isspace()\t    # True if all chars of string are    whitespaces\n",
        "endswith()\t  # True if the string   ends   with the specified value\n",
        "startswith()\t# True if the string   starts with the specified value\n",
        "isidentifier()#\tTrue if the string is an identifier\n",
        "istitle()\t    # True if the string follows the rules of a title\n",
        "islower()\t    # True if all chars of string are   lower case\n",
        "isupper()\t    # True if all chars of string are   upper case\n",
        "\n",
        "    # UP-LOW-CASE\n",
        "capitalize()\t# Converts the first character to   upper case\n",
        "upper()\t      # Converts a string into   upper case\n",
        "lower()\t      # Converts a string into   lower case\n",
        "casefold()\t  # Converts string into lower case\n",
        "swapcase()\t  # Swaps cases, lower becomes upper and vice versa\n",
        "title()\t      # Converts the  first character of   each word to   upper case\n",
        "join()\t      # Joins the elements of an iterable to the end of the string\n"
      ],
      "metadata": {
        "id": "MVxeD9CisTHx"
      },
      "execution_count": null,
      "outputs": []
    },
    {
      "cell_type": "markdown",
      "source": [
        "## FILES INPUT OUTPUT"
      ],
      "metadata": {
        "id": "KhHxnQQgVXln"
      }
    },
    {
      "cell_type": "markdown",
      "source": [
        "File Handling\n",
        "The key function for working with files in Python is the . **open( )** . function.\n",
        "\n",
        "The . **open( )** . function takes two parameters; filename, and mode.\n",
        "\n",
        "There are four different methods (modes) for opening a file:\n",
        "<b>\n",
        "> \" r \" - READ - - - Default value. Opens a file for reading, error if the file does not exist\n",
        ">\n",
        "> \" a \" - APPEND - Opens a file for appending, creates the file if it does not exist\n",
        ">\n",
        "> \" w \" - WRITE - - Opens a file for writing, creates the file if **it** does not exist\n",
        ">\n",
        "> \" x \" - CREATE - Creates the specified file, returns an error if the file exists</b>\n",
        "\n",
        "In addition you can specify if the file should be handled as binary or text mode  <b>\n",
        ">\n",
        "> \" t \" - TEXT - Default value. Text mode\n",
        ">\n",
        "> \" b \" - BINARY - Binary mode (e.g. images)\n",
        "</b>\n"
      ],
      "metadata": {
        "id": "mzXBjlxaQn7s"
      }
    },
    {
      "cell_type": "code",
      "source": [
        "########     READ ONLY  FILE     #################################\n",
        "file = open(\"./file_name\" ,'r' ,encoding='utf-8')\n",
        "my_str = file.read()\n",
        "file.close()\n",
        "\n",
        "########     WRITE  NEW  FILE     #################################\n",
        "file = open(\"./file_name\" ,'w' ,encoding='utf-8')\n",
        "file.write('my_str')\n",
        "file.close()\n",
        "########     APPEND TO  FILE     #################################\n",
        "file = open(\"./file_name\" ,'a' ,encoding='utf-8')"
      ],
      "metadata": {
        "id": "BTGLLohbdJYE"
      },
      "execution_count": null,
      "outputs": []
    },
    {
      "cell_type": "markdown",
      "source": [
        "### JSON\n",
        "\n",
        "\n",
        "Python objects must br converted into the JSON (JavaScript) equivalent\n",
        "\n",
        "\n",
        "```\n",
        "PYTHON........JSON     PYTHON...... JSON\n",
        "dict. . . . Object     list. . . . Array\n",
        "tuple. . . . Array     str. . . . String    None. . . . . null\n",
        "int. . . . .Number     float. . . Number\n",
        "True. . . . . true     False. . . . false\n",
        "\n",
        "```\n",
        "\n"
      ],
      "metadata": {
        "id": "5EsNSOzMVkLw"
      }
    },
    {
      "cell_type": "code",
      "source": [
        "########     SHOW MODULES     #################################\n",
        "import json as J\n",
        "for i , module in enumerate(dir( J )):\n",
        "  if (i % 5):\n",
        "    print( module,'\\t' ,end='')\n",
        "  else:\n",
        "    print()"
      ],
      "metadata": {
        "colab": {
          "base_uri": "https://localhost:8080/"
        },
        "id": "bhpiSeDctIyd",
        "outputId": "fc1f7e0a-bdd8-4819-e8de-121429d211b0"
      },
      "execution_count": null,
      "outputs": [
        {
          "output_type": "stream",
          "name": "stdout",
          "text": [
            "\n",
            "JSONDecoder \tJSONEncoder \t__all__ \t__author__ \t\n",
            "__cached__ \t__doc__ \t__file__ \t__loader__ \t\n",
            "__package__ \t__path__ \t__spec__ \t__version__ \t\n",
            "_default_encoder \tcodecs \tdecoder \tdetect_encoding \t\n",
            "dumps \tencoder \tload \tloads \t\n"
          ]
        }
      ]
    },
    {
      "cell_type": "markdown",
      "source": [
        "#### DUMP ( WRITE )"
      ],
      "metadata": {
        "id": "BNOlaHK1XMYM"
      }
    },
    {
      "cell_type": "code",
      "source": [
        "import json\n",
        "\n",
        "# a Python object (dict):\n",
        "x = {\n",
        "  \"name\": \"John\",\n",
        "  \"age\": 30,\n",
        "  \"city\": \"New York\"\n",
        "}\n",
        "\n",
        "# convert into JSON:\n",
        "y = json.dumps(x)\n",
        "\n",
        "# the result is a JSON string:\n",
        "print(y)"
      ],
      "metadata": {
        "colab": {
          "base_uri": "https://localhost:8080/"
        },
        "id": "j__cJVa1fXmP",
        "outputId": "9cf1f2cd-f43d-413b-9c05-738894205a08"
      },
      "execution_count": null,
      "outputs": [
        {
          "output_type": "stream",
          "name": "stdout",
          "text": [
            "{\"name\": \"John\", \"age\": 30, \"city\": \"New York\"}\n"
          ]
        }
      ]
    },
    {
      "cell_type": "markdown",
      "source": [
        "#### LOAD BIG FILE"
      ],
      "metadata": {
        "id": "8d2CQIIoXDkX"
      }
    },
    {
      "cell_type": "code",
      "source": [
        "########     LOAD JSON FILE    #################################\n",
        "# movies.json :\n",
        "# https://gist.github.com/saniyusuf/406b843afdfb9c6a86e25753fe2761f4\n",
        "json_file = open(\"./Sample_Files/movies.json\" ,'r' ,encoding='utf-8')\n",
        "movies = json.load(json_file)     # READ\n",
        "json_file.close()                 # CLOASE FILE\n",
        "\n",
        "print( movies )                   # WORK....\n",
        "\"\"\" [{'Title': 'Avatar', 'Year': '2009', 'Rated': 'PG-13',\n",
        "'Released': '18 Dec 2009', 'Runtime': '162 min',\n",
        "'Genre': 'Action, Adventure, Fantasy', 'Director':\n",
        "'James Cameron', 'Writer': 'James Cameron',\n",
        "'Actors': 'Sam Worthington, Zoe Saldana, Sigourney Weaver,\n",
        "Stephen Lang', 'Plot':  ......( ALL IN A SINGLE UGLY LINE )"
      ],
      "metadata": {
        "id": "TS9WYoaJWEwm"
      },
      "execution_count": null,
      "outputs": []
    },
    {
      "cell_type": "markdown",
      "source": [
        "#### SHOW"
      ],
      "metadata": {
        "id": "Yhsu6OrrKlJW"
      }
    },
    {
      "cell_type": "code",
      "source": [
        "########     PRESENT THE   DATA     #################################\n",
        "'''  this JSON is  -->  ARRAY_OF_MOVIES [ ]\n",
        "movie = dictionary --> { key : values }   of datatype----> \"str\" : [ \"str\",\"str\", ... ]\n",
        "'''\n",
        "print( type( movies ))        # < class 'dict' >\n",
        "print( movies[0][\"Genre\"])    # Action, Adventure, Fantasy,...movies[0] = FirstMovie\n",
        "\n",
        "for i,mov in enumerate( movies):# SHOW  EVERY  MOVIE[]\n",
        "  if (i % 5):                 # index only used to print separated lines\n",
        "    print(  mov[\"Title\"] ,\"\\t\", end='')  # we change defaults   end='\\n'\n",
        "  else:\n",
        "    print()      # separation when i is multiple of 5 ( colums of 4 )\n",
        "''' I Am Legend   300          The Avengers      The Wolf of Wall Street\n",
        "Game of Thrones   Vikings      Gotham  Power     Breaking Bad\n",
        "Doctor Strange   Rogue One: A Star Wars Story    Assassin's Creed  '''"
      ],
      "metadata": {
        "id": "AJbTFDNzWJkK"
      },
      "execution_count": null,
      "outputs": []
    },
    {
      "cell_type": "code",
      "source": [
        "# PRINT ALL KEYS : Title, Year, Rated,  Released --> (categories)\n",
        "print( key_list := movies[0].keys() )\n",
        "print(type(key_list))  # MUST CHANGE KEYS TO LIST\n",
        "print( key_list := list(movies[0].keys()) )\n",
        "\"\"\"['Title', 'Year', 'Rated', .............. , 'Images']  \"\"\"\n",
        "\n",
        "# PRINT EVERY TITLE :    (the first key [o]=Title)\n",
        "for movie in movies:\n",
        "  print(  movie[ key_list[0] ])\n",
        "'''Avatar\n",
        "I Am Legend               if we dont enumerate we get long sinle row\n",
        " ...................................\n",
        "Assassin's Creed\n",
        "Luke Cage'''"
      ],
      "metadata": {
        "id": "3y0iuY8oDOnr"
      },
      "execution_count": null,
      "outputs": []
    },
    {
      "cell_type": "markdown",
      "source": [
        "#### DELETE"
      ],
      "metadata": {
        "id": "DzYXRVxAKUnc"
      }
    },
    {
      "cell_type": "code",
      "source": [
        "########     DELETE   DATA     #################################\n",
        "for mo in  movies:  # movies[i] = movie ={title:\"\" , genere:\"\"}\n",
        "  movie_keys = movie.keys()\n",
        "  if (  \"Images\" in movie_keys ): # IF IT HAS IMAGE\n",
        "    print(movie_keys )\n",
        "    mov.pop(\"Images\")             # ERRASE EVERY IMAGE"
      ],
      "metadata": {
        "id": "JsxwwBpcEa88"
      },
      "execution_count": null,
      "outputs": []
    },
    {
      "cell_type": "markdown",
      "source": [
        "#### SAVE AS JSON"
      ],
      "metadata": {
        "id": "z6GxoybYKfVC"
      }
    },
    {
      "cell_type": "code",
      "source": [
        "##########     SAVE   JSON     #################################\n",
        "first_movie = open(\"./Sample_Files/first_movie.json\" ,'w' ,encoding='utf-8')\n",
        "json.dump( movies[0] , first_movie , indent=4 )\n",
        "first_movie.close()                             # ONLY FIRST MOVIE\n",
        "\n",
        "noImg       = open(\"./Sample_Files/movies_noImg.json\" ,'w' ,encoding='utf-8')\n",
        "json.dump( movies    , noImg       , indent=4 )\n",
        "noImg.close()                                   # THE ENTIRE DATA"
      ],
      "metadata": {
        "id": "uhIfjz0nJ_De"
      },
      "execution_count": null,
      "outputs": []
    },
    {
      "cell_type": "markdown",
      "source": [
        "### CSV"
      ],
      "metadata": {
        "id": "O7aIORZqVpR8"
      }
    },
    {
      "cell_type": "code",
      "source": [],
      "metadata": {
        "id": "SHbnqw0yXWHE"
      },
      "execution_count": null,
      "outputs": []
    },
    {
      "cell_type": "markdown",
      "source": [
        "# DATA STRUCTURES\n"
      ],
      "metadata": {
        "id": "xWhLhcfKNClx"
      }
    },
    {
      "cell_type": "code",
      "source": [
        "from array import *\n",
        "a:array =  array('l', [1, 2, 3, 4, 5]) #   ARRAY:long\n",
        "b:list  = [0,1,2,2]             #   LIST  -> typeless  Array\n",
        "c:set   = {0,1,2,2}             #   SET   -> no_repeat list\n",
        "d:tuple = ( int,float, str)     #   TUPLE -> STRUCT\n",
        "# d       = (1,2,3)            literals tuple bad use\n",
        "e:dict  = { 0:a , 1:b }         #   DICT  -> HASH Map\n",
        "a,b,c,d,e"
      ],
      "metadata": {
        "colab": {
          "base_uri": "https://localhost:8080/"
        },
        "id": "KhU_fpyHUBqk",
        "outputId": "6969b430-4bb1-4030-8fa2-49058a6af621"
      },
      "execution_count": null,
      "outputs": [
        {
          "output_type": "execute_result",
          "data": {
            "text/plain": [
              "(array('l', [1, 2, 3, 4, 5]),\n",
              " [0, 1, 2, 2],\n",
              " {0, 1, 2},\n",
              " (int, float, str),\n",
              " {0: array('l', [1, 2, 3, 4, 5]), 1: [0, 1, 2, 2]})"
            ]
          },
          "metadata": {},
          "execution_count": 39
        }
      ]
    },
    {
      "cell_type": "markdown",
      "metadata": {
        "id": "4oaDFjQu3mC3"
      },
      "source": [
        "## LISTS :  [  , , , ]\n",
        "\n",
        ">"
      ]
    },
    {
      "cell_type": "markdown",
      "source": [
        "### METHODES"
      ],
      "metadata": {
        "id": "CUyA3slIsVrW"
      }
    },
    {
      "cell_type": "code",
      "source": [
        "# SYNTAX :   list. = list_name.  --->  list_name.method()\n",
        "\n",
        "# ADD               # DESCRIPTION :\n",
        "list.copy()         #   Returns a copy of the list\n",
        "list.append(elmnt)  #   Adds an element at the end of the list\n",
        "list.insert(pos, elmnt) #Adds an element at the specified position\n",
        "list.extend(iter)   #   Add all elements of a iterable , to the end of the current list\n",
        "\n",
        "# FIND\n",
        "list.count(value)   #   Returns the number of elements with the specified value\n",
        "list.index(elmnt)   #   Returns the index of the first element with the specified value\n",
        "\n",
        "# DEL\n",
        "list.clear()        #   Removes all the elements from the list\n",
        "list.pop(pos)       #   Removes the element at the specified positionLast by default\n",
        "list.remove(elmnt)  #   Removes the first item with the specified value\n",
        "\n",
        "# SORT\n",
        "list.reverse()      #   Reverses the order of the list\n",
        "list.sort( reverse=True|False , key=myFunc)\n",
        "# Orders from small to big vales by default"
      ],
      "metadata": {
        "id": "CwrDeBh2v5Ti"
      },
      "execution_count": null,
      "outputs": []
    },
    {
      "cell_type": "markdown",
      "metadata": {
        "id": "c_47EhUc3mC5"
      },
      "source": [
        "### CREATE . .  MANIPULATE\n"
      ]
    },
    {
      "cell_type": "code",
      "source": [
        "a_list = [ 1, 'two', 'tree', 'four']\n",
        "a_list[0] = 'one'   # SET       0 = first element\n",
        "a_list[0]           # GET"
      ],
      "metadata": {
        "colab": {
          "base_uri": "https://localhost:8080/",
          "height": 36
        },
        "id": "58C1gdR8_D_h",
        "outputId": "b25574ee-2ec4-409e-a752-e1cbb0c90251"
      },
      "execution_count": null,
      "outputs": [
        {
          "output_type": "execute_result",
          "data": {
            "text/plain": [
              "'one'"
            ],
            "application/vnd.google.colaboratory.intrinsic+json": {
              "type": "string"
            }
          },
          "metadata": {},
          "execution_count": 7
        }
      ]
    },
    {
      "cell_type": "markdown",
      "source": [
        "### SLICE notation\n"
      ],
      "metadata": {
        "id": "hxBJLX-q-4um"
      }
    },
    {
      "cell_type": "code",
      "execution_count": null,
      "metadata": {
        "id": "Jx-RLejv3mC6",
        "colab": {
          "base_uri": "https://localhost:8080/"
        },
        "outputId": "8bea57be-fa8c-4196-f4d7-794a09fd0e3b"
      },
      "outputs": [
        {
          "output_type": "execute_result",
          "data": {
            "text/plain": [
              "['four', ['one', 'two'], ['two', 'tree'], ['two', 'tree', 'four']]"
            ]
          },
          "metadata": {},
          "execution_count": 9
        }
      ],
      "source": [
        "nested = [\n",
        "  a_list[-1],    # -1 = last element\n",
        "  a_list[ :2],   #  first 2 elements\n",
        "  a_list[1:3],   #  between  1st & 3rd  element  ( excluding 3rd )\n",
        "  a_list[1: ]]   #  every element after 1\n",
        "nested     # list of lists = nested list"
      ]
    },
    {
      "cell_type": "code",
      "source": [
        "a = [0,1,2,3,4,5,6,7,8,9,10]\n",
        "x = slice(0,10,2)     # start=1  end=10  step=2\n",
        "a[x]                  # slice only makes sence as index argument"
      ],
      "metadata": {
        "colab": {
          "base_uri": "https://localhost:8080/"
        },
        "id": "bl6l9I8dNFpb",
        "outputId": "49a88941-e7f8-4187-e255-4ebd7e9e8e5d"
      },
      "execution_count": null,
      "outputs": [
        {
          "output_type": "execute_result",
          "data": {
            "text/plain": [
              "[0, 2, 4, 6, 8]"
            ]
          },
          "metadata": {},
          "execution_count": 5
        }
      ]
    },
    {
      "cell_type": "code",
      "source": [],
      "metadata": {
        "id": "9epYJqJSCWPA"
      },
      "execution_count": null,
      "outputs": []
    },
    {
      "cell_type": "code",
      "source": [
        "f'Number {a_list[-1]} is bigger than the { a_list[1:3]}'\n",
        "#  format Print   allows lists"
      ],
      "metadata": {
        "colab": {
          "base_uri": "https://localhost:8080/",
          "height": 36
        },
        "id": "3oTGe59M9q02",
        "outputId": "86832610-d29a-42fa-940c-e35d4e25a113"
      },
      "execution_count": null,
      "outputs": [
        {
          "output_type": "execute_result",
          "data": {
            "text/plain": [
              "\"Number four is bigger than the ['two', 'tree']\""
            ],
            "application/vnd.google.colaboratory.intrinsic+json": {
              "type": "string"
            }
          },
          "metadata": {},
          "execution_count": 8
        }
      ]
    },
    {
      "cell_type": "markdown",
      "source": [
        "### SPLAT ( spread ... )"
      ],
      "metadata": {
        "id": "aaJQz1hOmHQk"
      }
    },
    {
      "cell_type": "code",
      "source": [
        "a = [0, 3, 4, 5, 6]     #    *  splat operator   -> ( spread JS ... )\n",
        "print( 'number: {0}{1}{0}{1}{2}{3}{4}'.format(*a) )"
      ],
      "metadata": {
        "colab": {
          "base_uri": "https://localhost:8080/"
        },
        "id": "kUmukuLTjCHg",
        "outputId": "72f77659-ae76-4afe-c463-8627886952f4"
      },
      "execution_count": null,
      "outputs": [
        {
          "output_type": "stream",
          "name": "stdout",
          "text": [
            "number: 0303456\n"
          ]
        }
      ]
    },
    {
      "cell_type": "markdown",
      "source": [
        "### REST ()"
      ],
      "metadata": {
        "id": "kqbIS_W5nJHW"
      }
    },
    {
      "cell_type": "code",
      "source": [
        "def my_function( A, B, *args):       # args takes the rest of the arguments\n",
        "    print(\"First:\", A, \"Second:\",B)\n",
        "    # args[1] += 1                   #    Type ERROR:  args : 'tuple'\n",
        "    print(\"Additional arguments:\", args)  #            cant edit it !\n",
        "\n",
        "my_function( 1, 2, 3, 4, 5 )    # A=1  B=2  args= (3,4,5)"
      ],
      "metadata": {
        "colab": {
          "base_uri": "https://localhost:8080/"
        },
        "id": "6j_2aGCHnI4w",
        "outputId": "11d7d425-38d3-46ba-bcac-557e1eb59c74"
      },
      "execution_count": null,
      "outputs": [
        {
          "output_type": "stream",
          "name": "stdout",
          "text": [
            "First: 1 Second: 2\n",
            "Additional arguments: (3, 4, 5)\n"
          ]
        }
      ]
    },
    {
      "cell_type": "markdown",
      "source": [
        "### NESTED acces"
      ],
      "metadata": {
        "id": "vNyFvZkxdQOd"
      }
    },
    {
      "cell_type": "code",
      "source": [
        "nested_list = [['1st', '2nd'], ['3rd',\"4th\"]]\n",
        "print(nested_list[0][1])   #  list [sub_list] [element]\n",
        "print(nested_list[1][0])"
      ],
      "metadata": {
        "colab": {
          "base_uri": "https://localhost:8080/"
        },
        "id": "pmctFmiTcfzH",
        "outputId": "da317ffd-6712-4aa2-95b3-2b7c4a2c0b54"
      },
      "execution_count": null,
      "outputs": [
        {
          "output_type": "stream",
          "name": "stdout",
          "text": [
            "2nd\n",
            "3rd\n"
          ]
        }
      ]
    },
    {
      "cell_type": "markdown",
      "source": [
        "#### MULTIPLE asingnation"
      ],
      "metadata": {
        "id": "v5gSz_eoOF8Q"
      }
    },
    {
      "cell_type": "code",
      "source": [
        "a,b = 1,1\n",
        "a,b = 2,2*a # a=2   b = 2*a = 2*1  note a is using old value\n",
        "a,b         # updates values simultaneously    (NO sequential -> NO 2,4 )"
      ],
      "metadata": {
        "colab": {
          "base_uri": "https://localhost:8080/"
        },
        "id": "I2nSGsnudbCA",
        "outputId": "06d0df76-ba93-40f7-d124-61492f1e9e16"
      },
      "execution_count": null,
      "outputs": [
        {
          "output_type": "execute_result",
          "data": {
            "text/plain": [
              "(2, 2)"
            ]
          },
          "metadata": {},
          "execution_count": 30
        }
      ]
    },
    {
      "cell_type": "markdown",
      "source": [
        "### LOOP  &  APPEND\n"
      ],
      "metadata": {
        "id": "pZByg_6vCcG3"
      }
    },
    {
      "cell_type": "code",
      "source": [
        "pos_list = [ \"1st\", '2nd', '3rd', '4th']\n",
        "num_list = [ \"one\", 'two', 'tree', 'four']\n",
        "a,b,c,d = [[],[],[],[]]\n",
        "\n",
        "for element in pos_list :                   # for elem in list :\n",
        "  a.append(element)\n",
        "\n",
        "for index, element in enumerate(pos_list):  # enumerate( iterable )\n",
        "  b.append( str(index)+\":\"+ element )       # adds index\n",
        "\n",
        "for a_e , b_e  in zip(pos_list, num_list):  # zip( iter1, iter2 , ...)\n",
        "  c.append( a_e + \"_\" + b_e  )              # multiple list\n",
        "\n",
        "for i in range(0,10,2):                     # range( start, end, step )\n",
        "  d.append(i)                               # custom loop\n",
        "print(a)\n",
        "print(b)\n",
        "print(c)\n",
        "print(d)         #   for i, a_e, b_e, c_e   enumerate( zip ( a, b, c)"
      ],
      "metadata": {
        "colab": {
          "base_uri": "https://localhost:8080/"
        },
        "id": "jitOeGPHCjAv",
        "outputId": "4cce20fb-59f4-43f4-c92d-89494fa0944e"
      },
      "execution_count": null,
      "outputs": [
        {
          "output_type": "stream",
          "name": "stdout",
          "text": [
            "['1st', '2nd', '3rd', '4th']\n",
            "['0:1st', '1:2nd', '2:3rd', '3:4th']\n",
            "['1st_one', '2nd_two', '3rd_tree', '4th_four']\n",
            "[0, 2, 4, 6, 8]\n"
          ]
        }
      ]
    },
    {
      "cell_type": "markdown",
      "metadata": {
        "id": "GEJyrtcy3mC8"
      },
      "source": [
        "### LENGTH\n",
        "[list].len()"
      ]
    },
    {
      "cell_type": "code",
      "execution_count": null,
      "metadata": {
        "colab": {
          "base_uri": "https://localhost:8080/"
        },
        "id": "3EsTZ6vW3mC8",
        "outputId": "1b884772-0066-4d89-9aba-ce1c72095900"
      },
      "outputs": [
        {
          "output_type": "execute_result",
          "data": {
            "text/plain": [
              "(4, 4)"
            ]
          },
          "metadata": {},
          "execution_count": 32
        }
      ],
      "source": [
        "len(a_list),len(nested)  # 4 nested elements of diferent size"
      ]
    },
    {
      "cell_type": "markdown",
      "metadata": {
        "id": "TxAUOykB3mC7"
      },
      "source": [
        "### CONCAT\n",
        ". . [list1]+[list1]"
      ]
    },
    {
      "cell_type": "code",
      "execution_count": null,
      "metadata": {
        "colab": {
          "base_uri": "https://localhost:8080/"
        },
        "id": "t1jwnvpX3mC7",
        "outputId": "bc6dd6f9-d9a9-4dfe-b2aa-cd0f1712e6a6"
      },
      "outputs": [
        {
          "output_type": "execute_result",
          "data": {
            "text/plain": [
              "[1, 2, 3, 'A', 'B', 'C']"
            ]
          },
          "metadata": {},
          "execution_count": 1
        }
      ],
      "source": [
        "[1, 2, 3] + ['A', 'B', 'C']"
      ]
    },
    {
      "cell_type": "markdown",
      "source": [
        "### REPLICATE\n",
        " . . [list] * 2\n"
      ],
      "metadata": {
        "id": "Gt0mOXFaCD-z"
      }
    },
    {
      "cell_type": "code",
      "source": [
        "['X', 'Y', 'Z'] * 3"
      ],
      "metadata": {
        "colab": {
          "base_uri": "https://localhost:8080/"
        },
        "id": "QUeWNeaqCKWz",
        "outputId": "d5362f50-1f82-442e-a0c2-b0f4bfe5def1"
      },
      "execution_count": null,
      "outputs": [
        {
          "output_type": "execute_result",
          "data": {
            "text/plain": [
              "['X', 'Y', 'Z', 'X', 'Y', 'Z', 'X', 'Y', 'Z']"
            ]
          },
          "metadata": {},
          "execution_count": 33
        }
      ]
    },
    {
      "cell_type": "markdown",
      "source": [
        "### HAS ?\n",
        "'element' in  [list]"
      ],
      "metadata": {
        "id": "9p9Rem7lGodW"
      }
    },
    {
      "cell_type": "code",
      "source": [
        "'rack' in ['table', 'chair', 'rack', 'shelf']"
      ],
      "metadata": {
        "colab": {
          "base_uri": "https://localhost:8080/"
        },
        "id": "QL-9gTjCG7PG",
        "outputId": "75bc5858-842e-4777-c917-f3e41c8dc448"
      },
      "execution_count": null,
      "outputs": [
        {
          "output_type": "execute_result",
          "data": {
            "text/plain": [
              "True"
            ]
          },
          "metadata": {},
          "execution_count": 50
        }
      ]
    },
    {
      "cell_type": "markdown",
      "source": [
        "### SORT\n",
        "[list].sort()"
      ],
      "metadata": {
        "id": "AcWkgQfnMAyy"
      }
    },
    {
      "cell_type": "code",
      "source": [
        "a = [1,3,5,4,2] # Returns nothing.. a gets sorted\n",
        "a.sort(reverse=True),    a"
      ],
      "metadata": {
        "colab": {
          "base_uri": "https://localhost:8080/"
        },
        "id": "P2B5qm_OINzf",
        "outputId": "154a896d-9d38-4340-bff6-cdc35d83b00a"
      },
      "execution_count": null,
      "outputs": [
        {
          "output_type": "execute_result",
          "data": {
            "text/plain": [
              "(None, [5, 4, 3, 2, 1])"
            ]
          },
          "metadata": {},
          "execution_count": 91
        }
      ]
    },
    {
      "cell_type": "code",
      "source": [
        "a.sort(),    a"
      ],
      "metadata": {
        "colab": {
          "base_uri": "https://localhost:8080/"
        },
        "id": "llc_-vBGPaWc",
        "outputId": "09766e64-67ba-471b-8103-7792b31f6496"
      },
      "execution_count": null,
      "outputs": [
        {
          "output_type": "execute_result",
          "data": {
            "text/plain": [
              "(None, [1, 2, 3, 4, 5])"
            ]
          },
          "metadata": {},
          "execution_count": 92
        }
      ]
    },
    {
      "cell_type": "markdown",
      "source": [
        "### POP  \n",
        "[list].pop() . . .  exracts last element\n",
        "\n",
        "[list].pop(n) . . exracts N°th element"
      ],
      "metadata": {
        "id": "fvwrOQajNP1z"
      }
    },
    {
      "cell_type": "code",
      "source": [
        "a.pop(),   a"
      ],
      "metadata": {
        "colab": {
          "base_uri": "https://localhost:8080/"
        },
        "id": "r44etXQkIev9",
        "outputId": "a0cc3c8d-dff9-4c9b-f3e5-edb5e773468a"
      },
      "execution_count": null,
      "outputs": [
        {
          "output_type": "execute_result",
          "data": {
            "text/plain": [
              "(5, [1, 2, 3, 4])"
            ]
          },
          "metadata": {},
          "execution_count": 93
        }
      ]
    },
    {
      "cell_type": "code",
      "source": [
        "a.insert(2,9) # insets 9 in 2ND position\n",
        "a"
      ],
      "metadata": {
        "colab": {
          "base_uri": "https://localhost:8080/"
        },
        "id": "0tGQnr1EIfOo",
        "outputId": "4d280f41-5e29-41f8-9206-e4f1ed067991"
      },
      "execution_count": null,
      "outputs": [
        {
          "output_type": "execute_result",
          "data": {
            "text/plain": [
              "[1, 2, 9, 3, 4]"
            ]
          },
          "metadata": {},
          "execution_count": 94
        }
      ]
    },
    {
      "cell_type": "markdown",
      "source": [],
      "metadata": {
        "id": "gU8pModF0lnM"
      }
    },
    {
      "cell_type": "markdown",
      "source": [
        "### DELETE"
      ],
      "metadata": {
        "id": "h_-TFodPSH9b"
      }
    },
    {
      "cell_type": "code",
      "source": [
        "a.remove(9), a # Removes value '9'   Return None\n",
        "#"
      ],
      "metadata": {
        "colab": {
          "base_uri": "https://localhost:8080/"
        },
        "id": "Euu2BIF7IfIV",
        "outputId": "2a9ed1fb-86ae-4f74-fc3c-7919d6aa193d"
      },
      "execution_count": null,
      "outputs": [
        {
          "output_type": "execute_result",
          "data": {
            "text/plain": [
              "(None, [2, 3, 4])"
            ]
          },
          "metadata": {},
          "execution_count": 98
        }
      ]
    },
    {
      "cell_type": "code",
      "source": [
        "del()"
      ],
      "metadata": {
        "id": "PiymQIoEPw7m"
      },
      "execution_count": null,
      "outputs": []
    },
    {
      "cell_type": "markdown",
      "source": [
        "\n",
        "## SETS : { value , value , ... }\n",
        "SET items are <u>**UNORDERED , UNCHANGEABLE**</u> , and with <u>**NO DUPLICATED**</u> values.\n",
        "\n",
        "Sets are primarily used to test for membership\n",
        "And to eliminate duplicates from a collection of elements.\n",
        "\n",
        "SET is based on a <u>**HASH TABLE**</u>, we cannot access items using indexes as we do in lists.\n",
        "\n",
        "But Checking for membership in <u>**CONSTANT TIME**</u> on average <u>**O(1) Fast** </u>."
      ],
      "metadata": {
        "id": "8KDyXqKeMQxX"
      }
    },
    {
      "cell_type": "markdown",
      "source": [
        "### METHODES"
      ],
      "metadata": {
        "id": "ikOcj--1ciBG"
      }
    },
    {
      "cell_type": "code",
      "source": [
        "return =  set(X).method(Y,Z)     # METHOD_OWNER : X   ARGUMENTS: Y Z\n",
        "\n",
        "          # operation   WITHIN set\n",
        "          None   =   X:set.method( elem )\n",
        "\n",
        "set.add(elmnt)\t    # Adds an element\n",
        "set.remove(elmnt)\t  # Remove the specified element OR ERROR\n",
        "set.discard(elmnt)  # Remove the specified element NO ERROR\n",
        "set.pop()\t          # Removes an element from the set\n",
        "set.clear()\t        # Removes all the elements\n",
        "R = set.copy()\t    # Returns a copy of the set\n",
        "\n",
        "        # RETURN  BETWEEN sets                    ( BEN DIAGRAM )\n",
        "        OUT:set   =  X:set.method( Y:set )\n",
        "\n",
        "set.union(set,set)\t # Return set all X amd Y and Z\n",
        "set.difference(set)  # Return set all X elemnt not present in set Y\n",
        "set.intersection(set)# Return set all X elemnt     present in set Y\n",
        "set.symmetric_difference()# Return ( X elem not in Y) + ( Y elem not in Z )\n",
        "                                        #  non common element between sets\n",
        "         # UPDATE_X  BETWEEN sets\n",
        "         None   =  X:set.method( Y:set )\n",
        "\n",
        "set.update(set,set)\t         # Adds to X the elements of Y and Z\n",
        "set.difference_update(set)\t # Removes X items not present in Y\n",
        "set.intersection_update(set) # Removes X items     present in Y\n",
        "set.symmetric_difference_update()\t# X now has non common element between X and Y\n",
        "\n",
        "          # CHECK IF set :\n",
        "          bool   =  X:set.method( Y:set )\n",
        "\n",
        "set.isdisjoint(set)\t  # True if : two sets have no intersection\n",
        "set.issubset(set)\t    # True if : set Y contains this set\n",
        "set.issuperset(set)\t  # True if : this set contains  set Y"
      ],
      "metadata": {
        "id": "2ptjScfKrZeq"
      },
      "execution_count": null,
      "outputs": []
    },
    {
      "cell_type": "code",
      "source": [
        "#@title  CREATE SET\n",
        "X:set  = { 1, 2, 3 }"
      ],
      "metadata": {
        "id": "Y3PbJsd8GDOL"
      },
      "execution_count": null,
      "outputs": []
    },
    {
      "cell_type": "code",
      "source": [
        "#@title  ELIMINATE DUPLICATES\n",
        "x_list = [0,3,0,3,4,5,6]   # nananara nananara !\n",
        "x_set  = set(x_list)\n",
        "x_set"
      ],
      "metadata": {
        "colab": {
          "base_uri": "https://localhost:8080/"
        },
        "id": "gCs-R6cfgB8Y",
        "outputId": "fb085dae-c128-45a8-cc38-313ea408fef6"
      },
      "execution_count": null,
      "outputs": [
        {
          "output_type": "execute_result",
          "data": {
            "text/plain": [
              "{0, 3, 4, 5, 6}"
            ]
          },
          "metadata": {},
          "execution_count": 2
        }
      ]
    },
    {
      "cell_type": "code",
      "source": [
        "#@title   ACCESS\n",
        "for elem in x_set :\n",
        "  print(elem, end=', ')\n",
        "\n",
        "#  x_set[2]    # Type ERROR : 'set' object is not subscriptable"
      ],
      "metadata": {
        "colab": {
          "base_uri": "https://localhost:8080/"
        },
        "id": "YkcctkecFYym",
        "outputId": "2b3c24c5-e5ad-4b94-cb6d-5c8e79aa8669"
      },
      "execution_count": null,
      "outputs": [
        {
          "output_type": "stream",
          "name": "stdout",
          "text": [
            "0, 3, 4, 5, 6, "
          ]
        }
      ]
    },
    {
      "cell_type": "code",
      "source": [
        "len(x_set)"
      ],
      "metadata": {
        "colab": {
          "base_uri": "https://localhost:8080/"
        },
        "id": "Q-Vx-bMmFsn_",
        "outputId": "7e9b0f4d-ebc8-423d-a7cc-286ea0bc5212"
      },
      "execution_count": null,
      "outputs": [
        {
          "output_type": "execute_result",
          "data": {
            "text/plain": [
              "5"
            ]
          },
          "metadata": {},
          "execution_count": 17
        }
      ]
    },
    {
      "cell_type": "code",
      "source": [
        "s1 = { 0, 1 }\n",
        "s2 = { 2, 3, 0, 1}\n",
        "print(s1.issubset(s2))\n",
        "s2"
      ],
      "metadata": {
        "colab": {
          "base_uri": "https://localhost:8080/"
        },
        "id": "RhB6VXKGMN-q",
        "outputId": "76e31eef-e5bf-4a04-cc11-3259c35e77e7"
      },
      "execution_count": null,
      "outputs": [
        {
          "output_type": "stream",
          "name": "stdout",
          "text": [
            "True\n"
          ]
        },
        {
          "output_type": "execute_result",
          "data": {
            "text/plain": [
              "{0, 1, 2, 3}"
            ]
          },
          "metadata": {},
          "execution_count": 18
        }
      ]
    },
    {
      "cell_type": "markdown",
      "source": [
        "### DATA CREATE SLOW"
      ],
      "metadata": {
        "id": "FjEnkxPts4Dh"
      }
    },
    {
      "cell_type": "code",
      "source": [
        "import timeit                 # https://docs.python.org/3/library/timeit.html\n",
        "\n",
        "# CREATE TEST  list and a set\n",
        "list_T = timeit.timeit(stmt=\n",
        "        \"[1,2,3,4,'1st','2nd','3rd']\",number=100)\n",
        "\n",
        "set_T = timeit.timeit(stmt=\n",
        "       \"{1,2,3,4,'1st','2nd','3rd'}\",number=100)\n",
        "\n",
        "# PERINT RESULTS\n",
        "print( \"lists creation took : \", f\"{ list_T :.3}\" )\n",
        "print( \"Sets  creation took  : \", f\"{ set_T :.3}\" )\n",
        "print( \"sets create \",  f\"{set_T/list_T:.2}\" , \"times SLOWER \")\n",
        "      # sets create     2 to 3    times  slower"
      ],
      "metadata": {
        "colab": {
          "base_uri": "https://localhost:8080/"
        },
        "id": "Dd__1uGauwL8",
        "outputId": "373f7259-0c65-479d-a72c-70e3f8780b65"
      },
      "execution_count": null,
      "outputs": [
        {
          "output_type": "stream",
          "name": "stdout",
          "text": [
            "lists creation took :  1.24e-05\n",
            "Sets  creation took  :  5.38e-05\n",
            "sets create  4.3 times SLOWER \n"
          ]
        }
      ]
    },
    {
      "cell_type": "markdown",
      "source": [
        "### DATA ACCESS FAST"
      ],
      "metadata": {
        "id": "dgJnHfcBwXFT"
      }
    },
    {
      "cell_type": "code",
      "source": [
        "import timeit          # https://docs.python.org/3/library/timeit.html\n",
        "# CREATE FIRST\n",
        "my_list = [1, 2, 3, 4, '1st', '2nd', '3rd']\n",
        "my_set  = {1, 2, 3, 4, '1st', '2nd', '3rd'}\n",
        "\n",
        "CYCLES=100\n",
        "# ACCES TIME\n",
        "list_AT = timeit.timeit(\n",
        "    stmt=\"my_list[3]\", globals=globals(), number=100)\n",
        "tuple_AT  = timeit.timeit(\n",
        "    stmt=\"3 in my_set\", globals=globals(), number=100)\n",
        "print(\"List access took:\", f\"{ list_AT  :.3}\" )\n",
        "print(\"Set  access took:\", f\"{ tuple_AT :.3}\"  )\n",
        "print( \"SETS access \",  f\"{ list_AT/tuple_AT :.3}\" , \"times FASTER \")\n",
        "#       SETS access 8~15 times FASTER  8\n",
        "\n",
        "# SEARCH TIME\n",
        "list_ST = timeit.timeit(\n",
        "    stmt=\"5 in my_list\", globals=globals(), number=100)\n",
        "tuple_ST  = timeit.timeit(\n",
        "    stmt=\"5 in my_set\", globals=globals(), number=100)\n",
        "print(\"List search took:\", f\"{ list_ST  :.3}\" )\n",
        "print(\"Set  search took:\", f\"{ tuple_ST :.3}\" )\n",
        "print( \"SETS search \",  f\"{ list_ST/tuple_ST :.3}\" , \"times FASTER \")\n",
        "#       SETS access 10~12 times FASTER   25\n",
        "\n",
        "# in general manipulation is 10 times    2"
      ],
      "metadata": {
        "colab": {
          "base_uri": "https://localhost:8080/"
        },
        "id": "xzSTPY6IwXrF",
        "outputId": "292aca93-24f9-49e0-8381-76fb5aca77c3"
      },
      "execution_count": null,
      "outputs": [
        {
          "output_type": "stream",
          "name": "stdout",
          "text": [
            "List access took: 9.15e-06\n",
            "Set  access took: 9.01e-06\n",
            "SETS access  1.02 times FASTER \n",
            "List search took: 1.91e-05\n",
            "Set  search took: 8.21e-06\n",
            "SETS search  2.32 times FASTER \n"
          ]
        }
      ]
    },
    {
      "cell_type": "markdown",
      "source": [
        "## TUPLES ( type , type , ... )\n",
        "\n",
        "Faster version of list that you cant edit\n",
        "\n",
        "<u>ORDERED & UNCHANGABLE </u>\n",
        "\n",
        "we cannot change, add or remove items after the tuple has been created.\n",
        "\n",
        "<u>ALLOUDS DUPLICATES</u>\n",
        "\n",
        "Since tuples are indexed, they can have items with the same value:\n",
        "\n"
      ],
      "metadata": {
        "id": "5Ye8li7y6_CY"
      }
    },
    {
      "cell_type": "code",
      "source": [
        "# Method\t Description\n",
        "count()\t # Returns   number of times a value apears in the tuple\n",
        "index()\t # Returns   position of where it was found"
      ],
      "metadata": {
        "id": "3pJuhCHCHRL1"
      },
      "execution_count": null,
      "outputs": []
    },
    {
      "cell_type": "code",
      "source": [
        "a=(1,2,3,4)\n",
        "a[2]='1'    # Type ERROR: 'tuple' object do not support item assignment"
      ],
      "metadata": {
        "id": "sM-3VA0vWoIK"
      },
      "execution_count": null,
      "outputs": []
    },
    {
      "cell_type": "code",
      "source": [
        "a = (1,2,3)\n",
        "b = (4,5,6)\n",
        "print(b := a + b )  # NOT actually EDITING\n",
        "# we just make a copy in a new reserved memory"
      ],
      "metadata": {
        "colab": {
          "base_uri": "https://localhost:8080/"
        },
        "id": "_KIHZp4gXopf",
        "outputId": "be045f13-b158-4cef-e009-68f27fc62d47"
      },
      "execution_count": null,
      "outputs": [
        {
          "output_type": "stream",
          "name": "stdout",
          "text": [
            "(1, 2, 3, 4, 5, 6)\n"
          ]
        }
      ]
    },
    {
      "cell_type": "markdown",
      "source": [
        "### DATA CREATE FAST"
      ],
      "metadata": {
        "id": "AVf_BLZicZW_"
      }
    },
    {
      "cell_type": "code",
      "source": [
        "import timeit# https://docs.python.org/3/library/timeit.html\n",
        "# CREATE TIME\n",
        "list_CT  = timeit.timeit( stmt=\"[1,2,3,4,'1st','2nd','3rd']\",number=100)\n",
        "tuple_CT = timeit.timeit( stmt=\"(1,2,3,4,'1st','2nd','3rd')\",number=100)\n",
        "print( \"lists  creation took : \",list_CT )\n",
        "print( \"Tuples creation took : \",tuple_CT )\n",
        "print( \"TUPLE created\",f\"{list_CT /tuple_CT :.2}\" ,\"times FASTER \")  # 5 times faster...  3~8"
      ],
      "metadata": {
        "colab": {
          "base_uri": "https://localhost:8080/"
        },
        "id": "-FtRIUvFYXpx",
        "outputId": "831dfb6f-19c3-406f-fce0-74456e223950"
      },
      "execution_count": null,
      "outputs": [
        {
          "output_type": "stream",
          "name": "stdout",
          "text": [
            "lists  creation took :  7.28899976820685e-06\n",
            "Tuples creation took :  1.2909995348309167e-06\n",
            "TUPLE created 5.6 times FASTER \n"
          ]
        }
      ]
    },
    {
      "cell_type": "markdown",
      "source": [
        "### DATA ACCESS FAST"
      ],
      "metadata": {
        "id": "kGCdf9Qj6W_d"
      }
    },
    {
      "cell_type": "code",
      "source": [
        "import timeit          # https://docs.python.org/3/library/timeit.html\n",
        "# CREATE FIRST\n",
        "my_list = []\n",
        "for i in range (0, 200):\n",
        "  my_list.append(i)\n",
        "my_tupe  = tuple(my_list)\n",
        "\n",
        "CYCLES = 100\n",
        "# ACCES TIME\n",
        "list_AT = timeit.timeit(\n",
        "    stmt=\"my_list[3]\", globals=globals(), number=CYCLES)\n",
        "tuple_AT  = timeit.timeit(\n",
        "    stmt=\"3 in my_tupe\", globals=globals(), number=CYCLES)\n",
        "print(\"List access took: \", f\"{  list_AT:.2}\"  )\n",
        "print(\"Tuple access took:\", f\"{ tuple_AT:.2}\"  )\n",
        "print( \"TUPLE access \",  f\"{ list_AT/tuple_AT :.2}\" , \"times FASTER \")\n",
        "#       SETS access   2  times FASTER\n",
        "\n",
        "# SEARCH TIME\n",
        "list_ST = timeit.timeit(\n",
        "    stmt=\"93 in my_list\", globals=globals(), number=CYCLES)\n",
        "tuple_ST  = timeit.timeit(\n",
        "    stmt=\"93 in my_tupe\", globals=globals(), number=CYCLES)\n",
        "print(\"List search took: \", f\"{  list_ST:.2}\" )\n",
        "print(\"Tuple search took:\", f\"{ tuple_ST:.2}\" )\n",
        "print( \"TUPLE search \",  f\"{ list_ST/tuple_ST :.2}\" , \"times FASTER \")\n",
        "#       SETS access    9   times  FASTER\n",
        "\n",
        "# in general manipulation is 10 times faster"
      ],
      "metadata": {
        "colab": {
          "base_uri": "https://localhost:8080/"
        },
        "id": "gPaa_dyn6R0i",
        "outputId": "414d6398-682e-4114-b742-bd7ad9bd3bda"
      },
      "execution_count": null,
      "outputs": [
        {
          "output_type": "stream",
          "name": "stdout",
          "text": [
            "List access took: 1e-05\n",
            "Tuple  access took: 1.2e-05\n",
            "TUPLE access  0.87 times FASTER \n",
            "List search took: 0.00014\n",
            "Tuple  search took: 0.00014\n",
            "TUPLE search  1.1 times FASTER \n"
          ]
        }
      ]
    },
    {
      "cell_type": "markdown",
      "source": [
        "## DICTIONARY { key:vakue , ... }"
      ],
      "metadata": {
        "id": "z_MFiNiZLlvD"
      }
    },
    {
      "cell_type": "markdown",
      "source": [
        "KEY VALUE explain it..."
      ],
      "metadata": {
        "id": "YJa28YEaLySY"
      }
    },
    {
      "cell_type": "code",
      "source": [
        "return:  dict.method( K , V )     #    K = key   V = Value\n",
        "\n",
        "          None  =  X:dict.method( ?? )\n",
        "\n",
        "dict.clear(None)   # Removes all the elements from the dictionary\n",
        "dict.pop( K )\t     # Removes the element with the specified keydict.\n",
        "dict.update({K,V}) # Updates the dictionary with the specified key-value pairs\n",
        "dict.popitem(None) # Removes a random item.\n",
        "\n",
        "             V  =  X:dict.method( elem )\n",
        "\n",
        "dict.setdefault( K )#\tReturns the value of the specified key.\n",
        "dict.get( K )\t      # Returns the value of the specified key\n",
        "\n",
        "          list[]  =  X:dict.method( None )\n",
        "\n",
        "dict.values()\t  # Returns a list of all the values in the dictionary\n",
        "dict.keys()\t    # Returns a list containing the dictionary's keys\n",
        "dict.items()\t  # Returns a list containing a tuple for each key value pair\n",
        "\n",
        "          dict{}  =  X:dict.method( None )\n",
        "\n",
        "dict.copy()\t        # Returns a copy of the dictionary\n",
        "dict.fromkeys( K )\t# Returns a dictionary with the specified keys and value\n",
        "#If the key does not exist: insert the key, with the specified value"
      ],
      "metadata": {
        "id": "DCVaM0vOLzyB"
      },
      "execution_count": null,
      "outputs": []
    },
    {
      "cell_type": "code",
      "source": [
        "#@title    ACESS & CHECK\n",
        "my_dict = { \"brand\": \"Ford\",\n",
        "             \"model\": \"Mustang\",\n",
        "             \"year\": 1964\n",
        "           }\n",
        "print ('',               # ACCES VALUES\n",
        "my_dict    [\"brand\"]    ,\"\\n\",  # same as    get(\"key\")\n",
        "my_dict.get(\"model\")    ,\"\\n\",  # both get us the value\n",
        "                         # CHECK KEYS\n",
        "keys := my_dict.keys()  ,\"\\n\",  # we can access all keys\n",
        "\"year\" in keys )                # and search for a specific one"
      ],
      "metadata": {
        "colab": {
          "base_uri": "https://localhost:8080/"
        },
        "id": "d_FJj5BTgSwj",
        "outputId": "a67206cf-5e53-456c-cb1d-e5bea3d89458"
      },
      "execution_count": null,
      "outputs": [
        {
          "output_type": "stream",
          "name": "stdout",
          "text": [
            " Ford \n",
            " Mustang \n",
            " dict_keys(['brand', 'model', 'year']) \n",
            " True\n"
          ]
        }
      ]
    },
    {
      "cell_type": "code",
      "source": [
        "#@title    ADD\n",
        "my_dict.update( { 4 : [1,2,3,4] } )           # we cand add   {key values}   pairs.....\n",
        "my_dict.update( { \"dic\" : { 1.2 :\"test\" ,     # values : can be dictionary or data strucuture\n",
        "                             2.2 :\"test_2\"} } )# keys   : must be a single value\n",
        "#thisdict.update( { \"dic\" : { [1] :\"test\" } } )\n",
        "thisdict"
      ],
      "metadata": {
        "colab": {
          "base_uri": "https://localhost:8080/"
        },
        "id": "jkpw9vyBgnvo",
        "outputId": "7ac06ead-a8e3-4c5c-c30c-5c495b1e7e01"
      },
      "execution_count": null,
      "outputs": [
        {
          "output_type": "execute_result",
          "data": {
            "text/plain": [
              "{'brand': 'Ford',\n",
              " 'model': 'Mustang',\n",
              " 'year': 1964,\n",
              " 4: [1, 2, 3, 4],\n",
              " 'dic': {1.2: 'test', 2.2: 'test_2'}}"
            ]
          },
          "metadata": {},
          "execution_count": 38
        }
      ]
    },
    {
      "cell_type": "code",
      "source": [
        "#@title    ACCES nest data\n",
        "print ('',\n",
        "my_dict[\"dic\"] ,\"\\n\",  #   my_dic [\"dic\"] = {  1.2:'test' , 2.2:'test_2' }\n",
        "my_dict[\"dic\"] [2.2] ) #   my_dict[\"dic\"] [2.2] =  test_2"
      ],
      "metadata": {
        "colab": {
          "base_uri": "https://localhost:8080/"
        },
        "id": "W0HHFqCOmx7z",
        "outputId": "19447a6c-baa5-4a01-9961-b6ab186b8147"
      },
      "execution_count": null,
      "outputs": [
        {
          "output_type": "stream",
          "name": "stdout",
          "text": [
            " {1.2: 'test', 2.2: 'test_2'} \n",
            " test_2\n"
          ]
        }
      ]
    },
    {
      "cell_type": "code",
      "source": [
        "#@title    DELETE\n",
        "my_dict.pop(  4    )     #  pop ( key)\n",
        "my_dict.pop( \"dic\" )     #  delets the value pair\n",
        "my_dict"
      ],
      "metadata": {
        "colab": {
          "base_uri": "https://localhost:8080/"
        },
        "id": "AFE1JaedlNXf",
        "outputId": "6c1d41ef-52a4-43c1-fa6f-47ace5b87f5f"
      },
      "execution_count": null,
      "outputs": [
        {
          "output_type": "execute_result",
          "data": {
            "text/plain": [
              "{'brand': 'Ford', 'model': 'Mustang', 'year': 1964}"
            ]
          },
          "metadata": {},
          "execution_count": 41
        }
      ]
    },
    {
      "cell_type": "markdown",
      "source": [
        "# OBJECTS OOP"
      ],
      "metadata": {
        "id": "cVLNootkicKB"
      }
    },
    {
      "cell_type": "markdown",
      "source": [
        "## CLASS & OBJECR"
      ],
      "metadata": {
        "id": "Ip4HRbfwbQkv"
      }
    },
    {
      "cell_type": "markdown",
      "source": [
        "## HERENCE POLYMORFISM"
      ],
      "metadata": {
        "id": "2QjLrE8RbZrM"
      }
    },
    {
      "cell_type": "markdown",
      "source": [
        "## MODIFIERS"
      ],
      "metadata": {
        "id": "tdC5QTl1bQ9z"
      }
    },
    {
      "cell_type": "markdown",
      "source": [
        "# LIBRARIES"
      ],
      "metadata": {
        "id": "mhiGQQKYyoHT"
      }
    },
    {
      "cell_type": "markdown",
      "source": [
        "### BUILTIN LIBS\n",
        "\n",
        "https://docs.python.org/3/library/\n",
        "\n",
        "MUST : import . . .   DONT NEED : pip install"
      ],
      "metadata": {
        "id": "z9uU-2PUKicZ"
      }
    },
    {
      "cell_type": "code",
      "source": [
        "from pygments\n",
        "#python.org/3/library/os.html  /io.html     SOME INTERESTING EXAMPLES import builtins     import collections\n",
        "import os                      import io            import treading   import docutest     import time\n",
        "os.chdir(path)                 io.StringIO()        import csv        import dataclases   import datetime\n",
        "os.fchdir(fd)                  io.BytesIO()         import zipfile    import turtle       import hashlib\n",
        "os.getcwd()                    io.text_encoding()   import audioloop  import dbm          import json\n",
        "os.ctermid()                   class io.IOBase      import sys        import sqlite3      import xml\n",
        "os.environ()                   class io.RawIOBase   import importlib  import codecs       import http\n",
        "                                                    import token      import pwd          import socket"
      ],
      "metadata": {
        "id": "AheMzNnQKBOS"
      },
      "execution_count": null,
      "outputs": []
    },
    {
      "cell_type": "markdown",
      "source": [],
      "metadata": {
        "id": "ZM06ke31isUP"
      }
    },
    {
      "cell_type": "code",
      "source": [
        "import json as J\n",
        "for i , module in enumerate(dir( J )):\n",
        "  if (i % 5):\n",
        "    print( module,'\\t' ,end='')\n",
        "  else:\n",
        "    print()"
      ],
      "metadata": {
        "colab": {
          "base_uri": "https://localhost:8080/"
        },
        "id": "Pxd6AlEur55S",
        "outputId": "64d4d079-4cfe-4d55-b564-ead8cc5e5095"
      },
      "execution_count": null,
      "outputs": [
        {
          "output_type": "stream",
          "name": "stdout",
          "text": [
            "\n",
            "JSONDecoder \tJSONEncoder \t__all__ \t__author__ \t\n",
            "__cached__ \t__doc__ \t__file__ \t__loader__ \t\n",
            "__package__ \t__path__ \t__spec__ \t__version__ \t\n",
            "_default_encoder \tcodecs \tdecoder \tdetect_encoding \t\n",
            "dumps \tencoder \tload \tloads \t\n"
          ]
        }
      ]
    },
    {
      "cell_type": "markdown",
      "source": [
        "### EXTERNAL LIB\n",
        "https://pypi.org/project/numpy/\n",
        "https://pypi.org/project/numpy/"
      ],
      "metadata": {
        "id": "9YKbLK5OPp1Q"
      }
    },
    {
      "cell_type": "markdown",
      "source": [
        "## PIP INSTALL\n",
        "\n",
        "https://pip.pypa.io/en/stable/cli/pip_list/"
      ],
      "metadata": {
        "id": "fGWf4WT7zPoO"
      }
    },
    {
      "cell_type": "code",
      "source": [
        " sudo apt install python3-pip           pip3 --version\n",
        "\n",
        "pip install [library]            pip list # see all  library | version\n",
        "\n",
        "pip install    pip list   pip wheel   pip download  pip config\n",
        "pip inspect    pip show   pip freeze  pip search    pip debug\n",
        "pip uninstall  pip check  pip hash    pip cache"
      ],
      "metadata": {
        "id": "mnMNO3crPpfQ"
      },
      "execution_count": null,
      "outputs": []
    },
    {
      "cell_type": "markdown",
      "source": [
        "LIBRARY DOCUMANTATION USUALY FOUND AT\n",
        "\n",
        "PyPi PAGE https://pypi.org/project/numpy/  . <--- can search\n",
        "\n",
        "OFICIAL PAGE : https://numpy.org/ . . . . . .  below a list of  NnumPy Ecosystem :"
      ],
      "metadata": {
        "id": "XnELKtVrZk9T"
      }
    },
    {
      "cell_type": "code",
      "source": [
        "#Quantum \tStatistical Signal Proc \tImage Proc   Graph Networks\tAstronomy\tCognitive\n",
        "  QuTiP\t    Pandas\t    SciPy\t        Scikit-image\tNetworkX\t    AstroPy\t  PsychoPy\n",
        "  PyQuil\t  statsmodels\tPyWavelets\t   OpenCV\t      graph-tool  \tSunPy\n",
        "  Qiskit\t  Xarray\t    python-control\tMahotas\t    igraph\t      SpacePy\n",
        "  PennyLane\tSeaborn\t\t                          \t  PyGSP\n",
        "\n",
        "#Bio-Genetic Bayesia  Math  Chemist\t  GeoScie\tGeographic\tArchitecture & Engineering#\n",
        "  BioPython\t PyStan\t SciPy\tCantera\t   Pangeo\t  Shapely   \tCOMPAS\n",
        "  Scikit-Bio\tPyMC3\t SymPy\tMDAnalysis\tSimpeg  GeoPandas\t  City Energy Analyst\n",
        "  PyEnsembl\t  ArviZ\t cvxpy\tRDKit     \tObsPy\t  Folium\t    Sverchok\n",
        "  ETE     \temcee\t   FEniCS\tPyBaMM\t  Fatiando"
      ],
      "metadata": {
        "id": "DIek-x66atJG"
      },
      "execution_count": null,
      "outputs": []
    },
    {
      "cell_type": "markdown",
      "source": [
        "# PREFORMANCE"
      ],
      "metadata": {
        "id": "bmRsHvzTd3ID"
      }
    },
    {
      "cell_type": "code",
      "source": [
        "import time    # get date  & time from execution\n",
        "import timeit  # time a function\n",
        "import os\n",
        "ti = time.time()            #  UNSTABLE ?\n",
        "time.sleep(1)               #\n",
        "tf = time.time()\n",
        "print(\" time in between lasts : \",tf-ti,'seconds' )\n",
        "\n",
        "ti = time.monotonic_ns()    # BETET ?\n",
        "os.wait(1)                  # HOW ?\n",
        "tf = time.monotonic_ns()\n",
        "print(\" time in between lasts : \",tf-ti,'seconds' )\n",
        "#########################################\n",
        "import pstats    #\n",
        "import cProfile  #"
      ],
      "metadata": {
        "id": "F-OvJxyjXDAM"
      },
      "execution_count": null,
      "outputs": []
    },
    {
      "cell_type": "code",
      "source": [
        "#  @title FOR mejor que WHILE ?\n",
        "\n",
        "def while_test ( n):   # acumulador 1+2+3+.....n\n",
        "    a = 0\n",
        "    while n > 0 :\n",
        "        n -=1\n",
        "        a +=n\n",
        "    print(a)        # Resultado validos      499500 = 1000 ^2/2\n",
        "    return          # para potencia de 10\n",
        "\n",
        "def for_test ( n ):\n",
        "    a = 0\n",
        "    for i in range (n):\n",
        "        n -=1\n",
        "        a +=n\n",
        "    print(a)\n",
        "    return"
      ],
      "metadata": {
        "id": "KkAmyEi0x08Q"
      },
      "execution_count": 49,
      "outputs": []
    },
    {
      "cell_type": "code",
      "source": [
        "#  @title TIME IT\n",
        "import timeit\n",
        "n=4\n",
        "t1 = timeit.timeit(  f'while_test ({n})', globals=globals(), number=2) # ALLWAYS put a numbet=...\n",
        "print(            f'\\t while_test: {t1} sec ')                         # this acumulates 2 cicles\n",
        "\n",
        "t2 = timeit.repeat( f'for_test({n})',globals=globals(),number=2, repeat=2) # repeat will store values\n",
        "print(            f' \\t for_test: {t2[0]} sec ')                            #   t[0],t[1]\n",
        "\n",
        "print(len(t2))  # 2 cause repeat is 2\n",
        "\n",
        "print( f' \\t for es : {t1/t2[0]:.3f} veces mas rapido ')  # function output cant\n"
      ],
      "metadata": {
        "colab": {
          "base_uri": "https://localhost:8080/"
        },
        "id": "3oS_J0sW9FrC",
        "outputId": "97c0de48-50a8-4477-9b3f-357988e99da2"
      },
      "execution_count": 89,
      "outputs": [
        {
          "output_type": "stream",
          "name": "stdout",
          "text": [
            "6\n",
            "6\n",
            "\t while_test: 7.991900019987952e-05 sec \n",
            "6\n",
            "6\n",
            "6\n",
            "6\n",
            " \t for_test: 4.2240000766469166e-05 sec \n",
            "2\n",
            " \t for es : 1.892 veces mas rapido \n"
          ]
        }
      ]
    },
    {
      "cell_type": "code",
      "source": [
        "# @title  timeit . min max\n",
        "import timeit\n",
        "\n",
        "def your_function():\n",
        "    \"do something\"\n",
        "\n",
        "t = timeit.Timer(your_function)\n",
        "# repeat 10 times, 1000000 times through the loop\n",
        "repeat, number = 10, 1000000\n",
        "r = t.repeat(repeat, number)\n",
        "best, worse = min(r), max(r)\n",
        "print(\"{number} loops, best of {repeat}: {best:.3g} seconds per loop, \"\n",
        "     \"worse of {repeat}: {worse:.3g} seconds per loop\".format(**vars()))"
      ],
      "metadata": {
        "colab": {
          "base_uri": "https://localhost:8080/"
        },
        "id": "-QNaBew4flJ0",
        "outputId": "d1ed14a5-fe52-41fa-a62f-2d339107f94c"
      },
      "execution_count": 62,
      "outputs": [
        {
          "output_type": "stream",
          "name": "stdout",
          "text": [
            "1000000 loops, best of 10: 0.0662 seconds per loop, worse of 10: 0.133 seconds per loop\n"
          ]
        }
      ]
    },
    {
      "cell_type": "markdown",
      "source": [
        "timeit( 'my_function', number=n)  acumula tiempo de n llamados a funcion\n",
        "repeat( 'my_function', repeat=n)  genera un vector para ver que tan estable es la duracion de llamado"
      ],
      "metadata": {
        "id": "fapXjlyK8uJw"
      }
    },
    {
      "cell_type": "markdown",
      "source": [
        "## TIMMING PROFILE\n",
        "\n",
        "https://realpython.com/python-sleep/#adding-a-python-sleep-call-with-async-io\n",
        "async I/O"
      ],
      "metadata": {
        "id": "diDqkfq2XDdW"
      }
    },
    {
      "cell_type": "code",
      "source": [
        "# @title %timeit (stats)\n",
        "# https://www.youtube.com/watch?v=ZuWDYaa2Dfk\n",
        "def traditional_loop():\n",
        "    x = []\n",
        "\n",
        "    for i in range(1_000_000):\n",
        "        x.append(i ** 2)\n",
        "\n",
        "    return x\n",
        "\n",
        "def comprehension():\n",
        "    return [i**2\n",
        "           for i in range(1_000_000)]\n",
        "\n",
        "%timeit traditional_loop()"
      ],
      "metadata": {
        "colab": {
          "base_uri": "https://localhost:8080/"
        },
        "id": "WMlyzpPegXWu",
        "outputId": "2b7e2001-af54-4636-ae7c-16473fa2c313"
      },
      "execution_count": 63,
      "outputs": [
        {
          "output_type": "stream",
          "name": "stdout",
          "text": [
            "363 ms ± 10.1 ms per loop (mean ± std. dev. of 7 runs, 1 loop each)\n"
          ]
        }
      ]
    },
    {
      "cell_type": "code",
      "source": [
        "import cProfile\n",
        "import pstats\n",
        "import numpy as np\n",
        "\n",
        "def while_test () :   # acumulador 1+2+3+.....n\n",
        "    a = 0\n",
        "    while n > 0 :\n",
        "        n -=1\n",
        "        a +=n\n",
        "    print(a)        # Resultado validos      499500 = 1000 ^2/2\n",
        "    return          # para potencia de 10\n",
        "\n",
        "def for_test ( ):\n",
        "    a = 0\n",
        "    for i in range (n):\n",
        "        n -=1\n",
        "        a +=n\n",
        "    print(a)\n",
        "    return\n",
        "\n",
        "def funct():\n",
        "    n = 10000000  # Set the secuence\n",
        "    for_test(n)   # Print results\n",
        "    while_test(n)\n",
        "\n",
        "if __name__ == '__funct__':\n",
        "  with cProfile.Profile() as profile:    # Profile the main function\n",
        "    results = pstats.Stats(profile)         # Create and save the profiling results\n",
        "    results.sort_stats(pstats.SortKey.TIME) # SORT\n",
        "    results.print_stats()                   # PRINT\n",
        "    results.dump_stats(\"results.prof\")      # FILE we can ipen with tuna in browser"
      ],
      "metadata": {
        "id": "8zvqs5J68trg"
      },
      "execution_count": 46,
      "outputs": []
    },
    {
      "cell_type": "markdown",
      "source": [
        "## NUMBA CUDA\n",
        "https://numba.pydata.org/numba-doc/dev/cuda/examples.html\n",
        "https://www.youtube.com/watch?v=53l4HApVUKU"
      ],
      "metadata": {
        "id": "lR0ZxZ5QayDZ"
      }
    },
    {
      "cell_type": "code",
      "source": [
        "import timeit\n",
        "\n",
        "def acmul(n):\n",
        "  i = 0\n",
        "  a = 0\n",
        "  for i in range(0,n):\n",
        "    a += i\n",
        "  return a\n",
        "\n",
        "%timeit acmul(1000)"
      ],
      "metadata": {
        "colab": {
          "base_uri": "https://localhost:8080/"
        },
        "id": "CZ5jFcrNsDV_",
        "outputId": "3e36485a-a0e5-40d5-bc4e-5c5f9f59b038"
      },
      "execution_count": 2,
      "outputs": [
        {
          "output_type": "stream",
          "name": "stdout",
          "text": [
            "80.5 µs ± 32.2 µs per loop (mean ± std. dev. of 7 runs, 10000 loops each)\n"
          ]
        }
      ]
    },
    {
      "cell_type": "code",
      "source": [
        "import timeit\n",
        "from numba import jit\n",
        "@jit\n",
        "def acmul(n):\n",
        "  i = 0\n",
        "  a = 0\n",
        "  for i in range(0,n):\n",
        "    a += i\n",
        "  return a\n",
        "\n",
        "%timeit acmul(1000)"
      ],
      "metadata": {
        "colab": {
          "base_uri": "https://localhost:8080/"
        },
        "id": "Y1s4Xn9gt468",
        "outputId": "8e673ae7-0009-4fe2-e95f-5cce33bf2e42"
      },
      "execution_count": 11,
      "outputs": [
        {
          "output_type": "stream",
          "name": "stdout",
          "text": [
            "469 ns ± 122 ns per loop (mean ± std. dev. of 7 runs, 1000000 loops each)\n"
          ]
        }
      ]
    },
    {
      "cell_type": "code",
      "source": [
        "import timeit\n",
        "from numba import njit\n",
        "@njit\n",
        "def acmul(n):\n",
        "  i = 0\n",
        "  a = 0\n",
        "  for i in range(0,n):\n",
        "    a += i\n",
        "  return a\n",
        "\n",
        "%timeit acmul(1000)"
      ],
      "metadata": {
        "colab": {
          "base_uri": "https://localhost:8080/"
        },
        "id": "9zNZVY_vuWNQ",
        "outputId": "cba895c0-8eb4-4543-f309-cebfe002d3a5"
      },
      "execution_count": 12,
      "outputs": [
        {
          "output_type": "stream",
          "name": "stdout",
          "text": [
            "238 ns ± 6.56 ns per loop (mean ± std. dev. of 7 runs, 1000000 loops each)\n"
          ]
        }
      ]
    },
    {
      "cell_type": "code",
      "source": [
        "import numba\n",
        "@njit\n",
        "def jit_matmul(A, B, C):\n",
        "    \"\"\"Perform square matrix multiplication of C = A * B\n",
        "    \"\"\"\n",
        "    i, j = cuda.grid(2)\n",
        "    if i < C.shape[0] and j < C.shape[1]:\n",
        "        tmp = 0.\n",
        "        for k in range(A.shape[1]):\n",
        "            tmp += A[i, k] * B[k, j]\n",
        "        C[i, j] = tmp\n",
        "\n"
      ],
      "metadata": {
        "id": "qkciQL-BaxqN"
      },
      "execution_count": null,
      "outputs": []
    },
    {
      "cell_type": "code",
      "source": [
        "# https://numba.pydata.org/numba-doc/dev/cuda/examples.html\n",
        "\n",
        "@cuda.jit\n",
        "def CUDA_matmul(A, B, C):\n",
        "    \"\"\"Perform square matrix multiplication of C = A * B\n",
        "    \"\"\"\n",
        "    i, j = cuda.grid(2)\n",
        "    if i < C.shape[0] and j < C.shape[1]:\n",
        "        tmp = 0.\n",
        "        for k in range(A.shape[1]):\n",
        "            tmp += A[i, k] * B[k, j]\n",
        "        C[i, j] = tmp"
      ],
      "metadata": {
        "id": "wpY5FePesJOA"
      },
      "execution_count": null,
      "outputs": []
    },
    {
      "cell_type": "markdown",
      "source": [
        "## CyTHON\n",
        "Cython compila Python para optimizar a nicel lenguage c\n",
        "\n",
        "para ello devemos ser especificos con los tipos de datos\n",
        "\n",
        "La extension de un archivo cython es distinta"
      ],
      "metadata": {
        "id": "FQyDC08Bmuug"
      }
    },
    {
      "cell_type": "code",
      "source": [
        " .py  # Python\n",
        " .pyx # Cython"
      ],
      "metadata": {
        "id": "H8B2mGJpxwQN"
      },
      "execution_count": null,
      "outputs": []
    },
    {
      "cell_type": "markdown",
      "source": [
        "Las funciones escritas en el archivo cython pueden o no\n",
        "\n",
        "ser llamadas por un proceso python segun su"
      ],
      "metadata": {
        "id": "3GROgRXsyMr4"
      }
    },
    {
      "cell_type": "code",
      "source": [
        "from ast import ClassDef\n",
        "def    # Python      wont optimizw\n",
        "cpdef  # Python / C  will try to optimize\n",
        "ClassDef"
      ],
      "metadata": {
        "id": "sp_psMHlM1RP"
      },
      "execution_count": null,
      "outputs": []
    },
    {
      "cell_type": "code",
      "source": [
        "#  this file :  setup.py\n",
        "from distutils.core import setup\n",
        "from Cython.Build import cythonize\n",
        "\n",
        "setup(ext_modules= cythonize('test.pyx'),\n",
        "      include_dirs='/home/ariel/miniconda3/lib/python3.11/site-packages/numpy/core/include'  )"
      ],
      "metadata": {
        "id": "x8_k9kN0EPWa"
      },
      "execution_count": null,
      "outputs": []
    },
    {
      "cell_type": "code",
      "source": [
        "import timeit\n",
        "\n",
        "import numpy as np\n",
        "cimport numpy as np  # Import the numpy C library\n",
        "# Define the data type\n",
        "ctypedef np.int32_t DTYPE_t\n",
        "\n",
        "def while_test ( n ) ->  int:\n",
        "    i = np.arange(0, n)\n",
        "    a = np.sum(i)\n",
        "    print(a)\n",
        "    return\n",
        "\n",
        "cpdef int  for_typed ( long  n )  :     # OPTIMIZED\n",
        "    cdef long a = 0\n",
        "    cdef int i = 0\n",
        "    for i in range (n):\n",
        "        n -=1\n",
        "        a +=n\n",
        "    print(a)\n",
        "    return 0\n",
        "\n",
        "cpdef int  numpy_test(  long n ):\n",
        "    i = np.arange(0, n)\n",
        "    a = np.sum(i)\n",
        "    print(a)\n",
        "    return 0\n",
        "\n",
        "cpdef int numpy_typed (  long n ) :\n",
        "    cdef np.int32_t[:] i = np.arange(0, n, dtype=np.int32)\n",
        "    cdef long a = np.sum(i)\n",
        "    return a\n",
        "#\n",
        "\n",
        "def main():\n",
        "    n=1000000\n",
        "    t = timeit.timeit(  f'while_test ({n})', globals=globals(), number=1)\n",
        "    print(           f'\\t while_test_C: {t} sec ') ##################\n",
        "    t = timeit.repeat( f'for_typed({n})',globals=globals(), repeat=1, number=1)\n",
        "    print(         f' \\t for_typed_C: {t} sec ')   ##################\n",
        "    t = timeit.repeat( f'numpy_typed({n})',globals=globals(), repeat=1, number=1)\n",
        "    print(         f' \\t numpy_typed_C {t} sec ')  ##################\n",
        "    t = timeit.repeat( f'numpy_test({n})',globals=globals(), repeat=1, number=1)\n",
        "    print(         f' \\t numpy_test_C: {t} sec ')  ##################"
      ],
      "metadata": {
        "id": "7GZec94yEeAA"
      },
      "execution_count": null,
      "outputs": []
    },
    {
      "cell_type": "code",
      "source": [
        "/Desktop/python Performance/cython$ python3 testing.py\n",
        "499999500000\n",
        "         while_test_C: 0.004443279001861811 sec\n",
        "499999500000\n",
        "         for_typed_C: 0.0008775199967203662 sec   # WINER\n",
        "499999500000\n",
        "         numpy_typed_C 0.003229986992664635 sec   # at least is compatible :/\n",
        "499999500000\n",
        "         numpy_test_C: 0.0024762760003795847 sec"
      ],
      "metadata": {
        "id": "0uW2a7HwMLZM"
      },
      "execution_count": null,
      "outputs": []
    },
    {
      "cell_type": "code",
      "source": [
        "# https://cython.readthedocs.io/en/latest/index.html\n",
        "# https://cython.readthedocs.io/en/latest/src/tutorial/\n",
        "# https://cython.readthedocs.io/en/latest/src/tutorial/numpy.html#adding-types\n",
        "# https://numpy.org/devdocs/reference/c-api/types-and-structures.html\n",
        "import  numpy as np\n",
        "cimport numpy as cnp\n",
        "ctypedef cnp.int64_t DTYPE_t\n",
        "\n",
        "def naive_convolve(cnp.ndarray f, cnp.ndarray g):\n",
        "    if g.shape[0] % 2 != 1 or g.shape[1] % 2 != 1:\n",
        "        raise ValueError(\"Only odd dimensions on filter supported\")\n",
        "    assert f.dtype == DTYPE and g.dtype == DTYPE\n",
        "\n",
        "    cdef int vmax = f.shape[0]\n",
        "    cdef int wmax = f.shape[1]\n",
        "    cdef int smax = g.shape[0]\n",
        "    cdef int tmax = g.shape[1]\n",
        "    cdef int smid = smax // 2\n",
        "    cdef int tmid = tmax // 2\n",
        "    cdef int xmax = vmax + 2 * smid\n",
        "    cdef int ymax = wmax + 2 * tmid\n",
        "    cdef cnp.ndarray h = np.zeros([xmax, ymax], dtype=DTYPE)\n",
        "    cdef int x, y, s, t, v, w\n",
        "\n",
        "    cdef int s_from, s_to, t_from, t_to\n",
        "\n",
        "    cdef DTYPE_t value\n",
        "    for x in range(xmax):\n",
        "        for y in range(ymax):\n",
        "            s_from = max( smid - x, - smid)\n",
        "            s_to   = min((xmax - x) - smid, smid + 1)\n",
        "            t_from = max( tmid - y, - tmid)\n",
        "            t_to   = min((ymax - y) - tmid, tmid + 1)\n",
        "            value   = 0\n",
        "            for s in range(s_from, s_to):\n",
        "                for t in range(t_from, t_to):\n",
        "                    v = x - smid + s\n",
        "                    w = y - tmid + t\n",
        "                    value += g[smid - s, tmid - t] * f[v, w]\n",
        "            h[x, y] = value\n",
        "    return h\n",
        "\n",
        "# https://suzyahyah.github.io/code/2018/12/01/Gotchas-in-Cython.html\n",
        "# https://github.com/cython/cython/blob/master/Cython/Includes/numpy/__init__.pxd\n",
        "# https://saturncloud.io/blog/solving-the-fatal-error-numpyarrayobjecth-no-such-file-or-directory/\n",
        "# https://stackoverflow.com/questions/22507592/making-an-executable-in-cython\n",
        "# https://www.youtube.com/watch?v=Ykp3X_ol0uM&list=PLGbUhPkjnRIbtnM6O9NcI-CgkcHhaRNXm&index=3\n"
      ],
      "metadata": {
        "id": "VbIHOG3gmubO"
      },
      "execution_count": null,
      "outputs": []
    },
    {
      "cell_type": "markdown",
      "source": [
        "## MULTIPROCESS"
      ],
      "metadata": {
        "id": "Sgg0w6clm3ap"
      }
    },
    {
      "cell_type": "code",
      "source": [],
      "metadata": {
        "id": "13POmn7Igpxy"
      },
      "execution_count": null,
      "outputs": []
    },
    {
      "cell_type": "markdown",
      "source": [
        "## ACCELERATED COMPUTING"
      ],
      "metadata": {
        "id": "_e8iBtxFId9e"
      }
    },
    {
      "cell_type": "code",
      "source": [
        "# avoid making your own function\n",
        "# theres a list of C optimized libraries\n",
        "import pandas\n",
        "import numpy\n",
        "import pygame\n",
        "import pybrain"
      ],
      "metadata": {
        "id": "7EwcRXBogEEZ"
      },
      "execution_count": null,
      "outputs": []
    },
    {
      "cell_type": "code",
      "source": [
        "import numba   #  CPU  C-perf + GPU\n",
        "import Cython  #  CPU  C-perf\n",
        "import torch   #  ML + GPU\n",
        "import dask    #  DISTRIBUTED   GPU + Kubernette\n",
        "# import taich  # no colab      GPU & CPU acc\n",
        "# import cupy   # cudapy    NEEDS GPU\n",
        "import OpenGL   #\n",
        "import pygame   #\n",
        "# import ray    # DISTRIBUTED  multytread  no colab"
      ],
      "metadata": {
        "id": "5J_iZJZ36Z2T"
      },
      "execution_count": 3,
      "outputs": []
    },
    {
      "cell_type": "code",
      "source": [
        "https://numba.pydata.org/numba-doc/dev/cuda/examples.html"
      ],
      "metadata": {
        "id": "WPy6pCszv485"
      },
      "execution_count": null,
      "outputs": []
    },
    {
      "cell_type": "markdown",
      "source": [
        "# NETWORKING\n",
        "https://eng.libretexts.org/Bookshelves/Computer_Science/Networks/Book%3A_An_Introduction_to_Computer_Networks_(Dordal)"
      ],
      "metadata": {
        "id": "E9kTlZpzauMN"
      }
    },
    {
      "cell_type": "code",
      "source": [
        "FETCHING IN PYTHON # https://docs.python.org/3/howto/urllib2.html"
      ],
      "metadata": {
        "id": "quoPTF-AkAeF"
      },
      "execution_count": null,
      "outputs": []
    },
    {
      "cell_type": "code",
      "source": [
        "# @title   COURSES\n",
        "DJANGO CURSE #https://www.tutorialspoint.com/django/index.htm\n",
        "PEN-TEST   . #https://www.tutorialspoint.com/python_penetration_testing/python_penetration_testing_quick_guide.htm\n",
        "OS.PATH      #https://www.tutorialspoint.com/object-oriented-filesystem-paths-in-python-pathlib#:~:text=The%20pathlib%20module%20provides%20an,types%20and%20concrete%20path%20types."
      ],
      "metadata": {
        "id": "7JkqbfzkzoI0"
      },
      "execution_count": null,
      "outputs": []
    },
    {
      "cell_type": "markdown",
      "source": [
        "# SCRAPING"
      ],
      "metadata": {
        "id": "uRmBmTymLDQ3"
      }
    },
    {
      "cell_type": "markdown",
      "source": [
        "# DJANGO"
      ],
      "metadata": {
        "id": "c9DSIrBb6Zf1"
      }
    },
    {
      "cell_type": "code",
      "source": [
        "\n",
        "https://www.dj4e.com/lessons    https://www.youtube.com/playlist?list=PLlRFEj9H3Oj5e-EH0t3kXrcdygrL9-u-Z\n",
        "\n",
        "https://developer.mozilla.org/en-US/docs/Learn/Server-side/Django\n",
        "https://code.visualstudio.com/docs/python/tutorial-django"
      ],
      "metadata": {
        "id": "zgiNT1K3Julu"
      },
      "execution_count": null,
      "outputs": []
    },
    {
      "cell_type": "markdown",
      "source": [
        "# SQL\n",
        "[SQL book](https://eng.libretexts.org/Bookshelves/Computer_Science/Databases_and_Data_Structures/Database_Design_(Watt)/01%3A_Chapters#:~:text=1.15%3A%20Chapter%2015,Data%20Manipulation%20Language)\n",
        "\n",
        "\n"
      ],
      "metadata": {
        "id": "_X3A7AIy_bBl"
      }
    },
    {
      "cell_type": "code",
      "source": [],
      "metadata": {
        "id": "jyTOcK32r5eu"
      },
      "execution_count": null,
      "outputs": []
    },
    {
      "cell_type": "markdown",
      "source": [
        "## IP LOCAL GLOBAL\n",
        "https://www.ibm.com/docs/he/networkmanager/4.2.0?topic=translation-private-address-ranges\n",
        "\n",
        "https://www.meridianoutpost.com/resources/articles/IP-classes.php\n",
        "\n",
        "https://www.youtube.com/watch?v=nGIg40xs9e4\n",
        "https://devdocs.io/django~4.2/"
      ],
      "metadata": {
        "id": "pud_re_XokIQ"
      }
    },
    {
      "cell_type": "code",
      "source": [
        "# The Internet Assigned Numbers Authority (IANA)\n",
        "# has assigned several address ranges to be used by private networks.\n",
        "\n",
        "# Class A:    10.0.0.0 to  10.255.255.255   N°NetWorks:       126   Hosts per NetW:  16,777,214\n",
        "# Class B: 172. 16.0.0 to 172. 31.255.255   N°NetWorks:    16,382   Hosts per NetW:  65,534\n",
        "  Class C: 192.168.0.0 to 192.168.255.255   N°NetWorks: 2,097,150   Hosts per NetW:  254\n",
        "# Clas  D: 224.  0.0.0 to 239.255.255.255   First octet range from 224 to 239   Multicasting\n",
        "# Class E: 240.  0.0.0 to 255.255.255.255   First octet range from 240 to 255   Research/Experim"
      ],
      "metadata": {
        "id": "x3dDAbbtZouR"
      },
      "execution_count": null,
      "outputs": []
    },
    {
      "cell_type": "code",
      "source": [
        " # Local Host(loopback)    My Class C IP(safe)     PUBLIC HOST IP    ( DANGER )\n",
        " # 127.0.1.1               192.168.0.100          19X.XXX.XXX.XXX    (VERY SIMILAR)\n",
        "\n",
        "ifconfig | grep inet\n",
        "IP4     inet       \"127.0.0.1\"      \"netmask 255.0.0.0\"\n",
        "        inet6 ::1  prefixlen 128  scopeid 0x10<host>\n",
        "IP4     inet   \"192.168.0.100\"      \"netmask 255.255.255.0\"     broadcast 192.168.0.255\n",
        "IP6     inet6 \"fe80::e9b0:e4f9:add1:6e69\"    prefixlen 64       scopeid 0x20<link>"
      ],
      "metadata": {
        "id": "TAXZL2S3ojYr"
      },
      "execution_count": null,
      "outputs": []
    },
    {
      "cell_type": "markdown",
      "source": [
        "MY PUBLIC IP ? :google it www.google.com/search?q=my+ip\n",
        "\n",
        "OR:  https://www.myip.com/ . . .  https://whatismyipaddress.com/es/mi-ip\n",
        "\n",
        "[difference-between-a-public-and-private]https://help.keenetic.com/hc/en-us/articles/213965789-What-is-the-difference-between-a-public-and-private-IP-address-\n",
        "\n",
        "---\n",
        "\n",
        "GOOGLE DNS tool\n",
        "https://dns.google/query?name=google.com\n",
        "\n",
        "---\n",
        "\n",
        "IP to DNS :\n",
        "https://www.lookip.net/ip/8.8.8.8\n",
        "\n",
        "\n",
        "DNS to IP :\n",
        "https://www.site24x7.com/tools/find-ip-address-of-web-site.html\n",
        "\n",
        "https://www.ipvoid.com/find-website-ip/\n"
      ],
      "metadata": {
        "id": "B655a4LfoC-j"
      }
    },
    {
      "cell_type": "markdown",
      "source": [
        "## DNS & HTTP\n",
        "\n",
        "MODEM :\n",
        "\n",
        "Asings the same single public IP and multiple unique Privated IP to any devide conected\n",
        "\n",
        "This Public IP will be used bu the ISP Internet service probider to conect us to the internet\n",
        "\n",
        "A HOST :\n",
        "\n",
        "can be any process running in the network with an unique Prived IP + Port cobination.\n",
        "\n",
        "any host within the network can be asigned a DNS for\n",
        "\n",
        "WEB PORT :\n",
        "\n",
        "Typically, web servers use port 80 for HTTP and port 443 for HTTPS more can be searched here\n",
        "\n",
        "\n",
        "(IANA) :\n",
        "https://www.iana.org/assignments/service-names-port-numbers/service-names-port-numbers.xhtml?search=8080\n",
        "Port fordwarding\n",
        "https://help.keenetic.com/hc/en-us/articles/360000360760\n",
        "\n",
        "VIRTUAL HOSTS : (HTTP)\n",
        "\n",
        "If you're running web servers ( APACHE, NNGINX ), you'll need to set up virtual hosts or server blocks to handle incoming requests for each domain. Each virtual host configuration will specify the domain name it should respond to and the directory where the website files are located. Here's an example for Apache:\n",
        "\n",
        "\n",
        "TRANSPRT PTOTOCOLS : TCP UTP SCTP"
      ],
      "metadata": {
        "id": "cn-mraY6j4pU"
      }
    },
    {
      "cell_type": "code",
      "source": [
        "Port 80 is the default port for http traffic\n",
        "8080 is often used as a default port for web proxy and caching server.\n",
        "  used in web servers,such as Apache Tomcat and Jetty,\n",
        "  And application servers, such as GlassFish.\n",
        "\n",
        "It was originally chosen as a default because\n",
        "it is higher than the well-known PORTS numbers (0-1023),\n",
        "which are reserved for specific services in\n",
        "the Internet Assigned Numbers Authority (IANA)"
      ],
      "metadata": {
        "id": "QfFe-y5doCLQ"
      },
      "execution_count": null,
      "outputs": []
    },
    {
      "cell_type": "markdown",
      "source": [
        "## SOCKET METHODS   \n",
        "https://www.geeksforgeeks.org/sockets-python/  \n",
        "https://docs.python.org/es/dev/whatsnew/3.8.html#socket"
      ],
      "metadata": {
        "id": "A30-3VkGIhI0"
      }
    },
    {
      "cell_type": "code",
      "source": [
        "#Server socket methods\n",
        "  s.bind     # This method binds address hostname, port number to socket\n",
        "  s.listen   # This method setups and start TCP listener\n",
        "  s.accept   # This passively accepts client connection, waiting until connection arrives blocking\n",
        "\n",
        "#Client socket methods\n",
        "  s.connect  # This method actively initiates TCP server connection\n",
        "\n",
        "#General socket methods\n",
        "  s.recv     # This method receives TCP message\n",
        "  s.send     # This method transmits TCP message\n",
        "  s.recvfrom # This method receives UDP message\n",
        "  s.sendto   # This method transmits UDP message\n",
        "  s.close    # This method closes socket\n",
        "  s.gethostname # Returns a hostname"
      ],
      "metadata": {
        "id": "zijbyn35GtCe"
      },
      "execution_count": null,
      "outputs": []
    },
    {
      "cell_type": "markdown",
      "source": [
        "## SERVER"
      ],
      "metadata": {
        "id": "Ey--xe8ji7u3"
      }
    },
    {
      "cell_type": "code",
      "source": [
        "HEADDER =   64  # bytes of mensage comming next\n",
        "PORT    = 5050\n",
        "FORMAT  = \"utf-8\"\n",
        "DISCONNECT_MSG = \"!DISCONECT\"\n",
        "ADDR  = (SERVER,PORT) # tuple to bind  (server->Por)\n",
        "\n",
        "#SERVER =  \"19X.XXX.X.XXX\"           # PUBLIC\n",
        "#SERVER =  \"127.0.1.1\"\n",
        "SERVER  = sk.gethostbyname(sk.gethostname()) # LOCAL\n",
        "#print(type(SERVER))    #  <class 'str'>     ( socket    )\n",
        "\n",
        "       # Scocket  (     Family     Type_Use      )\n",
        "server = sk.socket(  sk.AF_INET, sk.SOCK_STREAM  )\n",
        "server.bind(ADDR)\n",
        "\n",
        "def handle_client( conn, addr):\n",
        "    print(f\"[NEW CONNECTION] {addr} connected\")\n",
        "\n",
        "    connected = True\n",
        "    while connected:         # bloking line of code to remine connected\n",
        "        msg_length = conn.recv(HEADDER).decode(FORMAT)  # first msg = length\n",
        "        if msg_length:                  # if mesage not recive just wait ( int(None) => ERROR)\n",
        "            msg_length = int(msg_length)                    # set length as an int (was string)\n",
        "            msg = conn.recv(msg_length).decode(FORMAT)      # actual message read\n",
        "            if msg == DISCONNECT_MSG:\n",
        "                connected = False\n",
        "            print(f\"[{addr}] {msg}\")                        # we print msg\n",
        "            conn.send(\"Msg received\".encode(FORMAT))\n",
        "\n",
        "    conn.close()                        # socket.close\n",
        "\n",
        "def start ():\n",
        "    server.listen()\n",
        "    print(f\"[LISTENING]server is listeing on {SERVER}\")\n",
        "    while True:\n",
        "        conn,addr = server.accept() #-> (socket object, address info)\n",
        "        \"\"\"             Wait for an incoming connection.\n",
        "        Return a new socket  representing  connection, address of the client.\n",
        "        For IP sockets, the address info is a pair (hostaddr, port).   \"\"\"\n",
        "        tread = trd.Thread(target=handle_client,args=(conn, addr))\n",
        "        \"\"\"         A class that represents a thread of control.\n",
        "        This class can be safely subclassed in a limited fashion. There are two ways\n",
        "        to specify the activity: by passing a callable object to the constructor, or\n",
        "        by overriding the run() method in a subclass.\n",
        "        \"\"\"\n",
        "        tread.start()\n",
        "        print(f\"[ACTIVE CONNECTIONS]{trd.active_count() -1}\")\n",
        "\n",
        "print(\"[SRTARTING] server listens\")\n",
        "start() #START SERVER"
      ],
      "metadata": {
        "id": "riWAuqffIbSN"
      },
      "execution_count": null,
      "outputs": []
    },
    {
      "cell_type": "markdown",
      "source": [
        "## CLIENT"
      ],
      "metadata": {
        "id": "Bh7WgzPvIqGH"
      }
    },
    {
      "cell_type": "code",
      "source": [
        "import socket as sk\n",
        "import threading  as trd\n",
        "\n",
        "# IP = \"192.168.0.100\"    LOCAL IP HA XXX.0.XXX FORMAT\n",
        "\n",
        "HEADDER =   64  # bytes of mensage comming next\n",
        "PORT    = 5050\n",
        "DISCONNECT_MSG = \"!DISCONECT\"\n",
        "#          127.0.1.1\"  localhost\n",
        "SERVER  = sk.gethostbyname(sk.gethostname())\n",
        "\n",
        "FORMAT  = \"utf-8\"\n",
        "ADDR  = (SERVER,PORT) # tuple to bind  (server->Por)\n",
        "\n",
        "client = sk.socket(  sk.AF_INET, sk.SOCK_STREAM  )\n",
        "client.connect(ADDR)\n",
        "\n",
        "def send( msg ):\n",
        "  message = msg.encode(FORMAT)\n",
        "  msg_length = len(message)\n",
        "  send_length = str(msg_length).encode(FORMAT)\n",
        "  padded_sent_length = str(msg_length).encode(FORMAT)\n",
        "  send_length += b' '*(HEADDER-len(send_length))\n",
        "  client.send(send_length)            #   b' ' <class 'bytes'>\n",
        "  client.send(message)\n",
        "  print(client.recv(2040).decode(FORMAT))\n",
        "  \"\"\" fromshare(info) -> socket object\n",
        "        Create a socket object from the bytes object returned by\n",
        "        socket.share(pid) \"\"\"\n",
        "\n",
        "\n",
        "send(\"1\")\n",
        "send(\"2\")\n",
        "send(\"3\")\n",
        "send(\"4\")\n",
        "send( DISCONNECT_MSG )\n",
        "#send( \"Produce warning\" )   # cant send disconnected"
      ],
      "metadata": {
        "id": "5urHNAMAItFg"
      },
      "execution_count": null,
      "outputs": []
    },
    {
      "cell_type": "markdown",
      "source": [
        "https://www.tutorialspoint.com/python_penetration_testing/python_penetration_testing_quick_guide.htm"
      ],
      "metadata": {
        "id": "U0S3Usd5IsuX"
      }
    },
    {
      "cell_type": "markdown",
      "source": [
        "## HTTP"
      ],
      "metadata": {
        "id": "yJakc12Fa1To"
      }
    },
    {
      "cell_type": "markdown",
      "source": [
        "## TCP/UTP - SOCKET"
      ],
      "metadata": {
        "id": "pJjH4sm4a9Kr"
      }
    },
    {
      "cell_type": "markdown",
      "source": [
        "## SCRAPING"
      ],
      "metadata": {
        "id": "kXej1O1Wa5Kp"
      }
    },
    {
      "cell_type": "markdown",
      "source": [
        "# EXTERN LIBS"
      ],
      "metadata": {
        "id": "d5jvJjUXzUO8"
      }
    },
    {
      "cell_type": "markdown",
      "source": [
        "## NUMPY"
      ],
      "metadata": {
        "id": "lmHukwqmytpI"
      }
    },
    {
      "cell_type": "markdown",
      "source": [
        "## MATPLOT"
      ],
      "metadata": {
        "id": "f3UKBEQ9zwsV"
      }
    },
    {
      "cell_type": "markdown",
      "source": [
        "## PANDAS"
      ],
      "metadata": {
        "id": "u6SziWA2zt7p"
      }
    },
    {
      "cell_type": "code",
      "source": [],
      "metadata": {
        "id": "cq3hgZOPVSCG"
      },
      "execution_count": null,
      "outputs": []
    },
    {
      "cell_type": "markdown",
      "source": [
        "## SCIPY"
      ],
      "metadata": {
        "id": "lEDE7xSsyx0K"
      }
    },
    {
      "cell_type": "markdown",
      "source": [
        "## PILOW"
      ],
      "metadata": {
        "id": "QdcLG02rX9Nm"
      }
    },
    {
      "cell_type": "markdown",
      "source": [
        "## SCIKIT-LEARN\n",
        "https://scikit-learn.org/"
      ],
      "metadata": {
        "id": "yUFa1W8xz__W"
      }
    },
    {
      "cell_type": "markdown",
      "source": [
        "## PYTHORCH LEARN"
      ],
      "metadata": {
        "id": "WHZ8PiPZy4LN"
      }
    },
    {
      "cell_type": "markdown",
      "source": [
        "## TENSORFLOW"
      ],
      "metadata": {
        "id": "IBw57WbJ0NXs"
      }
    },
    {
      "cell_type": "code",
      "source": [],
      "metadata": {
        "id": "wmSIgpgjeQy6"
      },
      "execution_count": null,
      "outputs": []
    },
    {
      "cell_type": "markdown",
      "source": [
        "## H2O / MOJO LEARN\n",
        "https://docs.h2o.ai/h2o/latest-stable/h2o-docs/mojo-quickstart.html"
      ],
      "metadata": {
        "id": "_7Ap1J9iy6Qa"
      }
    },
    {
      "cell_type": "markdown",
      "source": [
        "## NETWORKING LIBS"
      ],
      "metadata": {
        "id": "Y2Q1W0edXYJW"
      }
    },
    {
      "cell_type": "code",
      "source": [
        "ntplib: #https://pypi.python.org/pypi/ntplib/\n",
        "diesel: #https://pypi.python.org/pypi/diesel/\n",
        "nmap:   #https://pypi.python.org/pypi/python-nmap\n",
        "scapy:  #https://pypi.python.org/pypi/scapy\n",
        "netifaces:  #https://pypi.python.org/pypi/netifaces\n",
        "netaddr:    #https://pypi.python.org/pypi/netaddr\n",
        "pyopenssl:  #https://pypi.python.org/pypi/pyOpenSSL\n",
        "pygeocoder: #https://pypi.python.org/pypi/pygocoder\n",
        "pyyaml:     #https://pypi.python.org/pypi/PyYAML\n",
        "requests:   #https://pypi.python.org/pypi/requests\n",
        "feedparser: #https://pypi.python.org/pypi/feedparser\n",
        "paramiko:   #https://pypi.python.org/pypi/paramiko/\n",
        "fabric:     #https://pypi.python.org/pypi/Fabric\n",
        "supervisor: #https://pypi.python.org/pypi/supervisor\n",
        "xmlrpclib:  #https://pypi.python.org/pypi/xmlrpclib\n",
        "SOAPpy:     #https://pypi.python.org/pypi/SOAPpy\n",
        "bottlenose: #https://pypi.python.org/pypi/bottlenose\n",
        "construct:  #https://pypi.python.org/pypi/construct/\n",
        "libpcap:    #https://pypi.python.org/pypi/pcap\n",
        "setup tools:#https://pypi.python.org/pypi/setuptools\n",
        "exabgp:     #https://pypi.python.org/pypi/exabgp\n",
        "traixroute: #https://pypi.python.org/pypi/traixroute\n",
        "dronekit:   #https://pypi.python.org/pypi/dronekit\n",
        "dronekit-sitl: #https://pypi.python.org/simple/dronekit-sitl/\n",
        "ryu:        #https://pypi.python.org/pypi/ryu\n",
        "Flask:      #https://pypi.python.org/pypi/Flask\n",
        "smtpd:      #https://pypi.python.org/pypi/secure-smtpd\n",
        "twisted:    #https://pypi.python.org/pypi/Twisted\n",
        "tornado:    #https://pypi.python.org/pypi/tornado\n",
        "dnspython:  #https://pypi.python.org/pypi/dnspython\n",
        "ldap3:      #https://pypi.python.org/pypi/ldap3\n",
        "Eve:        #https://pypi.python.org/pypi/Eve\n",
        "RequestsThrottler: #https://pypi.python.org/pypi/RequestsThrottler\n",
        "PyNSXv:     #https://pypi.python.org/pypi/pynsxv\n",
        "vmware-nsx: #https://pypi.python.org/pypi/vmware-nsx"
      ],
      "metadata": {
        "id": "nJOKrnB0y2Vu"
      },
      "execution_count": null,
      "outputs": []
    },
    {
      "cell_type": "code",
      "source": [
        "#https://www.yeahhub.com/top-7-python-libraries-networking-programming/\n",
        "1. Asyncio \"\"\"– (Python standard library) Asynchronous I/O, event loop, coroutines and tasks.\n",
        "This module provides infrastructure for writing single-threaded\n",
        "concurrent code using coroutines, multiplexing I/O access over\n",
        "sockets and other resources, running network clients and servers,\n",
        "and other related primitives.\n",
        "\n",
        "Official Link – https://docs.python.org/3/library/asyncio.html\n",
        "View on Github – https://github.com/python/cpython/tree/3.6/Lib/asyncio/\n",
        "Latest Version – v3.4\n",
        "Enable the debug mode during development to detect common issues.\n",
        "\"\"\"\n",
        "2. Diesel \"\"\"– Greenlet-based event I/O Framework for Python.\n",
        "It provides a clean API for writing network clients and servers.\n",
        "TCP and UDP supported. It bundles battle-tested clients\n",
        "for HTTP, DNS, Redis, Riak and MongoDB.\n",
        "It makes writing network applications fun.\n",
        "\n",
        "Official Website – http://diesel.io/\n",
        "View on Github – https://github.com/dieseldev/diesel\n",
        "You just need the python-dev package as well as libffi-dev,\n",
        "or your platform’s equivalents to run this Diesel Library.\n",
        "\"\"\"\n",
        "3. Pulsar \"\"\"– Event-driven concurrent framework for Python.\n",
        "Pulsar’s goal is to provide an easy way to build scalable\n",
        "network programs. Pulsar uses the asyncio module from the\n",
        "standard python library and it can be configured to run in\n",
        "multi-processing mode.\n",
        "\n",
        "Official Website – https://docs.pulsarweb.org/en/latest/\n",
        "View on Github – https://github.com/quantmind/pulsar\n",
        "The only dependency to use Pulsar is “multidict“.\n",
        "\"\"\"\n",
        "4. Pyzmq\"\"\" – A Python wrapper for the ZeroMQ message library.\n",
        "This package contains Python bindings for ØMQ. ØMQ is a\n",
        "lightweight and fast messaging implementation. PyZMQ should\n",
        "work with any reasonable version of Python (? 3.4), as well as\n",
        "Python 2.7 and 3.3, as well as PyPy. The Cython backend used\n",
        "by CPython supports libzmq ? 2.1.4 (including 3.2.x and 4.x),\n",
        "but the CFFI backend used by PyPy only supports libzmq ? 3.2.2\n",
        "\n",
        "Official Website – https://pyzmq.readthedocs.io/en/latest/\n",
        "View on Github – https://github.com/zeromq/pyzmq\n",
        "Latest Version – v17.0.0\n",
        "PyZMQ does not support the old libzmq 2 API on PyPy.\n",
        "\n",
        "5. Twisted – An event-driven networking engine.\n",
        "Twisted is an event-driven networking engine written in Python and\n",
        "licensed under the open source ?MIT license. Twisted runs on\n",
        "Python 2 and an ever growing subset also works with Python 3.\n",
        "\n",
        "Official Website – https://twistedmatrix.com/trac/\n",
        "View on Github – https://github.com/twisted/twisted\n",
        "Twisted supports all major system event loops — select (all platforms), poll (most POSIX platforms), epoll (Linux), kqueue (FreeBSD, macOS), IOCP (Windows), and various GUI event loops (GTK+2/3, QT, wxWidgets). Third-party reactors can plug into Twisted, and provide support for additional event loops.\n",
        "\"\"\"\n",
        "6. TxZMQ \"\"\"– Twisted based wrapper for the ZeroMQ message library.\n",
        "TxZMQ allows to integrate easily ØMQ sockets into Twisted event\n",
        "loop (reactor). TxZMQ supports both CPython and PyPy and ØMQ library\n",
        "\n",
        "Official Website – https://pypi.python.org/pypi/txZMQ/\n",
        "View on Github – https://github.com/smira/txZMQ\n",
        "TxZMQ introduces support for general 0MQ sockets by class\n",
        "ZmqConnection that can do basic event loop integration,\n",
        "sending-receiving messages in non-blocking manner, scatter-gather\n",
        "for multipart messages.\n",
        "\"\"\"\n",
        "7. NAPALM\"\"\" – Cross-vendor API to manipulate network devices.\n",
        "NAPALM (Network Automation and Programmability Abstraction Layer\n",
        "with Multivendor support) is a Python library that implements a\n",
        "set of functions to interact with different router vendor devices\n",
        "using a unified API.\n",
        "\n",
        "Official Website – https://napalm.readthedocs.io/en/latest/index.html\n",
        "View on Github – https://github.com/napalm-automation/napalm\"\"\""
      ],
      "metadata": {
        "id": "bU3qaGX6z3jU"
      },
      "execution_count": null,
      "outputs": []
    },
    {
      "cell_type": "code",
      "source": [
        "# @title Libraries\n",
        "\n",
        " aggdraw:   # helps you create anti-aliased drawings.\n",
        " celementtree: #makes working withXML data more efficient and faster.\n",
        " console:   # interface for Windows to create better console applications.\n",
        " effbot:    # collection utilities, including the EffNews RSS  news reader.\n",
        " elementsoap: # create Simple Object Access Protocol (SOAP)\n",
        " #  connections to Web services providers.\n",
        " elementtidy: # create nicer & functional XML tree displays than the standard\n",
        " elementtree: # interact with XML data more efficiently than standard Python allows.\n",
        "» exemaker: # creates an executable program from your Python\n",
        "» ftpparse: # working with FTP sites.\n",
        "» grabscreen: # A library for performing screen captures.\n",
        "» imaging:  #  Python Imaging Library (PIL)image-processing capabilities to the Python interpreter.\n",
        "» pil:      # Binary installers for PIL,  obtaining a good installation for your system easier.\n",
        "» pythondoc: # creating documentation from the comments in your Python code like JavaDoc.\n",
        "» squeeze:  #  convert your Python application contained in multiple files into a one\n",
        "» tkinter3000: # widget-building library for Python  create controls, buttons, to use in GUI"
      ],
      "metadata": {
        "id": "D9U2yjrP43cM"
      },
      "execution_count": null,
      "outputs": []
    },
    {
      "cell_type": "markdown",
      "source": [
        "# MARMEID DIAGRAMS\n",
        "\n",
        "\n",
        "\n",
        "\n",
        "\n",
        "\n",
        "https://mermaid.live/edit\n",
        "\n",
        " ![mermaid.jpg](https://i.imgur.com/iZNTs1u.jpg)"
      ],
      "metadata": {
        "id": "_gZvypPOc7G6"
      }
    },
    {
      "cell_type": "code",
      "source": [
        "# pip install python_mermaid\n",
        "\n",
        "from python_mermaid.diagram import (\n",
        "    MermaidDiagram,\n",
        "    Node,\n",
        "    Link\n",
        ")\n",
        "\n",
        "# Family members\n",
        "meg    = Node(\"Meg\")\n",
        "jo     = Node(\"Jo\")\n",
        "beth   = Node(\"Beth\")\n",
        "amy    = Node(\"Amy\")\n",
        "robert = Node(\"Robert March\")\n",
        "\n",
        "the_march_family = [meg, jo, beth, amy, robert]\n",
        "\n",
        "# Create links\n",
        "family_links = [\n",
        "    Link(robert, meg ),\n",
        "    Link(robert, jo  ),\n",
        "    Link(robert, beth),\n",
        "    Link(robert, amy ),\n",
        "]\n",
        "\n",
        "chart = MermaidDiagram(\n",
        "    title = \"Little Women\",\n",
        "    nodes = the_march_family,\n",
        "    links = family_links\n",
        ")\n",
        "\n",
        "print(chart)"
      ],
      "metadata": {
        "id": "b6fYWzt5eTCE"
      },
      "execution_count": null,
      "outputs": []
    },
    {
      "cell_type": "markdown",
      "source": [
        "## ERASER.IO\n",
        "\n",
        "https://app.eraser.io/\n",
        "\n",
        "![asd](https://i.imgur.com/lvEGznB.jpg)\n"
      ],
      "metadata": {
        "id": "cEdqOcjP51xv"
      }
    },
    {
      "cell_type": "markdown",
      "source": [
        "# MARKDOWN & DOCUMENTATION\n",
        "\n",
        "LEARN\n",
        "https://www.w3schools.io/file/markdown-links/\n",
        "https://www.markdownguide.org/basic-syntax/\n",
        "\n",
        "book https://bookdown.org/yihui/rmarkdown/\n",
        "\n",
        "DIAGRAMS\n",
        "\n",
        "Mermeid : https://mermaid.live/edit  DOCS https://mermaid.js.org/syntax/flowchart.html\n",
        "\n",
        "Eraser.io :https://app.eraser.io/dashboard/all DOCS https://docs.eraser.io/docs/cloud-architecture-diagrams\n",
        "\n",
        "Draw.IO https://app.diagrams.net/"
      ],
      "metadata": {
        "id": "BAFddIlXqEil"
      }
    },
    {
      "cell_type": "markdown",
      "source": [
        "```mermaid\n",
        "graph TD;\n",
        "   subgraph BROWSER\n",
        "      DOM\n",
        "      JavaScript\n",
        "      Parse_Remorse\n",
        "         end\n",
        "\n",
        "   subgraph DJANGO_SERVER\n",
        "      subgraph MVC\n",
        "            Routing --> Views\n",
        "            Views --> Models\n",
        "      end\n",
        "      Routing --> urls.py\n",
        "      Views --> views.py\n",
        "      Views --> forms.py\n",
        "      Views --> templates\n",
        "      Models--> DATA_BASE\n",
        "   end\n",
        "   BROWSER --> GET --> DJANGO_SERVER\n",
        "```"
      ],
      "metadata": {
        "id": "eGNTiUUgc7DS"
      }
    },
    {
      "cell_type": "code",
      "source": [
        "#  MARKDOWN TO PDF\n",
        "# https://md-to-pdf.fly.dev/\n",
        "# https://md2pdf.netlify.app/\n",
        "#\n",
        "# GUIDE\n",
        "#\n",
        "#\n",
        "# VS_code previer\n",
        "# markdown-preview-enhanced  https://github.com/shd101wyy/markdown-preview-enhanced"
      ],
      "metadata": {
        "id": "_Db1MMoFVLVA"
      },
      "execution_count": null,
      "outputs": []
    },
    {
      "cell_type": "markdown",
      "source": [
        "<style> r { color: Red }\n",
        "        o { color: Orange }\n",
        "        g { color: Green }\n",
        "        b { color: Blue }\n",
        "        v { color: Violet}\n",
        "</style>\n",
        "<v>\n",
        "##  IS THIS RED ? <v>\n",
        "\n",
        "<v> Is it violet ? <v>"
      ],
      "metadata": {
        "id": "DH_7MVdVvZGD"
      }
    },
    {
      "cell_type": "markdown",
      "source": [
        "<v>\n",
        "##  THIS MUST BE RED  <v>\n",
        "\n",
        "<v> It must be violet <v>"
      ],
      "metadata": {
        "id": "KwZUV31yv4xq"
      }
    },
    {
      "cell_type": "code",
      "source": [
        "#@title    @title @markdown @markdown  #"
      ],
      "metadata": {
        "id": "HpGMSQNesWJj"
      },
      "execution_count": null,
      "outputs": []
    },
    {
      "cell_type": "markdown",
      "source": [
        "\n",
        "## link\n",
        "# BIGER but no link\n",
        "$$  \\int f(x) \\,d x = F(x)  $$\n",
        "$$   f(x)=1/ x^2  \\,=> \\,d f(x)/\\,dx = ...  $$\n",
        "\n",
        "|one|2|3| four|\n",
        "|:-:|:-:|:-:|:-:|  \n",
        "|one |2 |3 | four|   \n",
        "use 2 enters or this will happen\n",
        "\n",
        "---\n",
        "\n",
        "|one |two |tree | four|\n",
        "|:--:|:--:|:---:|:---:|\n",
        "|one |two |treeeeeeeeee | four|\n",
        "|oneeeeeeee |two |tree | four|\n",
        "|||||\n",
        "|one |two |tree | four|\n",
        "\n",
        "    asd asd\n",
        "    asd\n",
        "> asd . . . . . .\n",
        "1 .a\n",
        "1. a\n",
        "* a\n",
        "  - b\n",
        "    + c\n",
        "\n",
        "* asd\n",
        "  1. a\n",
        "    2. b\n",
        "      3. c\n",
        "      * s\n",
        "              asd\n",
        "* a\n",
        "- b\n",
        "+ c\n",
        "\n",
        "<span style=\"color:red\">\n",
        "  some *red* text\n",
        "</span>\n",
        "\n",
        "<style> r { color: Red }\n",
        "        o { color: Orange }\n",
        "        g { color: Green }\n",
        "        b { color: Blue }\n",
        "        v { color: Violet}\n",
        "</style>\n",
        "\n",
        "- <r>TODO:</r> Important thing to do\n",
        "- <o>TODO:</o> Less important thing\n",
        "- <g>DONE:</g> Breath deeply\n",
        "\n",
        "```\n",
        "set.add(elmnt)\t    # Adds an element\n",
        "```\n",
        "\n"
      ],
      "metadata": {
        "id": "td2SuZV3kabC"
      }
    },
    {
      "cell_type": "markdown",
      "source": [
        "# BASH & Linux  GPP\n",
        "Linux + OpenSouece Software https://www.linuxlinks.com/best-free-open-source-software-documentation/\n",
        "\n",
        "\n",
        "\n",
        "\n",
        "Linux Doc Proj : https://tldp.org/guides.html . . .\n",
        " https://linux.die.net/\n",
        "\n",
        "PyGCC https://gcc-python-plugin.readthedocs.io/en/master/\n",
        "\n",
        "\n",
        "\n",
        "C & GCC https://www.it.uc3m.es/pbasanta/asng/course_notes/index_es.html\n",
        "\n",
        "GPP (generic) https://math.berkeley.edu/~auroux/software/gpp.html\n",
        "\n",
        "C https://www.gnu.org/software/gnu-c-manual/gnu-c-manual.html#SEC_Contents\n",
        "\n",
        "GCC https://gcc.gnu.org/onlinedocs/gcc-4.1.1/cpp/Invocation.html#Wtrigraphs"
      ],
      "metadata": {
        "id": "BO5ytbWYM_M-"
      }
    },
    {
      "cell_type": "markdown",
      "source": [
        "https://tldp.org/guides.html"
      ],
      "metadata": {
        "id": "2BvLw4jJdn5w"
      }
    },
    {
      "cell_type": "code",
      "source": [
        "# @title LINUX KEY COMMANDS\n",
        "#  https://tldp.org/REF/Joe-Command-Reference/index.html\n",
        "\n",
        "The ^ represents the control Key\n",
        "\n",
        "  Use ^KH to get help then esc and , and . to back and forward respectively.\n",
        "\n",
        "CURSOR :    ^B Left     ^F Right      ^P Up\n",
        "            ^N Down     ^Z Prev Word  ^X Next Word\n",
        "\n",
        "SEARCH :    ^KF find Text        ^L Find Next\n",
        "\n",
        "GO TO : ^U Prev. Screen       ^V Next Screen      ^A Beginning of line  ^E End of Line\n",
        "        ^KU Top of file       ^KV End of File     ^KL To Line Number\n",
        "\n",
        "BLOCK :  ^KB Begin    ^KK End       ^KM Move\n",
        "         ^KC Copy     ^KW File      ^KY Delete     ^K/ Filter\n",
        "\n",
        "DELETE : ^D Character  ^Y Line       ^W >Word\n",
        "         ^O Word       < ^_ Undo     ^^ redo       ^j >Line\n",
        "\n",
        "MISC  :  ^KJ Reformat  ^T Options    ^R Refresh      ^@ Insert\n",
        "\n",
        "SPELL :  ^[N Word      ^[L File\n",
        "\n",
        "EXIT  :  ^KX Save and Exit   ^C Abort ^KZ Shell\n",
        "\n",
        "FILE  :  ^KE Edit    ^KR Insert    ^KD Save\n",
        "    ^KO  Split Window in Half ^KE Load file into window\n",
        "    ^KG  Make Current Window Bigger ^KT Make Current Window Smaller\n",
        "    ^KN  Go to the window below ^KP Go to window above\n",
        "    ^C   Eliminate Current Window ^KI Show All / One Window\n",
        "\n",
        "MACROS :   ^K[ 0-9 Record  ^K] Stop   ^K 0-9 Play\n",
        "          ^K? Query       ^[D Dump\n",
        "\n",
        "MISC :  ^K Space status   ^K\\ Repeat ^K[M Math\n",
        "        ^KA Center Line   ^[H Message\n",
        "\n",
        "SCROLL  :  ^[W Up  ^[Z Down   ^K< Left  ^K> Right\n",
        "\n",
        "SHELL   :  ^K' Window ^[! Command\n",
        "\n",
        "QUOTE   :  ' Ctrl- ^\\ Meta-\n",
        "\n",
        "GOTO    :  ^[B To^KB   ^[K To ^KK\n",
        "\n",
        "DELETE  :   ^[Y Yank ^[O Line<\n",
        "\n",
        "I-SEARCH :  ^[R Backwards ^[S Forwards\n",
        "\n",
        "BOOKMARKS :   ^[ 0-9 Goto ^[^[ Set\n",
        "\n",
        "[B GOTO  :  ^G Matching ( [ {     ^K- Previous Place\n",
        "            ^K= Next Place        ^K; Tags file search\n",
        "\n",
        "INDENT   :  ^K, Less ^K. More\n",
        "\n",
        "COMPILING  :  ^[C Compile and parse errors   ^[E Parse errors\n",
        "              ^[= To Next error              ^[- To prev. error\n",
        "\n",
        "SPECIAL SEARCH SEQUENCES :\n",
        "  \\^ \\& Matches Beg./end of Line\n",
        "  \\< \\> Matches beg./end of word\n",
        "  \\c Matches balanced C expression\n",
        "  \\[..] Matches one of a set\n",
        "  \\+ Matches 0 or more of the character which follows the \\+\n",
        "  \\? Match any single character\n",
        "  \\* Matches 0 or more chars\n",
        "  \\\\ Matches a \\\n",
        "  \\n Matches a newline"
      ],
      "metadata": {
        "id": "7k9pTEtUdqv1"
      },
      "execution_count": null,
      "outputs": []
    },
    {
      "cell_type": "markdown",
      "source": [
        "## BASH MANUAL"
      ],
      "metadata": {
        "id": "0qWGYF0vOgQC"
      }
    },
    {
      "cell_type": "code",
      "source": [
        " man man # show linux manual seccions\n",
        " '''   1   Executable programs or shell commands\n",
        "       2   System calls (functions provided by the kernel)\n",
        "       3   Library calls (functions within program libraries)\n",
        "       4   Special files (usually found in /dev)\n",
        "       5   File formats and conventions, e.g. /etc/passwd\n",
        "       6   Games\n",
        "       7   Miscellaneous (including  macro  packages  and  conventions),  e.g.\n",
        "           man(7), groff(7), man-pages(7)\n",
        "       8   System administration commands (usually only for root)\n",
        "       9   Kernel routines [Non standard]  '''\n",
        " man 2 man  # Acces secction 2\n",
        " man cat    # manual for command\n",
        " man python # manual for language\n",
        " man gcc    # manual for compiler\n",
        " man bash   # manual for terminal"
      ],
      "metadata": {
        "id": "mxNnf2E1Oj3b"
      },
      "execution_count": null,
      "outputs": []
    },
    {
      "cell_type": "code",
      "source": [
        "https://www.shell-tips.com/bash/arrays/#gsc.tab=0"
      ],
      "metadata": {
        "id": "YiwUClFmTdYU"
      },
      "execution_count": null,
      "outputs": []
    },
    {
      "cell_type": "markdown",
      "source": [
        "Using the terminal is faster if you jnow thw sections and commands\n",
        "\n",
        "But searching in this web myhth be easyer https://man7.org/linux/man-pages/index.html"
      ],
      "metadata": {
        "id": "X5q092GqSFrm"
      }
    },
    {
      "cell_type": "code",
      "source": [
        "LINUX BOOK # https://eng.libretexts.org/Bookshelves/Computer_Science/Operating_Systems/Linux_-_The_Penguin_Marches_On_(McClanahan)\n",
        " BASH      # https://eng.libretexts.org/Bookshelves/Computer_Science/Operating_Systems/Linux_-_The_Penguin_Marches_On_(McClanahan)/13%3A_Working_with_Bash_Scripts"
      ],
      "metadata": {
        "id": "ZWYfD26Z7Ofp"
      },
      "execution_count": null,
      "outputs": []
    },
    {
      "cell_type": "code",
      "source": [
        "# https://chat.openai.com/c/a7c31756-9b8d-4c9e-8292-f3d62ad50881\n",
        "\n",
        "File and Directory Management:\n",
        "cd: # Change directory.\n",
        "ls: # List directory contents.\n",
        "mv: # Move or rename files and directories.\n",
        "rm: # Remove files or directories.\n",
        "mkdir: # Create directories.\n",
        "cp: # Copy files and directories.\n",
        "touch: # Create empty files.\n",
        "pwd: # Print working directory.\n",
        "\n",
        "File Manipulation:\n",
        "cat: # Concatenate and display file content.\n",
        "less / more: # Display file contents page by page.\n",
        "head: # Display the beginning of a file.\n",
        "tail: # Display the end of a file.\n",
        "nano / vim / emacs: #Text editors for file editing.\n",
        "grep: # Search text using regular expressions.\n",
        "find: # Search for files and directories.\n",
        "sort: # Sort lines in text files.\n",
        "diff: # Compare files line by line.\n",
        "\n",
        "System Information:\n",
        "ifconfig or ip: #Display network configuration.\n",
        "ps: # List running processes.\n",
        "top / htop: # Display real-time system resource usage.\n",
        "free: # Display memory usage.\n",
        "df: # Display disk space usage.\n",
        "uname: # Display system information.\n",
        "\n",
        "Text Processing:\n",
        "sed: # Stream editor for text manipulation.\n",
        "awk: # Text processing tool for pattern matching.\n",
        "cut: # Remove sections from lines of files.\n",
        "tr: # Translate or delete characters.\n",
        "sort: # Sort lines of text files.\n",
        "wc: # Word, line, character, and byte count.\n",
        "\n",
        "Archiving and Compression:\n",
        "tar: # Archive files.\n",
        "zip / unzip: # Compress and decompress files in ZIP format.\n",
        "gzip / gunzip: # Compress and decompress files in GZIP format.\n",
        "\n",
        "Package Management:\n",
        "apt / yum: # Package managers for Linux systems.\n",
        "dpkg (Debian-based) / rpm (Red Hat-based):#  Package management utilities.\n",
        "\n",
        "Shell Scripting:\n",
        "sh:   # Execute shell scripts.\n",
        "bash: # Execute Bash scripts.\n",
        "chmod:# Change file permissions.\n",
        "source or .: # Execute commands from a file.\n",
        "\n",
        "Networking:\n",
        "ping: # Send ICMP echo requests to test network connectivity.\n",
        "curl or wget:# Download files from the internet.\n",
        "ssh: # Securely access remote systems.\n",
        "scp: # Securely copy files between systems.\n",
        "netstat: # Display network statistics.\n",
        "\n",
        "Version Control:\n",
        "git: # Version control system for tracking changes in files.\n",
        "\n",
        "Process Control:\n",
        "kill: # Terminate processes by process ID.\n",
        "nohup: # Run a command immune to hangups.\n",
        "bg and fg: # Manage background and foreground jobs.\n",
        "jobs: # List active jobs.\n",
        "\n",
        "System Maintenance:\n",
        "reboot and shutdown: # Restart or power off the system.\n",
        "passwd:  # Change user passwords."
      ],
      "metadata": {
        "id": "tTtzzwVtJb1m"
      },
      "execution_count": null,
      "outputs": []
    },
    {
      "cell_type": "markdown",
      "source": [
        "SYSTEM COMMANDS"
      ],
      "metadata": {
        "id": "QWsJS1Q9SMxJ"
      }
    },
    {
      "cell_type": "code",
      "source": [
        " cd #\n",
        " ls #\n",
        "\n",
        " cp # copy\n",
        " mv # movr\n",
        " rm # remove\n",
        " cat # concat (append)\n",
        " chmod #\n",
        " date  cal id  curl ip\n",
        "grep    mount   unmount touch\n",
        "mkdir   bash    nano    wait\n",
        "rmdir   find    locate  whereis\n",
        "systemcall # https://man7.org/linux/man-pages/man2/syscalls.2.html"
      ],
      "metadata": {
        "id": "8npiDMDDSG1g"
      },
      "execution_count": null,
      "outputs": []
    },
    {
      "cell_type": "markdown",
      "source": [
        "    SCRIPTING"
      ],
      "metadata": {
        "id": "vOm2ePaTOizk"
      }
    },
    {
      "cell_type": "code",
      "source": [
        "# https://www.shell-tips.com/bash/arrays\n",
        "https://www.shellscript.sh/wildcards.html\n",
        "#   THIS IS A COMMENT\n",
        "\n",
        "echo echo is to print\n",
        "###########   ARGUMENTS      ########################\n",
        "arg1=$1                      #  ARG=$position  -\n",
        "arg2=$2\n",
        "###########   VARIABLE      ########################\n",
        "day=\"Monday\"                  #  VAR=\"value\"  --> ASIGN\n",
        "\n",
        "echo arguments were $1 and $2 # ... $VAR   -->  USE\n",
        "echo write your name\n",
        "#read NAME                     # read VAR   -->  INPUR\n",
        "echo your name is $NAME\n",
        "sleep 2                       # wait 2 seconds for user to see\n",
        "echo isnt it?\n",
        "sleep 0.2\n",
        "\n",
        "###########  LOOPS      ########################\n",
        "for VAR in  {1..10..2}  #  {1..10..2}  1 3 5 7 9\n",
        "  do                    #  {1..3}      1 2 3\n",
        "  #  echo $VAR\n",
        "  sleep 0.01\n",
        "  done\n",
        "\n",
        "for I in  2 0 3 :\n",
        "    do\n",
        "    for J in  {a..d}    # 2+a  2+b   2+c ....\n",
        "        do              # 0+a  0+b   0+c ....\n",
        "    #    echo $I+$J      # 3+a  3+b   3+c ....\n",
        "         sleep 0.01\n",
        "        done\n",
        "    done\n",
        "###########  COMMAND SAVE     ########################\n",
        "where=$(pwd) #  save directory to return later\n",
        "\n",
        "echo we were in $whare\n",
        "cd ..  # we go parent\n",
        "pwd            #print as nroove\n",
        "cd $where # we return\n",
        "echo we return\n",
        "pwd             #print as nroove\n",
        "\n",
        "##########  SEGMENT STRINGS     ########################\n",
        "user=$(whoami)                # COMMAND OUTPUT STORE\n",
        "date=$(date)\n",
        "echo $day ? let me correct    # lets get the Day from Datey\n",
        "day=$date | awk '{print $1}'  # use awk to select first word\n",
        "echo today is $day... $date   # | pases putput of date to awk\n",
        "# note the use of $1 as first argument\n",
        "\n",
        "###########  LOCAL VALUES     ########################\n",
        "echo $RANDOM%2 lucky number\n",
        "echo $SHELL\n",
        "echo $PWR\n",
        "echo $USER\n",
        "echo $HOSTNAME\n",
        "###########  CHILD PROCESS     ########################\n",
        "### FOM PARENT PROCESS\n",
        "const_name=\"value\"\n",
        "export const_name   # now can be used by its child process\n",
        "\n",
        "bash 'echo $const_name' # test it\n",
        "\n",
        "echo $\n",
        "\n",
        "###########  CONDITIONAL     ########################\n",
        "[[ condition ]] && echo \"True\"  || echo \"False\"\n",
        "\n",
        "number=5\n",
        "if [ -z \"${number//[0-9]}\" ]\n",
        "then\n",
        "    if [ -n \"$number\" ]\n",
        "    then\n",
        "        echo \"$0 - integers found.\"\n",
        "    fi\n",
        "else\n",
        "    echo \"$0 - integers NOT found.\"\n",
        "fi\n",
        "###########  MATH     ########################\n",
        "echo $(( (2+2*2) / 3 ));\n",
        "x=3; y=$((x+2)); echo $y\n",
        "\n",
        "\n",
        "# echo 'print(2+2)' >temp.py    PYTHON\n",
        "# python3 temp.py | echo\n",
        "# rm temporal.py"
      ],
      "metadata": {
        "id": "Bx-bNn39M_iO"
      },
      "execution_count": null,
      "outputs": []
    }
  ],
  "metadata": {
    "kernelspec": {
      "display_name": "Python 3",
      "name": "python3"
    },
    "language_info": {
      "codemirror_mode": {
        "name": "ipython",
        "version": 3
      },
      "file_extension": ".py",
      "mimetype": "text/x-python",
      "name": "python",
      "nbconvert_exporter": "python",
      "pygments_lexer": "ipython3",
      "version": "3.10.12"
    },
    "orig_nbformat": 4,
    "colab": {
      "provenance": [],
      "toc_visible": true
    }
  },
  "nbformat": 4,
  "nbformat_minor": 0
}